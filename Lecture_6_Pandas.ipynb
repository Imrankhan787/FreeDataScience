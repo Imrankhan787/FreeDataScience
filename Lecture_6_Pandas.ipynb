{
 "cells": [
  {
   "cell_type": "markdown",
   "id": "53463d6c",
   "metadata": {},
   "source": [
    "## Merging dataframes\n",
    "\n",
    "A primary key and a foreign key are two important concepts that define the **relationships** between dataframes.\n",
    "\n",
    "### Primary Key:\n",
    "A primary key is a **unique identifier** for each row in a table. It ensures that *every row in the table can be uniquely identified using its primary key value*. In pandas DataFrames, the primary key is a column or a combination of columns that have unique values for each row and do not contain any null values. The primary key is used to  establish relationships with other tables (dataframes) through foreign keys.\n",
    "\n",
    "For example, in a DataFrame representing a list of students in a school, the \"Student ID\" column could serve as a primary key since each student has a unique ID, and no two students share the same ID.\n",
    "\n",
    "### Foreign Key:\n",
    "A foreign key is a column or a group of columns in a table that refers to the primary key of another table. It establishes a link between two tables, creating a relationship between them. The foreign key in one table helps to identify and access the corresponding rows in another related table.\n",
    "\n"
   ]
  },
  {
   "cell_type": "code",
   "execution_count": 13,
   "id": "94a1aa6a",
   "metadata": {},
   "outputs": [
    {
     "name": "stdout",
     "output_type": "stream",
     "text": [
      "   Student_ID     Name  Age\n",
      "0           1    Alice   20\n",
      "1           2      Bob   22\n",
      "2           3  Charlie   21\n",
      "3           4    David   19\n",
      "4           5      Eve   23\n"
     ]
    }
   ],
   "source": [
    "import pandas as pd\n",
    "\n",
    "# Create the Students DataFrame\n",
    "students_data = {\n",
    "    'Student_ID': [1, 2, 3, 4, 5],\n",
    "    'Name': ['Alice', 'Bob', 'Charlie', 'David', 'Eve'],\n",
    "    'Age': [20, 22, 21, 19, 23]\n",
    "}\n",
    "\n",
    "students_df = pd.DataFrame(students_data)\n",
    "print(students_df)"
   ]
  },
  {
   "cell_type": "code",
   "execution_count": 14,
   "id": "0c30f93e",
   "metadata": {},
   "outputs": [
    {
     "name": "stdout",
     "output_type": "stream",
     "text": [
      "   Student_ID       Course_Name  Enrollment_ID\n",
      "0           1              Math            101\n",
      "1           2           Science            102\n",
      "2           1           History            103\n",
      "3           3           English            104\n",
      "4           4  Computer Science            105\n",
      "5           5        Statistics            106\n"
     ]
    }
   ],
   "source": [
    "# Create the Course Enrollments DataFrame\n",
    "enrollments_data = {\n",
    "    'Student_ID': [1, 2, 1, 3, 4, 5],\n",
    "    'Course_Name': ['Math', 'Science', 'History', 'English', 'Computer Science', \"Statistics\"],\n",
    "    'Enrollment_ID': [101, 102, 103, 104, 105, 106]\n",
    "}\n",
    "\n",
    "enrollments_df = pd.DataFrame(enrollments_data)\n",
    "print(enrollments_df)"
   ]
  },
  {
   "cell_type": "markdown",
   "id": "15d4d23d",
   "metadata": {},
   "source": [
    "## *How to check whether the \"student_ID\" is a primary key in the \"students_df\"?*\n",
    "\n",
    "The column or group of columns must satisfy the two conditions in order to act as a primary key\n",
    "\n",
    "- **There must not be any missing value in the column (or group of columns).**\n",
    "- **The number of unique values in the column (or group of columns) must be equal to total number of rows in the dataframe.**"
   ]
  },
  {
   "cell_type": "code",
   "execution_count": 4,
   "id": "dfa455d4",
   "metadata": {},
   "outputs": [
    {
     "data": {
      "text/plain": [
       "True"
      ]
     },
     "execution_count": 4,
     "metadata": {},
     "output_type": "execute_result"
    }
   ],
   "source": [
    "# Check for null values: The column having missing values (NaN) cannot be a primary key\n",
    "students_df[\"Student_ID\"].notnull().all()"
   ]
  },
  {
   "cell_type": "code",
   "execution_count": 5,
   "id": "0baf417e",
   "metadata": {},
   "outputs": [
    {
     "data": {
      "text/plain": [
       "True"
      ]
     },
     "execution_count": 5,
     "metadata": {},
     "output_type": "execute_result"
    }
   ],
   "source": [
    "# Check for uniqueness\n",
    "students_df[\"Student_ID\"].nunique() == len(students_df)"
   ]
  },
  {
   "cell_type": "markdown",
   "id": "8bc6fa88",
   "metadata": {},
   "source": [
    "## *How to check whether the Student_ID is a foreign key in enrollments_df?*\n",
    "\n",
    "The column or group of columns must satisfy the three conditions in order to act as a foreign key\n",
    "\n",
    "- **There must not be any missing value in the column (or group of columns).**\n",
    "- **All the values in the foreign key column of one dataframe must exist in the primary key column of the other dataframe.**\n",
    "- **The number of unique values in the foreign key column of one dataframe must be equal to the total number of rows of the other dataframe.**"
   ]
  },
  {
   "cell_type": "code",
   "execution_count": 15,
   "id": "14613c19",
   "metadata": {},
   "outputs": [
    {
     "data": {
      "text/plain": [
       "True"
      ]
     },
     "execution_count": 15,
     "metadata": {},
     "output_type": "execute_result"
    }
   ],
   "source": [
    "enrollments_df[\"Student_ID\"].notnull().all()"
   ]
  },
  {
   "cell_type": "code",
   "execution_count": 17,
   "id": "a85d1447",
   "metadata": {},
   "outputs": [
    {
     "data": {
      "text/plain": [
       "True"
      ]
     },
     "execution_count": 17,
     "metadata": {},
     "output_type": "execute_result"
    }
   ],
   "source": [
    "## Check if all values in the foreign key column exist in the primary key column of the students DataFrame\n",
    "enrollments_df[\"Student_ID\"].isin(students_df[\"Student_ID\"]).all()"
   ]
  },
  {
   "cell_type": "code",
   "execution_count": 10,
   "id": "763c85ea",
   "metadata": {},
   "outputs": [
    {
     "data": {
      "text/plain": [
       "True"
      ]
     },
     "execution_count": 10,
     "metadata": {},
     "output_type": "execute_result"
    }
   ],
   "source": [
    "enrollments_df[\"Student_ID\"].nunique() == len(students_df[\"Student_ID\"])"
   ]
  },
  {
   "cell_type": "markdown",
   "id": "8f43665d",
   "metadata": {},
   "source": [
    "# *Primary key and foreign key is a group of column**"
   ]
  },
  {
   "cell_type": "code",
   "execution_count": 18,
   "id": "c9d68866",
   "metadata": {},
   "outputs": [
    {
     "name": "stdout",
     "output_type": "stream",
     "text": [
      "  Country  Year    GDP  Population\n",
      "0     USA  2020  21.43      331.00\n",
      "1     USA  2021  22.67      334.00\n",
      "2  Canada  2020   1.64       38.00\n",
      "3  Canada  2021   1.73       39.00\n",
      "4   India  2020   2.60        1.38\n",
      "5   India  2021   2.87        1.40\n"
     ]
    }
   ],
   "source": [
    "# Create the Country Statistics DataFrame\n",
    "country_stats_data = {\n",
    "    'Country': ['USA', 'USA', 'Canada', 'Canada', 'India', 'India'],\n",
    "    'Year': [2020, 2021, 2020, 2021, 2020, 2021],\n",
    "    'GDP': [21.43, 22.67, 1.64, 1.73, 2.60, 2.87],\n",
    "    'Population': [331, 334, 38, 39, 1.38, 1.40]\n",
    "}\n",
    "\n",
    "country_stats_df = pd.DataFrame(country_stats_data)\n",
    "print(country_stats_df)"
   ]
  },
  {
   "cell_type": "code",
   "execution_count": 19,
   "id": "c3fd4d8a",
   "metadata": {},
   "outputs": [
    {
     "name": "stdout",
     "output_type": "stream",
     "text": [
      "   Event ID Country  Year Event Name\n",
      "0       101     USA  2021   Election\n",
      "1       102  Canada  2020       Expo\n",
      "2       103   India  2021   Festival\n",
      "3       104     USA  2020          A\n",
      "4       105  Canada  2021          B\n",
      "5       106     USA  2020  Tech year\n"
     ]
    }
   ],
   "source": [
    "# Create the Events DataFrame\n",
    "events_data = {\n",
    "    'Event ID': [101, 102, 103, 104, 105, 106],\n",
    "    'Country': ['USA', 'Canada', 'India', 'USA', 'Canada', 'USA' ],\n",
    "    'Year': [2021, 2020, 2021, 2020, 2021, 2020],\n",
    "    'Event Name': ['Election', 'Expo', 'Festival', \"A\", \"B\",\"Tech year\"]\n",
    "}\n",
    "\n",
    "events_df = pd.DataFrame(events_data)\n",
    "print(events_df)"
   ]
  },
  {
   "cell_type": "markdown",
   "id": "8b6ba651",
   "metadata": {},
   "source": [
    "## *How to check whether the group of columns (Country, year) is a primary key in country_stats_df?*"
   ]
  },
  {
   "cell_type": "code",
   "execution_count": 20,
   "id": "6e40e56f",
   "metadata": {},
   "outputs": [
    {
     "data": {
      "text/plain": [
       "True"
      ]
     },
     "execution_count": 20,
     "metadata": {},
     "output_type": "execute_result"
    }
   ],
   "source": [
    "## How to check whether the composite key is a primary key in country_stats_df?\n",
    "country_stats_df[[\"Country\",\"Year\"]].duplicated().sum() == 0"
   ]
  },
  {
   "cell_type": "code",
   "execution_count": 30,
   "id": "7073c788",
   "metadata": {},
   "outputs": [
    {
     "data": {
      "text/plain": [
       "True"
      ]
     },
     "execution_count": 30,
     "metadata": {},
     "output_type": "execute_result"
    }
   ],
   "source": [
    "## There should not be any null value in the composite key\n",
    "country_stats_df[[\"Country\",\"Year\"]].notnull().all(axis = 1).all()"
   ]
  },
  {
   "cell_type": "markdown",
   "id": "ff8e45f5",
   "metadata": {},
   "source": [
    "## *How to check whether the group of columns (Country, year) in events_df is a foreign key for country_stats_df?*"
   ]
  },
  {
   "cell_type": "code",
   "execution_count": 21,
   "id": "92006d5b",
   "metadata": {},
   "outputs": [
    {
     "data": {
      "text/plain": [
       "True"
      ]
     },
     "execution_count": 21,
     "metadata": {},
     "output_type": "execute_result"
    }
   ],
   "source": [
    "## There should not be any null value in the composite key\n",
    "events_df[[\"Country\",\"Year\"]].notnull().all(axis = 1).all()"
   ]
  },
  {
   "cell_type": "code",
   "execution_count": 45,
   "id": "2fe5fa49",
   "metadata": {},
   "outputs": [
    {
     "data": {
      "text/plain": [
       "False"
      ]
     },
     "execution_count": 45,
     "metadata": {},
     "output_type": "execute_result"
    }
   ],
   "source": [
    "## The unique values of the group of columns in one dataframe must be equal to the unique values of the same group of columns in other dataset.\n",
    "sum(~events_df[[\"Country\",\"Year\"]].duplicated()) == sum(~country_stats_df[[\"Country\" , \"Year\"]].duplicated())"
   ]
  },
  {
   "cell_type": "code",
   "execution_count": 51,
   "id": "d007ea1b",
   "metadata": {},
   "outputs": [
    {
     "data": {
      "text/plain": [
       "[('USA', 2020),\n",
       " ('USA', 2021),\n",
       " ('Canada', 2020),\n",
       " ('Canada', 2021),\n",
       " ('India', 2020),\n",
       " ('India', 2021)]"
      ]
     },
     "execution_count": 51,
     "metadata": {},
     "output_type": "execute_result"
    }
   ],
   "source": [
    "list_of_tuples_country_Stats_df = [(x, y) for x, y in zip(country_stats_df[\"Country\"], country_stats_df[\"Year\"])]\n",
    "list_of_tuples_country_Stats_df"
   ]
  },
  {
   "cell_type": "code",
   "execution_count": 52,
   "id": "6bbb9dce",
   "metadata": {},
   "outputs": [
    {
     "data": {
      "text/plain": [
       "[('USA', 2021),\n",
       " ('Canada', 2020),\n",
       " ('India', 2021),\n",
       " ('USA', 2020),\n",
       " ('Canada', 2021),\n",
       " ('USA', 2020)]"
      ]
     },
     "execution_count": 52,
     "metadata": {},
     "output_type": "execute_result"
    }
   ],
   "source": [
    "list_of_tuples_events_df = [(x, y) for x, y in zip(events_df[\"Country\"], events_df[\"Year\"])]\n",
    "list_of_tuples_events_df"
   ]
  },
  {
   "cell_type": "code",
   "execution_count": 63,
   "id": "6b1e6781",
   "metadata": {},
   "outputs": [
    {
     "name": "stdout",
     "output_type": "stream",
     "text": [
      "Tuple exist\n",
      "Tuple exist\n",
      "Tuple exist\n",
      "Tuple exist\n",
      "Tuple doesnot exist\n",
      "Tuple exist\n"
     ]
    }
   ],
   "source": [
    "for country_stats_tuple in list_of_tuples_country_Stats_df:\n",
    "    if country_stats_tuple in list_of_tuples_events_df:\n",
    "        print(\"Tuple exist\")\n",
    "    else:\n",
    "        print(\"Tuple doesnot exist\")"
   ]
  },
  {
   "cell_type": "markdown",
   "id": "01777ee7",
   "metadata": {},
   "source": [
    "# **Different types of Merges**"
   ]
  },
  {
   "cell_type": "markdown",
   "id": "2f0dd465",
   "metadata": {},
   "source": [
    "The merge() function is used to combine two DataFrames based on a common column or index. The merge() function is all about adding variables from one dataframe to aonther dataframe. The merge() function provides several types of merges, which determine how the DataFrames are combined and which rows are included in the resulting merged DataFrame.\n",
    "\n",
    "**Inner Merge:**\n",
    "An inner merge (or inner join) combines rows from both DataFrames that have matching values in the specified columns. The resulting DataFrame contains only the rows with common keys in both DataFrames. Rows with non-matching keys are excluded from the final result.\n",
    "\n",
    "**Left Merge:**\n",
    "A left merge (or left join) includes all rows from the left DataFrame and the **matching rows** from the right DataFrame. If there are no matches in the right DataFrame, the missing values are filled with NaN (Not a Number) in the result.\n",
    "\n",
    "**Right Merge:**\n",
    "A right merge (or right join) is similar to the left merge but includes all rows from the right DataFrame and the **matching rows** from the left DataFrame. If there are no matches in the left DataFrame, the missing values are filled with NaN in the result.\n",
    "\n",
    "**Outer Merge:**\n",
    "An outer merge (or outer join) includes all rows from both DataFrames and fills in NaN for non-matching rows. The resulting DataFrame will have all the rows from both DataFrames, and any missing values will be filled with NaN."
   ]
  },
  {
   "cell_type": "code",
   "execution_count": 22,
   "id": "cef3a16b",
   "metadata": {},
   "outputs": [
    {
     "name": "stdout",
     "output_type": "stream",
     "text": [
      "  Key  Value_left\n",
      "0   A          10\n",
      "1   B          20\n",
      "2   C          30\n",
      "3   D          40\n"
     ]
    }
   ],
   "source": [
    "left_data = {\n",
    "    'Key': ['A', 'B', 'C', 'D'],\n",
    "    'Value_left': [10, 20, 30, 40]\n",
    "}\n",
    "\n",
    "left_df = pd.DataFrame(left_data)\n",
    "print(left_df)"
   ]
  },
  {
   "cell_type": "code",
   "execution_count": 23,
   "id": "547423f8",
   "metadata": {},
   "outputs": [
    {
     "name": "stdout",
     "output_type": "stream",
     "text": [
      "  Key  Value_right\n",
      "0   B          200\n",
      "1   C          300\n",
      "2   E          500\n",
      "3   F          600\n"
     ]
    }
   ],
   "source": [
    "right_data = {\n",
    "    'Key': ['B', 'C', 'E', 'F'],\n",
    "    'Value_right': [200, 300, 500, 600]\n",
    "}\n",
    "\n",
    "right_df = pd.DataFrame(right_data)\n",
    "print(right_df)"
   ]
  },
  {
   "cell_type": "markdown",
   "id": "87634c5c",
   "metadata": {},
   "source": [
    "### Inner merge"
   ]
  },
  {
   "cell_type": "code",
   "execution_count": 24,
   "id": "b915ec74",
   "metadata": {},
   "outputs": [
    {
     "name": "stdout",
     "output_type": "stream",
     "text": [
      "  Key  Value_left  Value_right\n",
      "0   B          20          200\n",
      "1   C          30          300\n"
     ]
    }
   ],
   "source": [
    "result_inner = pd.merge(left_df, right_df, on='Key', how='inner')\n",
    "print(result_inner)"
   ]
  },
  {
   "cell_type": "markdown",
   "id": "615ee62b",
   "metadata": {},
   "source": [
    "### Outer merge"
   ]
  },
  {
   "cell_type": "code",
   "execution_count": 24,
   "id": "ffc9b8d8",
   "metadata": {},
   "outputs": [
    {
     "name": "stdout",
     "output_type": "stream",
     "text": [
      "  Key  Value_left  Value_right\n",
      "0   A        10.0          NaN\n",
      "1   B        20.0        200.0\n",
      "2   C        30.0        300.0\n",
      "3   D        40.0          NaN\n",
      "4   E         NaN        500.0\n",
      "5   F         NaN        600.0\n"
     ]
    }
   ],
   "source": [
    "result_outer = pd.merge(left_df, right_df, on='Key', how='outer')\n",
    "print(result_outer)"
   ]
  },
  {
   "cell_type": "markdown",
   "id": "e743fae9",
   "metadata": {},
   "source": [
    "### Right merge"
   ]
  },
  {
   "cell_type": "code",
   "execution_count": 33,
   "id": "246cf365",
   "metadata": {},
   "outputs": [
    {
     "name": "stdout",
     "output_type": "stream",
     "text": [
      "  Key  Value_left  Value_right\n",
      "0   B        20.0          200\n",
      "1   C        30.0          300\n",
      "2   E         NaN          500\n",
      "3   F         NaN          600\n"
     ]
    }
   ],
   "source": [
    "result_right = pd.merge(left_df, right_df, on='Key', how='right')\n",
    "print(result_right)"
   ]
  },
  {
   "cell_type": "markdown",
   "id": "8949adf1",
   "metadata": {},
   "source": [
    "### Left merge"
   ]
  },
  {
   "cell_type": "code",
   "execution_count": 34,
   "id": "115f9eed",
   "metadata": {},
   "outputs": [
    {
     "name": "stdout",
     "output_type": "stream",
     "text": [
      "  Key  Value_left  Value_right\n",
      "0   A          10          NaN\n",
      "1   B          20        200.0\n",
      "2   C          30        300.0\n",
      "3   D          40          NaN\n"
     ]
    }
   ],
   "source": [
    "result_left = pd.merge(left_df, right_df, on='Key', how='left')\n",
    "print(result_left)"
   ]
  },
  {
   "cell_type": "markdown",
   "id": "74f85522",
   "metadata": {},
   "source": [
    "## Concatenation of dataframes horizontally or vertically\n",
    "\n",
    "It simply combines DataFrames along a particular axis."
   ]
  },
  {
   "cell_type": "code",
   "execution_count": 35,
   "id": "fd33797b",
   "metadata": {},
   "outputs": [
    {
     "name": "stdout",
     "output_type": "stream",
     "text": [
      "  Key  Value_left  Value_right\n",
      "0   A        10.0          NaN\n",
      "1   B        20.0          NaN\n",
      "2   C        30.0          NaN\n",
      "3   D        40.0          NaN\n",
      "0   B         NaN        200.0\n",
      "1   C         NaN        300.0\n",
      "2   E         NaN        500.0\n",
      "3   F         NaN        600.0\n"
     ]
    }
   ],
   "source": [
    "result_concat = pd.concat([left_df, right_df], axis=0) ## vertical stacking\n",
    "print(result_concat)"
   ]
  },
  {
   "cell_type": "code",
   "execution_count": 62,
   "id": "e2656717",
   "metadata": {},
   "outputs": [
    {
     "name": "stdout",
     "output_type": "stream",
     "text": [
      "  Key  Value_left Key  Value_right\n",
      "0   A          10   B          200\n",
      "1   B          20   C          300\n",
      "2   C          30   E          500\n",
      "3   D          40   F          600\n"
     ]
    }
   ],
   "source": [
    "result_concat = pd.concat([left_df, right_df], axis=1) ## horizontal stacking\n",
    "print(result_concat)"
   ]
  },
  {
   "cell_type": "code",
   "execution_count": 25,
   "id": "c16964fd",
   "metadata": {},
   "outputs": [],
   "source": [
    "import pandas as pd"
   ]
  },
  {
   "cell_type": "code",
   "execution_count": 26,
   "id": "d6cafc11",
   "metadata": {},
   "outputs": [],
   "source": [
    "gapminder = pd.read_csv(\"gap_minder.csv\")"
   ]
  },
  {
   "cell_type": "markdown",
   "id": "08ecf9ac",
   "metadata": {},
   "source": [
    "## Missing values\n",
    "Handling missing values is an essential aspect of data cleaning and analysis in pandas. Missing values are typically represented as NaN (Not a Number) in pandas. "
   ]
  },
  {
   "cell_type": "code",
   "execution_count": 31,
   "id": "37f96035",
   "metadata": {},
   "outputs": [
    {
     "name": "stdout",
     "output_type": "stream",
     "text": [
      "     A    B     C\n",
      "0  1.0  5.0   9.0\n",
      "1  2.0  NaN  10.0\n",
      "2  NaN  7.0  11.0\n",
      "3  4.0  8.0   NaN\n"
     ]
    }
   ],
   "source": [
    "import numpy as np\n",
    "\n",
    "# Create a DataFrame with missing values\n",
    "data = {\n",
    "    'A': [1, 2, np.nan, 4],\n",
    "    'B': [5, np.nan, 7, 8],\n",
    "    'C': [9, 10, 11, np.nan]\n",
    "}\n",
    "\n",
    "df = pd.DataFrame(data)\n",
    "print(df)"
   ]
  },
  {
   "cell_type": "code",
   "execution_count": 38,
   "id": "d345e44e",
   "metadata": {},
   "outputs": [
    {
     "name": "stdout",
     "output_type": "stream",
     "text": [
      "       A      B      C\n",
      "0  False  False  False\n",
      "1  False   True  False\n",
      "2   True  False  False\n",
      "3  False  False   True\n",
      "A    1\n",
      "B    1\n",
      "C    1\n",
      "dtype: int64\n"
     ]
    }
   ],
   "source": [
    "## Check for Missing Values:\n",
    "# Check if any value is missing in the DataFrame\n",
    "print(df.isnull())\n",
    "\n",
    "# Count the number of missing values in each column\n",
    "print(df.isnull().sum())"
   ]
  },
  {
   "cell_type": "code",
   "execution_count": 39,
   "id": "f8a39942",
   "metadata": {},
   "outputs": [
    {
     "name": "stdout",
     "output_type": "stream",
     "text": [
      "     A    B    C\n",
      "0  1.0  5.0  9.0\n",
      "Empty DataFrame\n",
      "Columns: []\n",
      "Index: [0, 1, 2, 3]\n"
     ]
    }
   ],
   "source": [
    "## Drop Missing Values:\n",
    "\n",
    "# Drop rows with any missing values\n",
    "df_dropped = df.dropna()\n",
    "print(df_dropped)\n",
    "\n",
    "# Drop columns with any missing values\n",
    "df_dropped_cols = df.dropna(axis=1)\n",
    "print(df_dropped_cols)"
   ]
  },
  {
   "cell_type": "code",
   "execution_count": 40,
   "id": "80af2903",
   "metadata": {},
   "outputs": [
    {
     "name": "stdout",
     "output_type": "stream",
     "text": [
      "     A    B     C\n",
      "0  1.0  5.0   9.0\n",
      "1  2.0  0.0  10.0\n",
      "2  0.0  7.0  11.0\n",
      "3  4.0  8.0   0.0\n",
      "          A         B     C\n",
      "0  1.000000  5.000000   9.0\n",
      "1  2.000000  6.666667  10.0\n",
      "2  2.333333  7.000000  11.0\n",
      "3  4.000000  8.000000  10.0\n"
     ]
    }
   ],
   "source": [
    "## Fill Missing Values:\n",
    "\n",
    "# Fill missing values with a specific value (e.g., 0)\n",
    "df_filled = df.fillna(0)\n",
    "print(df_filled)\n",
    "\n",
    "# Fill missing values with mean of the column\n",
    "df_filled_mean = df.fillna(df.mean())\n",
    "print(df_filled_mean)"
   ]
  }
 ],
 "metadata": {
  "kernelspec": {
   "display_name": "Python 3 (ipykernel)",
   "language": "python",
   "name": "python3"
  },
  "language_info": {
   "codemirror_mode": {
    "name": "ipython",
    "version": 3
   },
   "file_extension": ".py",
   "mimetype": "text/x-python",
   "name": "python",
   "nbconvert_exporter": "python",
   "pygments_lexer": "ipython3",
   "version": "3.10.11"
  }
 },
 "nbformat": 4,
 "nbformat_minor": 5
}
