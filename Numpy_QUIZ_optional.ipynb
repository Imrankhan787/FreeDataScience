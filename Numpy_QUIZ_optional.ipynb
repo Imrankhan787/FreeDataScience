{
 "cells": [
  {
   "cell_type": "markdown",
   "id": "8bdf7e74",
   "metadata": {},
   "source": [
    "# **Ten days rigorous FREE data science training with Python**\n",
    "\n",
    "\n",
    "**Duration: 01st March 2024 to 09th March 2024.**\n",
    "\n",
    "**Lecture Time: 07:30-0900 AM EST**\n",
    "\n",
    "**Organized by: https://www.facebook.com/LearnPythonR4Datascience**\n",
    "\n",
    "**Please like, share, and follow my facebook page for more interesting content.**\n",
    "\n",
    "\n"
   ]
  },
  {
   "cell_type": "markdown",
   "id": "252e3c37",
   "metadata": {},
   "source": [
    "# **Numpy Optional Quiz**\n",
    "\n",
    "You will be able to complete this quiz after the second lecture on NUMPY on Saturday 2nd March 2024. Please create cell below each question to answer the question. Attempt all questions. **It is an open book quiz but please don't use CHATGPT for the quiz.**"
   ]
  },
  {
   "cell_type": "markdown",
   "id": "57cedbf4",
   "metadata": {},
   "source": [
    "**Question: What is the dimensionality of a 1D NumPy array?**\n",
    "\n",
    "a) 1\n",
    "\n",
    "b) 2\n",
    "\n",
    "c) 0\n",
    "\n",
    "d) None"
   ]
  },
  {
   "cell_type": "markdown",
   "id": "ef5a57f5",
   "metadata": {},
   "source": [
    "**Question: What is the shape of a NumPy array with dimensions (4, 5, 3)?**\n",
    "\n",
    "a) (3, 5, 4)\n",
    "\n",
    "b) (4, 3, 5)\n",
    "\n",
    "c) (5, 4, 3)\n",
    "\n",
    "d) (4, 5, 3)"
   ]
  },
  {
   "cell_type": "markdown",
   "id": "44938853",
   "metadata": {},
   "source": [
    "**Question: In a 2D NumPy array, how are the elements indexed?**\n",
    "\n",
    "a) Single index\n",
    "\n",
    "b) Double index\n",
    "\n",
    "c) Triple index\n",
    "\n",
    "d) No index"
   ]
  },
  {
   "cell_type": "markdown",
   "id": "f7e09456",
   "metadata": {},
   "source": [
    "**Question: Given a NumPy array arr, what is the correct way to access the element at row 2, column 3 in a 2D array?**\n",
    "    \n",
    "a) arr(2, 3)\n",
    "\n",
    "b) arr[2, 3]\n",
    "\n",
    "c) arr[3, 2]\n",
    "\n",
    "d) arr(3, 2)"
   ]
  },
  {
   "cell_type": "markdown",
   "id": "ef48b13c",
   "metadata": {},
   "source": [
    "**Question: What is the index notation to access the last element of a 1D NumPy array?**\n",
    "\n",
    "a) arr[-1]\n",
    "\n",
    "b) arr[0]\n",
    "\n",
    "c) arr[1]\n",
    "\n",
    "d) arr[2]"
   ]
  },
  {
   "cell_type": "markdown",
   "id": "a112a8ea",
   "metadata": {},
   "source": [
    "**Question: How would you access a specific slice of elements from a NumPy array arr?**\n",
    "    \n",
    "a) arr[start:stop]\n",
    "\n",
    "b) arr[start:stop:step]\n",
    "\n",
    "c) arr[start:step:stop]\n",
    "\n",
    "d) arr[stop:start:step]"
   ]
  },
  {
   "cell_type": "markdown",
   "id": "82ecbf52",
   "metadata": {},
   "source": [
    "**Which of the following statements is true regarding memory efficiency?**\n",
    "\n",
    "\n",
    "a) NumPy arrays are generally more memory-efficient than lists.\n",
    "\n",
    "b) Lists are generally more memory-efficient than NumPy arrays.\n",
    "\n",
    "c) Both lists and NumPy arrays have similar memory efficiency.\n",
    "\n",
    "d) Memory efficiency depends on the specific data and size, making it difficult to generalize."
   ]
  },
  {
   "cell_type": "markdown",
   "id": "ab18e01a",
   "metadata": {},
   "source": [
    "**Which data structure is better suited for mathematical operations and computations?**\n",
    "\n",
    "a) NumPy arrays\n",
    "\n",
    "b) Lists\n",
    "\n",
    "c) Both are equally suitable\n",
    "\n",
    "d) It depends on the specific mathematical operation"
   ]
  },
  {
   "cell_type": "markdown",
   "id": "8bad38c6",
   "metadata": {},
   "source": [
    "**Which of the following statements is true regarding element-wise operations?**\n",
    "\n",
    "a) NumPy arrays allow for efficient element-wise operations, while lists do not.\n",
    "\n",
    "b) Lists allow for efficient element-wise operations, while NumPy arrays do not.\n",
    "\n",
    "c) Both lists and NumPy arrays support efficient element-wise operations.\n",
    "\n",
    "d) Neither lists nor NumPy arrays support element-wise operations."
   ]
  },
  {
   "cell_type": "markdown",
   "id": "a882e9a2",
   "metadata": {},
   "source": [
    "**Which data structure provides better performance for large-scale numerical computations?**\n",
    "\n",
    "\n",
    "a) NumPy arrays\n",
    "\n",
    "b) Lists\n",
    "\n",
    "c) Both provide similar performance\n",
    "\n",
    "d) It depends on the specific computation"
   ]
  },
  {
   "cell_type": "markdown",
   "id": "c256dbb2",
   "metadata": {},
   "source": [
    "**Which data structure allows for storing elements of different data types in a single container?**\n",
    "\n",
    "a) NumPy arrays\n",
    "\n",
    "b) Lists\n",
    "\n",
    "c) Both NumPy arrays and lists allow for storing different data types.\n",
    "\n",
    "d) Neither NumPy arrays nor lists support storing different data types."
   ]
  },
  {
   "cell_type": "markdown",
   "id": "f910e402",
   "metadata": {},
   "source": [
    "**Problem 1: Given a list of heights in centimeters, convert the heights to inches using NumPy and calculate the mean and standard deviation of the heights.**\n",
    "\n",
    "**Problem 2: Create a 2D array of student scores, calculate the average score for each student and find the student with the highest average score using NumPy.**\n",
    "\n",
    "**Problem 3: Given a 1D array of temperatures in Celsius, convert the temperatures to Fahrenheit using NumPy and identify the days where the temperature exceeds a certain threshold.**"
   ]
  },
  {
   "cell_type": "markdown",
   "id": "e60d4661",
   "metadata": {},
   "source": [
    "**Generate an array of 100 random numbers following a normal distribution with mean 0 and standard deviation 1.**"
   ]
  },
  {
   "cell_type": "markdown",
   "id": "7850d5eb",
   "metadata": {},
   "source": [
    "**Generate an array of 50 random integers following a uniform distribution between 1 and 10.**"
   ]
  },
  {
   "cell_type": "markdown",
   "id": "8e8464e1",
   "metadata": {},
   "source": [
    "**Create a NumPy array of shape (3, 4) with values ranging from 1 to 12 in ascending order.**"
   ]
  },
  {
   "cell_type": "markdown",
   "id": "a39a3be2",
   "metadata": {},
   "source": [
    "**Find the indices of the maximum and minimum values in a NumPy array. Go online to look for the appropriate numpy functions**"
   ]
  },
  {
   "cell_type": "markdown",
   "id": "cf077b8f",
   "metadata": {},
   "source": [
    "**Create a Identity matrix of size 4x4 and then replace the diagonal elements as 1, 2, 3, and 4**"
   ]
  },
  {
   "cell_type": "markdown",
   "id": "6336f0f2",
   "metadata": {},
   "source": [
    "**Generate a NumPy array of 1000 random numbers following a normal distribution with a mean of 0 and a standard deviation of 1. Then, calculate the percentage of data points that fall within three standard deviations of the mean**"
   ]
  },
  {
   "cell_type": "markdown",
   "id": "8ebed686",
   "metadata": {},
   "source": [
    "**Given a NumPy array arr, how would you extract all the elements where the value is greater than 5 and less than 10?**\n",
    "\n",
    "arr = np.array([2, 8, 4, 10, 7, 6])"
   ]
  },
  {
   "cell_type": "markdown",
   "id": "d5c209e7",
   "metadata": {},
   "source": [
    "**Given a NumPy array arr1, how would you replace all the negative values with 0?**\n",
    "\n",
    "arr1 = np.array([-1, 2, -3, 4, -5])"
   ]
  },
  {
   "cell_type": "markdown",
   "id": "9c81d031",
   "metadata": {},
   "source": [
    "**Given a NumPy array arr2, how would you select elements that are divisible by 3 and negative**\n",
    "\n",
    "arr2 = np.array([-6, -3, 0, 3, 6, 9])"
   ]
  },
  {
   "cell_type": "markdown",
   "id": "99ccb703",
   "metadata": {},
   "source": [
    "**Given a three-dimensional NumPy array arr3, how would you modify the element at coordinates (0, 2, 1) to a new value of 20?**\n",
    "\n",
    "arr3 = np.array([[[1, 2, 3], [4, 5, 6]], [[7, 8, 9], [10, 11, 12]]])"
   ]
  },
  {
   "cell_type": "markdown",
   "id": "e19828d0",
   "metadata": {},
   "source": [
    "**Given a three-dimensional NumPy array arr4, how would you modify the entire third column of the first 2D array to new values of [10, 20]?**\n",
    "\n",
    "\n",
    "arr4 = np.array([[[1, 2, 3], [4, 5, 6]], [[7, 8, 9], [10, 11, 12]]])\n"
   ]
  },
  {
   "cell_type": "markdown",
   "id": "08b4eacb",
   "metadata": {},
   "source": [
    "**Given a three-dimensional NumPy array arr5, how would you modify a 2x2 subarray starting from coordinates (1, 0, 0) to new values of [[100, 200], [300, 400]]?**\n",
    "\n",
    "\n",
    "arr5 = np.array([[[1, 2, 3], [4, 5, 6]], [[7, 8, 9], [10, 11, 12]]])\n"
   ]
  },
  {
   "cell_type": "markdown",
   "id": "96fdc936",
   "metadata": {},
   "source": [
    "**Given a NumPy array arr of shape (3, 4) and a 1D array vec of shape (4,), what will be the resulting shape of arr + vec after broadcasting?**\n",
    "\n",
    "\n",
    "a) (3, 4)\n",
    "\n",
    "b) (4, 3)\n",
    "\n",
    "c) (3, 3)\n",
    "\n",
    "d) Broadcasting will result in an error"
   ]
  },
  {
   "cell_type": "markdown",
   "id": "f8e38363",
   "metadata": {},
   "source": [
    "**What is the result of multiplying a NumPy array arr of shape (2, 3) with a scalar value k**"
   ]
  },
  {
   "cell_type": "markdown",
   "id": "ea3319b3",
   "metadata": {},
   "source": [
    "**Given two NumPy arrays arr1 of shape (3, 2) and arr2 of shape (1, 2), what will be the resulting shape of arr1 + arr2 after broadcasting?**\n",
    "\n",
    "a) (3, 2)\n",
    "\n",
    "b) (2, 3)\n",
    "\n",
    "c) (1, 2)\n",
    "\n",
    "d) Broadcasting will result in an error"
   ]
  },
  {
   "cell_type": "markdown",
   "id": "32d832d0",
   "metadata": {},
   "source": [
    "**Given a NumPy array arr of shape (3, 4, 2) and a 1D array vec of shape (4,), what will be the resulting shape of arr * vec after broadcasting?**"
   ]
  },
  {
   "cell_type": "markdown",
   "id": "eabb92b2",
   "metadata": {},
   "source": [
    "**Given a NumPy array with shape (5, 3, 2), how many elements does it contain?**\n",
    "\n",
    "\n",
    "a) 5\n",
    "\n",
    "b) 6\n",
    "\n",
    "c) 15\n",
    "\n",
    "d) 30"
   ]
  },
  {
   "cell_type": "markdown",
   "id": "9404a43b",
   "metadata": {},
   "source": [
    "**What is the difference between shape and size in NumPy?**\n",
    "\n",
    "a) shape represents the number of dimensions, while size represents the total number of elements.\n",
    "\n",
    "b) shape represents the total number of elements, while size represents the number of dimensions.\n",
    "\n",
    "c) shape and size are interchangeable terms in NumPy.\n",
    "\n",
    "d) shape and size have the same meaning in NumPy"
   ]
  },
  {
   "cell_type": "markdown",
   "id": "d07d72dd",
   "metadata": {},
   "source": [
    "**How do you change the shape of a NumPy array without modifying its data?**\n",
    "\n",
    "a) Using the resize() function\n",
    "\n",
    "b) Using the reshape() function\n",
    "\n",
    "c) Using the resize() method\n",
    "\n",
    "d) Using the reshape() method"
   ]
  },
  {
   "cell_type": "markdown",
   "id": "7b014032",
   "metadata": {},
   "source": [
    "**How do you access the number of dimensions (axes) of a NumPy array?**\n",
    "\n",
    "\n",
    "a) Using the axes attribute\n",
    "\n",
    "b) Using the dims attribute\n",
    "\n",
    "c) Using the dimensions attribute\n",
    "\n",
    "d) Using the ndim attribute"
   ]
  },
  {
   "cell_type": "markdown",
   "id": "8ed1bf51",
   "metadata": {},
   "source": [
    "**What is the difference between view and copy? Why it is important to know the difference? Explain it in your own words with example**"
   ]
  },
  {
   "cell_type": "markdown",
   "id": "5b0d9eb1",
   "metadata": {},
   "source": [
    "**What is the difference between vectorizing and broadcasting?Explain it in your own words**"
   ]
  }
 ],
 "metadata": {
  "kernelspec": {
   "display_name": "Python 3 (ipykernel)",
   "language": "python",
   "name": "python3"
  },
  "language_info": {
   "codemirror_mode": {
    "name": "ipython",
    "version": 3
   },
   "file_extension": ".py",
   "mimetype": "text/x-python",
   "name": "python",
   "nbconvert_exporter": "python",
   "pygments_lexer": "ipython3",
   "version": "3.10.11"
  }
 },
 "nbformat": 4,
 "nbformat_minor": 5
}
