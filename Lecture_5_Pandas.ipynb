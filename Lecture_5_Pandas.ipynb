{
 "cells": [
  {
   "cell_type": "code",
   "execution_count": 2,
   "id": "f5a27cf9",
   "metadata": {},
   "outputs": [],
   "source": [
    "import numpy as np\n",
    "import pandas as pd"
   ]
  },
  {
   "cell_type": "markdown",
   "id": "d570b06e",
   "metadata": {},
   "source": [
    "## **Renaming column name(s), droping column(s) and creating new columns from existing columns**\n",
    "\n",
    "**Renaming columns using rename():**\n",
    "\n",
    "The rename() function allows you to change the names of one or more columns in a DataFrame. It takes a dictionary or a mapping of the old column names to the new column names.\n",
    "\n",
    "**Removing columns using drop():**\n",
    "\n",
    "The drop() function is used to remove one or more columns from a DataFrame. It takes the column names or labels as input and returns a new DataFrame without the specified columns. The drop() function can modify the DataFrame in-place by setting the inplace parameter to True"
   ]
  },
  {
   "cell_type": "markdown",
   "id": "e8b2a302",
   "metadata": {},
   "source": [
    "### *Renaming column names*"
   ]
  },
  {
   "cell_type": "code",
   "execution_count": 9,
   "id": "b6262995",
   "metadata": {},
   "outputs": [
    {
     "name": "stdout",
     "output_type": "stream",
     "text": [
      "   A  B  C\n",
      "0  1  4  7\n",
      "1  2  5  8\n",
      "2  3  6  9\n"
     ]
    }
   ],
   "source": [
    "# Create a DataFrame\n",
    "df_c = pd.DataFrame({'A': [1, 2, 3], 'B': [4, 5, 6], 'C': [7, 8, 9]})\n",
    "\n",
    "print(df_c)"
   ]
  },
  {
   "cell_type": "code",
   "execution_count": 4,
   "id": "a0639d76",
   "metadata": {},
   "outputs": [
    {
     "name": "stdout",
     "output_type": "stream",
     "text": [
      "   alpha  bravo  charlie\n",
      "0      1      4        7\n",
      "1      2      5        8\n",
      "2      3      6        9\n"
     ]
    }
   ],
   "source": [
    "df_c.rename(columns = {\"A\":\"alpha\", \"B\": \"bravo\", \"C\":\"charlie\"}, inplace = True)\n",
    "\n",
    "print(df_c)"
   ]
  },
  {
   "cell_type": "markdown",
   "id": "27aeabd6",
   "metadata": {},
   "source": [
    "### *Droping rows and columns*"
   ]
  },
  {
   "cell_type": "code",
   "execution_count": 5,
   "id": "98b2f288",
   "metadata": {},
   "outputs": [
    {
     "name": "stdout",
     "output_type": "stream",
     "text": [
      "   bravo  charlie\n",
      "0      4        7\n",
      "1      5        8\n",
      "2      6        9\n"
     ]
    }
   ],
   "source": [
    "# Remove a single column\n",
    "df_c = df_c.drop('alpha', axis=1)\n",
    "print(df_c)"
   ]
  },
  {
   "cell_type": "code",
   "execution_count": 12,
   "id": "8b57ac65",
   "metadata": {},
   "outputs": [
    {
     "ename": "KeyError",
     "evalue": "'[0, 2] not found in axis'",
     "output_type": "error",
     "traceback": [
      "\u001b[1;31m---------------------------------------------------------------------------\u001b[0m",
      "\u001b[1;31mKeyError\u001b[0m                                  Traceback (most recent call last)",
      "Cell \u001b[1;32mIn[12], line 2\u001b[0m\n\u001b[0;32m      1\u001b[0m \u001b[38;5;66;03m# Remove multiple columns or multiple rows\u001b[39;00m\n\u001b[1;32m----> 2\u001b[0m df_c \u001b[38;5;241m=\u001b[39m \u001b[43mdf_c\u001b[49m\u001b[38;5;241;43m.\u001b[39;49m\u001b[43mdrop\u001b[49m\u001b[43m(\u001b[49m\u001b[43m[\u001b[49m\u001b[38;5;241;43m0\u001b[39;49m\u001b[43m,\u001b[49m\u001b[43m \u001b[49m\u001b[38;5;241;43m2\u001b[39;49m\u001b[43m]\u001b[49m\u001b[43m,\u001b[49m\u001b[43m \u001b[49m\u001b[43maxis\u001b[49m\u001b[38;5;241;43m=\u001b[39;49m\u001b[38;5;241;43m1\u001b[39;49m\u001b[43m)\u001b[49m\n\u001b[0;32m      4\u001b[0m \u001b[38;5;28mprint\u001b[39m(df_c)\n",
      "File \u001b[1;32m~\\AppData\\Local\\Programs\\Python\\Python310\\lib\\site-packages\\pandas\\core\\frame.py:5258\u001b[0m, in \u001b[0;36mDataFrame.drop\u001b[1;34m(self, labels, axis, index, columns, level, inplace, errors)\u001b[0m\n\u001b[0;32m   5110\u001b[0m \u001b[38;5;28;01mdef\u001b[39;00m \u001b[38;5;21mdrop\u001b[39m(\n\u001b[0;32m   5111\u001b[0m     \u001b[38;5;28mself\u001b[39m,\n\u001b[0;32m   5112\u001b[0m     labels: IndexLabel \u001b[38;5;241m=\u001b[39m \u001b[38;5;28;01mNone\u001b[39;00m,\n\u001b[1;32m   (...)\u001b[0m\n\u001b[0;32m   5119\u001b[0m     errors: IgnoreRaise \u001b[38;5;241m=\u001b[39m \u001b[38;5;124m\"\u001b[39m\u001b[38;5;124mraise\u001b[39m\u001b[38;5;124m\"\u001b[39m,\n\u001b[0;32m   5120\u001b[0m ) \u001b[38;5;241m-\u001b[39m\u001b[38;5;241m>\u001b[39m DataFrame \u001b[38;5;241m|\u001b[39m \u001b[38;5;28;01mNone\u001b[39;00m:\n\u001b[0;32m   5121\u001b[0m \u001b[38;5;250m    \u001b[39m\u001b[38;5;124;03m\"\"\"\u001b[39;00m\n\u001b[0;32m   5122\u001b[0m \u001b[38;5;124;03m    Drop specified labels from rows or columns.\u001b[39;00m\n\u001b[0;32m   5123\u001b[0m \n\u001b[1;32m   (...)\u001b[0m\n\u001b[0;32m   5256\u001b[0m \u001b[38;5;124;03m            weight  1.0     0.8\u001b[39;00m\n\u001b[0;32m   5257\u001b[0m \u001b[38;5;124;03m    \"\"\"\u001b[39;00m\n\u001b[1;32m-> 5258\u001b[0m     \u001b[38;5;28;01mreturn\u001b[39;00m \u001b[38;5;28;43msuper\u001b[39;49m\u001b[43m(\u001b[49m\u001b[43m)\u001b[49m\u001b[38;5;241;43m.\u001b[39;49m\u001b[43mdrop\u001b[49m\u001b[43m(\u001b[49m\n\u001b[0;32m   5259\u001b[0m \u001b[43m        \u001b[49m\u001b[43mlabels\u001b[49m\u001b[38;5;241;43m=\u001b[39;49m\u001b[43mlabels\u001b[49m\u001b[43m,\u001b[49m\n\u001b[0;32m   5260\u001b[0m \u001b[43m        \u001b[49m\u001b[43maxis\u001b[49m\u001b[38;5;241;43m=\u001b[39;49m\u001b[43maxis\u001b[49m\u001b[43m,\u001b[49m\n\u001b[0;32m   5261\u001b[0m \u001b[43m        \u001b[49m\u001b[43mindex\u001b[49m\u001b[38;5;241;43m=\u001b[39;49m\u001b[43mindex\u001b[49m\u001b[43m,\u001b[49m\n\u001b[0;32m   5262\u001b[0m \u001b[43m        \u001b[49m\u001b[43mcolumns\u001b[49m\u001b[38;5;241;43m=\u001b[39;49m\u001b[43mcolumns\u001b[49m\u001b[43m,\u001b[49m\n\u001b[0;32m   5263\u001b[0m \u001b[43m        \u001b[49m\u001b[43mlevel\u001b[49m\u001b[38;5;241;43m=\u001b[39;49m\u001b[43mlevel\u001b[49m\u001b[43m,\u001b[49m\n\u001b[0;32m   5264\u001b[0m \u001b[43m        \u001b[49m\u001b[43minplace\u001b[49m\u001b[38;5;241;43m=\u001b[39;49m\u001b[43minplace\u001b[49m\u001b[43m,\u001b[49m\n\u001b[0;32m   5265\u001b[0m \u001b[43m        \u001b[49m\u001b[43merrors\u001b[49m\u001b[38;5;241;43m=\u001b[39;49m\u001b[43merrors\u001b[49m\u001b[43m,\u001b[49m\n\u001b[0;32m   5266\u001b[0m \u001b[43m    \u001b[49m\u001b[43m)\u001b[49m\n",
      "File \u001b[1;32m~\\AppData\\Local\\Programs\\Python\\Python310\\lib\\site-packages\\pandas\\core\\generic.py:4549\u001b[0m, in \u001b[0;36mNDFrame.drop\u001b[1;34m(self, labels, axis, index, columns, level, inplace, errors)\u001b[0m\n\u001b[0;32m   4547\u001b[0m \u001b[38;5;28;01mfor\u001b[39;00m axis, labels \u001b[38;5;129;01min\u001b[39;00m axes\u001b[38;5;241m.\u001b[39mitems():\n\u001b[0;32m   4548\u001b[0m     \u001b[38;5;28;01mif\u001b[39;00m labels \u001b[38;5;129;01mis\u001b[39;00m \u001b[38;5;129;01mnot\u001b[39;00m \u001b[38;5;28;01mNone\u001b[39;00m:\n\u001b[1;32m-> 4549\u001b[0m         obj \u001b[38;5;241m=\u001b[39m \u001b[43mobj\u001b[49m\u001b[38;5;241;43m.\u001b[39;49m\u001b[43m_drop_axis\u001b[49m\u001b[43m(\u001b[49m\u001b[43mlabels\u001b[49m\u001b[43m,\u001b[49m\u001b[43m \u001b[49m\u001b[43maxis\u001b[49m\u001b[43m,\u001b[49m\u001b[43m \u001b[49m\u001b[43mlevel\u001b[49m\u001b[38;5;241;43m=\u001b[39;49m\u001b[43mlevel\u001b[49m\u001b[43m,\u001b[49m\u001b[43m \u001b[49m\u001b[43merrors\u001b[49m\u001b[38;5;241;43m=\u001b[39;49m\u001b[43merrors\u001b[49m\u001b[43m)\u001b[49m\n\u001b[0;32m   4551\u001b[0m \u001b[38;5;28;01mif\u001b[39;00m inplace:\n\u001b[0;32m   4552\u001b[0m     \u001b[38;5;28mself\u001b[39m\u001b[38;5;241m.\u001b[39m_update_inplace(obj)\n",
      "File \u001b[1;32m~\\AppData\\Local\\Programs\\Python\\Python310\\lib\\site-packages\\pandas\\core\\generic.py:4591\u001b[0m, in \u001b[0;36mNDFrame._drop_axis\u001b[1;34m(self, labels, axis, level, errors, only_slice)\u001b[0m\n\u001b[0;32m   4589\u001b[0m         new_axis \u001b[38;5;241m=\u001b[39m axis\u001b[38;5;241m.\u001b[39mdrop(labels, level\u001b[38;5;241m=\u001b[39mlevel, errors\u001b[38;5;241m=\u001b[39merrors)\n\u001b[0;32m   4590\u001b[0m     \u001b[38;5;28;01melse\u001b[39;00m:\n\u001b[1;32m-> 4591\u001b[0m         new_axis \u001b[38;5;241m=\u001b[39m \u001b[43maxis\u001b[49m\u001b[38;5;241;43m.\u001b[39;49m\u001b[43mdrop\u001b[49m\u001b[43m(\u001b[49m\u001b[43mlabels\u001b[49m\u001b[43m,\u001b[49m\u001b[43m \u001b[49m\u001b[43merrors\u001b[49m\u001b[38;5;241;43m=\u001b[39;49m\u001b[43merrors\u001b[49m\u001b[43m)\u001b[49m\n\u001b[0;32m   4592\u001b[0m     indexer \u001b[38;5;241m=\u001b[39m axis\u001b[38;5;241m.\u001b[39mget_indexer(new_axis)\n\u001b[0;32m   4594\u001b[0m \u001b[38;5;66;03m# Case for non-unique axis\u001b[39;00m\n\u001b[0;32m   4595\u001b[0m \u001b[38;5;28;01melse\u001b[39;00m:\n",
      "File \u001b[1;32m~\\AppData\\Local\\Programs\\Python\\Python310\\lib\\site-packages\\pandas\\core\\indexes\\base.py:6696\u001b[0m, in \u001b[0;36mIndex.drop\u001b[1;34m(self, labels, errors)\u001b[0m\n\u001b[0;32m   6694\u001b[0m \u001b[38;5;28;01mif\u001b[39;00m mask\u001b[38;5;241m.\u001b[39many():\n\u001b[0;32m   6695\u001b[0m     \u001b[38;5;28;01mif\u001b[39;00m errors \u001b[38;5;241m!=\u001b[39m \u001b[38;5;124m\"\u001b[39m\u001b[38;5;124mignore\u001b[39m\u001b[38;5;124m\"\u001b[39m:\n\u001b[1;32m-> 6696\u001b[0m         \u001b[38;5;28;01mraise\u001b[39;00m \u001b[38;5;167;01mKeyError\u001b[39;00m(\u001b[38;5;124mf\u001b[39m\u001b[38;5;124m\"\u001b[39m\u001b[38;5;132;01m{\u001b[39;00m\u001b[38;5;28mlist\u001b[39m(labels[mask])\u001b[38;5;132;01m}\u001b[39;00m\u001b[38;5;124m not found in axis\u001b[39m\u001b[38;5;124m\"\u001b[39m)\n\u001b[0;32m   6697\u001b[0m     indexer \u001b[38;5;241m=\u001b[39m indexer[\u001b[38;5;241m~\u001b[39mmask]\n\u001b[0;32m   6698\u001b[0m \u001b[38;5;28;01mreturn\u001b[39;00m \u001b[38;5;28mself\u001b[39m\u001b[38;5;241m.\u001b[39mdelete(indexer)\n",
      "\u001b[1;31mKeyError\u001b[0m: '[0, 2] not found in axis'"
     ]
    }
   ],
   "source": [
    "# Remove multiple columns or multiple rows\n",
    "df_c = df_c.drop([0, 2], axis=1)\n",
    "\n",
    "print(df_c)"
   ]
  },
  {
   "cell_type": "markdown",
   "id": "dafbfd22",
   "metadata": {},
   "source": [
    "### *Creating new columns from the existing columns*"
   ]
  },
  {
   "cell_type": "code",
   "execution_count": 13,
   "id": "b2fae8c8",
   "metadata": {},
   "outputs": [
    {
     "name": "stdout",
     "output_type": "stream",
     "text": [
      "   A  B  C\n",
      "0  1  4  7\n",
      "1  2  5  8\n",
      "2  3  6  9\n"
     ]
    }
   ],
   "source": [
    "# Create a DataFrame\n",
    "df_c = pd.DataFrame({'A': [1, 2, 3], 'B': [4, 5, 6], 'C': [7, 8, 9]})\n",
    "\n",
    "print(df_c)"
   ]
  },
  {
   "cell_type": "code",
   "execution_count": 14,
   "id": "702d9368",
   "metadata": {},
   "outputs": [
    {
     "name": "stdout",
     "output_type": "stream",
     "text": [
      "   A  B  C         D\n",
      "0  1  4  7  0.571429\n",
      "1  2  5  8  0.625000\n",
      "2  3  6  9  0.666667\n"
     ]
    }
   ],
   "source": [
    "df_c[\"D\"] = df_c[\"B\"]/df_c[\"C\"]\n",
    "\n",
    "print(df_c)"
   ]
  },
  {
   "cell_type": "code",
   "execution_count": 15,
   "id": "537538d3",
   "metadata": {},
   "outputs": [],
   "source": [
    "df_c[\"E\"] = df_c[\"A\"] * df_c[\"B\"]"
   ]
  },
  {
   "cell_type": "code",
   "execution_count": 16,
   "id": "c1502c04",
   "metadata": {},
   "outputs": [
    {
     "data": {
      "text/html": [
       "<div>\n",
       "<style scoped>\n",
       "    .dataframe tbody tr th:only-of-type {\n",
       "        vertical-align: middle;\n",
       "    }\n",
       "\n",
       "    .dataframe tbody tr th {\n",
       "        vertical-align: top;\n",
       "    }\n",
       "\n",
       "    .dataframe thead th {\n",
       "        text-align: right;\n",
       "    }\n",
       "</style>\n",
       "<table border=\"1\" class=\"dataframe\">\n",
       "  <thead>\n",
       "    <tr style=\"text-align: right;\">\n",
       "      <th></th>\n",
       "      <th>A</th>\n",
       "      <th>B</th>\n",
       "      <th>C</th>\n",
       "      <th>D</th>\n",
       "      <th>E</th>\n",
       "    </tr>\n",
       "  </thead>\n",
       "  <tbody>\n",
       "    <tr>\n",
       "      <th>0</th>\n",
       "      <td>1</td>\n",
       "      <td>4</td>\n",
       "      <td>7</td>\n",
       "      <td>0.571429</td>\n",
       "      <td>4</td>\n",
       "    </tr>\n",
       "    <tr>\n",
       "      <th>1</th>\n",
       "      <td>2</td>\n",
       "      <td>5</td>\n",
       "      <td>8</td>\n",
       "      <td>0.625000</td>\n",
       "      <td>10</td>\n",
       "    </tr>\n",
       "    <tr>\n",
       "      <th>2</th>\n",
       "      <td>3</td>\n",
       "      <td>6</td>\n",
       "      <td>9</td>\n",
       "      <td>0.666667</td>\n",
       "      <td>18</td>\n",
       "    </tr>\n",
       "  </tbody>\n",
       "</table>\n",
       "</div>"
      ],
      "text/plain": [
       "   A  B  C         D   E\n",
       "0  1  4  7  0.571429   4\n",
       "1  2  5  8  0.625000  10\n",
       "2  3  6  9  0.666667  18"
      ]
     },
     "execution_count": 16,
     "metadata": {},
     "output_type": "execute_result"
    }
   ],
   "source": [
    "df_c"
   ]
  },
  {
   "cell_type": "markdown",
   "id": "72eabd25",
   "metadata": {},
   "source": [
    "## **apply, map and applymap functions**\n",
    "\n",
    "apply, map, and applymap are methods used for applying functions to manipulate data within a **DataFrame or Series**\n",
    "\n",
    "**apply():** This method is used to apply a function along an axis of the DataFrame or Series. It can be used with both DataFrames and Series objects. The function is applied to each column or row of the DataFrame or each element of the Series. The apply() method is versatile and allows for applying custom functions or built-in functions to transform data.\n",
    "\n",
    "**map():** This method is primarily used with Series objects and is used to substitute values based on a provided mapping or a function. It takes a Series and applies a transformation based on the specified mapping or function. It's commonly used for data manipulation and creating derived columns.\n",
    "\n",
    "**applymap():** This method is specifically used with DataFrames to apply a function element-wise to each element of the DataFrame. It applies the provided function to each individual cell of the DataFrame."
   ]
  },
  {
   "cell_type": "code",
   "execution_count": 17,
   "id": "73069209",
   "metadata": {},
   "outputs": [
    {
     "name": "stdout",
     "output_type": "stream",
     "text": [
      "          Maths  Comp_sci  Physics\n",
      "Student1     55        98       85\n",
      "Student2     85        85       95\n",
      "Student3     95        65       90\n",
      "Student4     99        87       75\n"
     ]
    }
   ],
   "source": [
    "Student_scores = {\"Maths\" : [55, 85, 95, 99],\n",
    "                  \"Comp_sci\": [98, 85, 65, 87],\n",
    "                  \"Physics\" : [85, 95, 90, 75]}\n",
    "\n",
    "scores = pd.DataFrame(Student_scores, index = [\"Student1\", \"Student2\", \"Student3\", \"Student4\" ])\n",
    "print(scores)"
   ]
  },
  {
   "cell_type": "code",
   "execution_count": 19,
   "id": "3157269f",
   "metadata": {},
   "outputs": [
    {
     "data": {
      "text/plain": [
       "Maths       334\n",
       "Comp_sci    335\n",
       "Physics     345\n",
       "dtype: int64"
      ]
     },
     "execution_count": 19,
     "metadata": {},
     "output_type": "execute_result"
    }
   ],
   "source": [
    "scores.apply(lambda x: x.sum(), axis = 0) ## axis = 0 we are applying the method along the column axis = 1, we are applying method along rows"
   ]
  },
  {
   "cell_type": "code",
   "execution_count": 20,
   "id": "4832cb2f",
   "metadata": {},
   "outputs": [
    {
     "data": {
      "text/plain": [
       "Student1     57\n",
       "Student2     87\n",
       "Student3     97\n",
       "Student4    101\n",
       "Name: Maths, dtype: int64"
      ]
     },
     "execution_count": 20,
     "metadata": {},
     "output_type": "execute_result"
    }
   ],
   "source": [
    "scores[\"Maths\"].apply(lambda x: x+2)"
   ]
  },
  {
   "cell_type": "code",
   "execution_count": 25,
   "id": "805ce24f",
   "metadata": {},
   "outputs": [
    {
     "name": "stdout",
     "output_type": "stream",
     "text": [
      "0    1.000000\n",
      "1    1.414214\n",
      "2    1.732051\n",
      "3    2.000000\n",
      "4    2.236068\n",
      "dtype: float64\n"
     ]
    }
   ],
   "source": [
    "## using apply method for series\n",
    "s = pd.Series([1, 2, 3, 4, 5])\n",
    "\n",
    "# Apply a function to double each element of the Series\n",
    "s_doubled = s.apply(lambda x: x**0.50)\n",
    "\n",
    "print(s_doubled)"
   ]
  },
  {
   "cell_type": "code",
   "execution_count": 28,
   "id": "0dd6c3c5",
   "metadata": {},
   "outputs": [
    {
     "name": "stdout",
     "output_type": "stream",
     "text": [
      "          Maths  Comp_sci  Physics\n",
      "Student1   0.55      0.98     0.85\n",
      "Student2   0.85      0.85     0.95\n",
      "Student3   0.95      0.65     0.90\n",
      "Student4   0.99      0.87     0.75\n"
     ]
    }
   ],
   "source": [
    "## applymap function to dataframe \n",
    "\n",
    "percentage_score = scores.applymap(lambda x: x /100)\n",
    "\n",
    "print(percentage_score)\n"
   ]
  },
  {
   "cell_type": "markdown",
   "id": "556c4d47",
   "metadata": {},
   "source": [
    "# **Pandas groupby function**"
   ]
  },
  {
   "cell_type": "markdown",
   "id": "a36f234d",
   "metadata": {},
   "source": [
    "<img src = \"groupby_graph.png\" style = \"width:880px;height:250px\">"
   ]
  },
  {
   "cell_type": "markdown",
   "id": "b443c4dc",
   "metadata": {},
   "source": [
    "**Reference: McKinney, W. (2012). Python for data analysis: Data wrangling with Pandas, NumPy, and IPython. \" O'Reilly Media, Inc.\".**"
   ]
  },
  {
   "cell_type": "markdown",
   "id": "139001ee",
   "metadata": {},
   "source": [
    "\n",
    "\n",
    "The groupby function in Pandas is a powerful tool for **splitting a DataFrame** into groups based on one or more criteria (variables), **performing operations** on each group, and combining the results into a new DataFrame. It allows for **data aggregation**, transformation, and analysis on subsets of data defined by unique values in one or more columns.\n",
    "\n",
    "Once you have created a groupby object, you can apply various aggregation or transformation functions on it, such as sum(), mean(), count(), apply(), etc., to calculate statistics or manipulate the grouped data.\n",
    "\n",
    "**What type of variables are generally used for grouping data?**\n",
    "\n",
    "We generally use categorical variables to group the data. For example, continent, country and year are categorical variables because they take the limited number of fixed values. There is no point to use the continous variable for grouping purposes.\n",
    "\n",
    "Groupby method creates only meaningful analysis when groupby function is *followed* by the some function usually aggregation function."
   ]
  },
  {
   "cell_type": "code",
   "execution_count": 29,
   "id": "3400f1c2",
   "metadata": {},
   "outputs": [
    {
     "name": "stdout",
     "output_type": "stream",
     "text": [
      "      Name Category  Value\n",
      "0    Alice        A     10\n",
      "1      Bob        B     15\n",
      "2  Charlie        A     12\n",
      "3    Alice        B      8\n",
      "4      Bob        A     20\n"
     ]
    }
   ],
   "source": [
    "# Create a DataFrame\n",
    "data = {\n",
    "    'Name': ['Alice', 'Bob', 'Charlie', 'Alice', 'Bob'],\n",
    "    'Category': ['A', 'B', 'A', 'B', 'A'],\n",
    "    'Value': [10, 15, 12, 8, 20]\n",
    "}\n",
    "df = pd.DataFrame(data)\n",
    "\n",
    "print(df)\n"
   ]
  },
  {
   "cell_type": "code",
   "execution_count": 41,
   "id": "59f94b40",
   "metadata": {},
   "outputs": [],
   "source": [
    "# Group by 'Category'\n",
    "grouped = df.groupby('Name') ## Here we are grouping by a single column\n",
    "\n",
    "# Calculate the sum of 'Value' within each group\n",
    "sum_by_category = grouped['Value'].min()\n"
   ]
  },
  {
   "cell_type": "code",
   "execution_count": 40,
   "id": "26dcbd60",
   "metadata": {},
   "outputs": [
    {
     "name": "stdout",
     "output_type": "stream",
     "text": [
      "Name\n",
      "Alice       8\n",
      "Bob        15\n",
      "Charlie    12\n",
      "Name: Value, dtype: int64\n"
     ]
    }
   ],
   "source": [
    "print(sum_by_category)"
   ]
  },
  {
   "cell_type": "code",
   "execution_count": 42,
   "id": "95c7067b",
   "metadata": {},
   "outputs": [
    {
     "data": {
      "text/plain": [
       "[('Alice',\n",
       "      Name Category  Value\n",
       "  0  Alice        A     10\n",
       "  3  Alice        B      8),\n",
       " ('Bob',\n",
       "    Name Category  Value\n",
       "  1  Bob        B     15\n",
       "  4  Bob        A     20),\n",
       " ('Charlie',\n",
       "        Name Category  Value\n",
       "  2  Charlie        A     12)]"
      ]
     },
     "execution_count": 42,
     "metadata": {},
     "output_type": "execute_result"
    }
   ],
   "source": [
    "list(grouped)"
   ]
  },
  {
   "cell_type": "code",
   "execution_count": null,
   "id": "544189f4",
   "metadata": {},
   "outputs": [],
   "source": [
    "print(type(grouped))\n",
    "print(type(grouped[\"Value\"]))"
   ]
  },
  {
   "cell_type": "code",
   "execution_count": null,
   "id": "e263fab5",
   "metadata": {},
   "outputs": [],
   "source": [
    "##What do we mean by splitting the dataframe on the bases of group and then combining?\n",
    "\n",
    "df.loc[df[\"Category\"]==\"B\"][\"Value\"].sum()"
   ]
  },
  {
   "cell_type": "code",
   "execution_count": null,
   "id": "c7cd4220",
   "metadata": {},
   "outputs": [],
   "source": [
    "df.loc[df[\"Category\"]==\"A\"][\"Value\"].sum()"
   ]
  },
  {
   "cell_type": "markdown",
   "id": "ae20f5b3",
   "metadata": {},
   "source": [
    "An example that demonstrates grouping by multiple columns using the groupby function in Pandas"
   ]
  },
  {
   "cell_type": "code",
   "execution_count": null,
   "id": "cacb8a85",
   "metadata": {},
   "outputs": [],
   "source": [
    "# Create a DataFrame\n",
    "data = {\n",
    "    'Name': ['Alice', 'Bob', 'Charlie', 'Alice', 'Bob'],\n",
    "    'Category': ['A', 'B', 'A', 'B', 'A'],\n",
    "    'Value1': [10, 15, 12, 8, 20],\n",
    "    'Value2': [5, 3, 7, 2, 10]\n",
    "}\n",
    "df1 = pd.DataFrame(data)\n"
   ]
  },
  {
   "cell_type": "code",
   "execution_count": null,
   "id": "0bb816bf",
   "metadata": {},
   "outputs": [],
   "source": [
    "# Group by 'Name' and 'Category'\n",
    "grouped = df1.groupby(by = ['Name', 'Category']) ## We can pass the names of multiple columns as strings in a list.\n",
    "\n",
    "# Calculate the sum of 'Value1' and 'Value2' within each group\n",
    "sum_by_group = grouped[\"Value1\"].sum()\n",
    "\n",
    "print(sum_by_group)\n"
   ]
  },
  {
   "cell_type": "markdown",
   "id": "28f56c08",
   "metadata": {},
   "source": [
    "## Aggregation functions that we can use after groupby\n",
    "\n",
    "When using the groupby function in Pandas, you can apply various aggregation functions to calculate summary statistics or perform computations on the grouped data. Some common aggregation functions include:\n",
    "\n",
    "\n",
    "**sum():** Calculates the sum of values within each group.\n",
    "\n",
    "**mean():** Computes the mean (average) of values within each group.\n",
    "\n",
    "**median():** Calculates the median of values within each group.\n",
    "\n",
    "**min():** Finds the minimum value within each group.\n",
    "\n",
    "**max():** Finds the maximum value within each group.\n",
    "\n",
    "**count():** Counts the number of non-null values within each group.\n",
    "\n",
    "**size():** Counts the total number of rows within each group, including null values.\n",
    "\n",
    "**std():** Computes the standard deviation of values within each group.\n",
    "\n",
    "**var():** Calculates the variance of values within each group.\n",
    "\n",
    "**first():** Returns the first value within each group.\n",
    "\n",
    "**last():** Returns the last value within each group.\n",
    "\n",
    "**nth():** Returns the nth value within each group.\n",
    "\n",
    "**apply():** Applies a custom function to each group"
   ]
  },
  {
   "cell_type": "code",
   "execution_count": null,
   "id": "c1600c3c",
   "metadata": {},
   "outputs": [],
   "source": [
    "# Create a DataFrame\n",
    "data = {\n",
    "    'Name': ['Alice', 'Bob', 'Charlie', 'Alice', 'Bob'],\n",
    "    'Category': ['A', 'B', 'A', 'B', 'A'],\n",
    "    'Value': [10, 15, 12, 8, 20]\n",
    "}\n",
    "df = pd.DataFrame(data)\n",
    "\n",
    "# Group by 'Category'\n",
    "grouped = df.groupby('Category')\n"
   ]
  },
  {
   "cell_type": "code",
   "execution_count": null,
   "id": "259e6808",
   "metadata": {},
   "outputs": [],
   "source": [
    "# Let us apply aggregation functions\n",
    "sum_by_category = grouped['Value'].sum()\n",
    "mean_by_category = grouped['Value'].mean()\n",
    "max_by_category = grouped['Value'].max()\n",
    "count_by_category = grouped['Value'].count()\n"
   ]
  },
  {
   "cell_type": "code",
   "execution_count": null,
   "id": "5435e3a0",
   "metadata": {},
   "outputs": [],
   "source": [
    "print(\"Sum:\")\n",
    "print(sum_by_category)\n",
    "\n",
    "\n",
    "print(\"Mean:\")\n",
    "print(mean_by_category)\n",
    "\n",
    "\n",
    "print(\"Max:\")\n",
    "print(max_by_category)\n",
    "\n",
    "\n",
    "print(\"Count:\")\n",
    "print(count_by_category)"
   ]
  },
  {
   "cell_type": "code",
   "execution_count": null,
   "id": "33bc5eb2",
   "metadata": {},
   "outputs": [],
   "source": [
    "## Data analysis questions"
   ]
  },
  {
   "cell_type": "code",
   "execution_count": 43,
   "id": "4c9b502b",
   "metadata": {},
   "outputs": [],
   "source": [
    "gapminder = pd.read_csv(\"gap_minder.csv\")"
   ]
  },
  {
   "cell_type": "code",
   "execution_count": 47,
   "id": "afb8b230",
   "metadata": {},
   "outputs": [
    {
     "data": {
      "text/plain": [
       "year\n",
       "1952    2406957150\n",
       "1957    2664404580\n",
       "1962    2899782974\n",
       "1967    3217478384\n",
       "1972    3576977158\n",
       "1977    3930045807\n",
       "1982    4289436840\n",
       "1987    4691477418\n",
       "1992    5110710260\n",
       "1997    5515204472\n",
       "2002    5886977579\n",
       "2007    6251013179\n",
       "Name: pop, dtype: int64"
      ]
     },
     "execution_count": 47,
     "metadata": {},
     "output_type": "execute_result"
    }
   ],
   "source": [
    "gapminder.groupby(by = \"year\")[\"pop\"].sum()"
   ]
  },
  {
   "cell_type": "markdown",
   "id": "622876d3",
   "metadata": {},
   "source": [
    "## **Simple groupby applications**\n",
    "\n",
    "- Total number of countries in each continent in 2007.\n",
    "- The most and least popolous country in each continent in 2007.\n",
    "- The richest and poorest country in each continent in 2007."
   ]
  },
  {
   "cell_type": "markdown",
   "id": "e7aba5d5",
   "metadata": {},
   "source": [
    "### *Total number of countries in each continent in 2007.*"
   ]
  },
  {
   "cell_type": "code",
   "execution_count": 50,
   "id": "e34b9f9b",
   "metadata": {},
   "outputs": [
    {
     "data": {
      "text/plain": [
       "continent\n",
       "Africa      52\n",
       "Americas    25\n",
       "Asia        33\n",
       "Europe      30\n",
       "Oceania      2\n",
       "Name: country, dtype: int64"
      ]
     },
     "execution_count": 50,
     "metadata": {},
     "output_type": "execute_result"
    }
   ],
   "source": [
    "gapminder[ (gapminder[\"year\"]== 2007) ].groupby(by = \"continent\")[\"country\"].count()"
   ]
  },
  {
   "cell_type": "markdown",
   "id": "9c601acf",
   "metadata": {},
   "source": [
    "### *The most and least popolous country in each continent in 2007.*"
   ]
  },
  {
   "cell_type": "code",
   "execution_count": 51,
   "id": "fde59774",
   "metadata": {},
   "outputs": [],
   "source": [
    "most_populous = gapminder[ (gapminder[\"year\"]== 2007) ].groupby(by = [\"continent\"])[\"pop\"].max()"
   ]
  },
  {
   "cell_type": "code",
   "execution_count": 52,
   "id": "6b40207f",
   "metadata": {},
   "outputs": [
    {
     "data": {
      "text/plain": [
       "continent\n",
       "Africa       135031164\n",
       "Americas     301139947\n",
       "Asia        1318683096\n",
       "Europe        82400996\n",
       "Oceania       20434176\n",
       "Name: pop, dtype: int64"
      ]
     },
     "execution_count": 52,
     "metadata": {},
     "output_type": "execute_result"
    }
   ],
   "source": [
    "most_populous"
   ]
  },
  {
   "cell_type": "code",
   "execution_count": 53,
   "id": "4d19b9d7",
   "metadata": {},
   "outputs": [
    {
     "data": {
      "text/html": [
       "<div>\n",
       "<style scoped>\n",
       "    .dataframe tbody tr th:only-of-type {\n",
       "        vertical-align: middle;\n",
       "    }\n",
       "\n",
       "    .dataframe tbody tr th {\n",
       "        vertical-align: top;\n",
       "    }\n",
       "\n",
       "    .dataframe thead th {\n",
       "        text-align: right;\n",
       "    }\n",
       "</style>\n",
       "<table border=\"1\" class=\"dataframe\">\n",
       "  <thead>\n",
       "    <tr style=\"text-align: right;\">\n",
       "      <th></th>\n",
       "      <th>country</th>\n",
       "      <th>continent</th>\n",
       "      <th>year</th>\n",
       "      <th>lifeExp</th>\n",
       "      <th>pop</th>\n",
       "      <th>gdpPercap</th>\n",
       "    </tr>\n",
       "  </thead>\n",
       "  <tbody>\n",
       "    <tr>\n",
       "      <th>71</th>\n",
       "      <td>Australia</td>\n",
       "      <td>Oceania</td>\n",
       "      <td>2007</td>\n",
       "      <td>81.235</td>\n",
       "      <td>20434176</td>\n",
       "      <td>34435.367440</td>\n",
       "    </tr>\n",
       "    <tr>\n",
       "      <th>299</th>\n",
       "      <td>China</td>\n",
       "      <td>Asia</td>\n",
       "      <td>2007</td>\n",
       "      <td>72.961</td>\n",
       "      <td>1318683096</td>\n",
       "      <td>4959.114854</td>\n",
       "    </tr>\n",
       "    <tr>\n",
       "      <th>575</th>\n",
       "      <td>Germany</td>\n",
       "      <td>Europe</td>\n",
       "      <td>2007</td>\n",
       "      <td>79.406</td>\n",
       "      <td>82400996</td>\n",
       "      <td>32170.374420</td>\n",
       "    </tr>\n",
       "    <tr>\n",
       "      <th>1139</th>\n",
       "      <td>Nigeria</td>\n",
       "      <td>Africa</td>\n",
       "      <td>2007</td>\n",
       "      <td>46.859</td>\n",
       "      <td>135031164</td>\n",
       "      <td>2013.977305</td>\n",
       "    </tr>\n",
       "    <tr>\n",
       "      <th>1619</th>\n",
       "      <td>United States</td>\n",
       "      <td>Americas</td>\n",
       "      <td>2007</td>\n",
       "      <td>78.242</td>\n",
       "      <td>301139947</td>\n",
       "      <td>42951.653090</td>\n",
       "    </tr>\n",
       "  </tbody>\n",
       "</table>\n",
       "</div>"
      ],
      "text/plain": [
       "            country continent  year  lifeExp         pop     gdpPercap\n",
       "71        Australia   Oceania  2007   81.235    20434176  34435.367440\n",
       "299           China      Asia  2007   72.961  1318683096   4959.114854\n",
       "575         Germany    Europe  2007   79.406    82400996  32170.374420\n",
       "1139        Nigeria    Africa  2007   46.859   135031164   2013.977305\n",
       "1619  United States  Americas  2007   78.242   301139947  42951.653090"
      ]
     },
     "execution_count": 53,
     "metadata": {},
     "output_type": "execute_result"
    }
   ],
   "source": [
    "# Use boolean indexing to filter rows\n",
    "gapminder[gapminder[\"pop\"].isin(most_populous)]"
   ]
  },
  {
   "cell_type": "code",
   "execution_count": 56,
   "id": "f860df96",
   "metadata": {},
   "outputs": [],
   "source": [
    "least_populous = gapminder[ (gapminder[\"year\"]== 2007) ].groupby(by = [\"continent\"])[\"pop\"].min()"
   ]
  },
  {
   "cell_type": "code",
   "execution_count": 57,
   "id": "5ef49f57",
   "metadata": {},
   "outputs": [
    {
     "data": {
      "text/html": [
       "<div>\n",
       "<style scoped>\n",
       "    .dataframe tbody tr th:only-of-type {\n",
       "        vertical-align: middle;\n",
       "    }\n",
       "\n",
       "    .dataframe tbody tr th {\n",
       "        vertical-align: top;\n",
       "    }\n",
       "\n",
       "    .dataframe thead th {\n",
       "        text-align: right;\n",
       "    }\n",
       "</style>\n",
       "<table border=\"1\" class=\"dataframe\">\n",
       "  <thead>\n",
       "    <tr style=\"text-align: right;\">\n",
       "      <th></th>\n",
       "      <th>country</th>\n",
       "      <th>continent</th>\n",
       "      <th>year</th>\n",
       "      <th>lifeExp</th>\n",
       "      <th>pop</th>\n",
       "      <th>gdpPercap</th>\n",
       "    </tr>\n",
       "  </thead>\n",
       "  <tbody>\n",
       "    <tr>\n",
       "      <th>95</th>\n",
       "      <td>Bahrain</td>\n",
       "      <td>Asia</td>\n",
       "      <td>2007</td>\n",
       "      <td>75.635</td>\n",
       "      <td>708573</td>\n",
       "      <td>29796.048340</td>\n",
       "    </tr>\n",
       "    <tr>\n",
       "      <th>695</th>\n",
       "      <td>Iceland</td>\n",
       "      <td>Europe</td>\n",
       "      <td>2007</td>\n",
       "      <td>81.757</td>\n",
       "      <td>301931</td>\n",
       "      <td>36180.789190</td>\n",
       "    </tr>\n",
       "    <tr>\n",
       "      <th>1103</th>\n",
       "      <td>New Zealand</td>\n",
       "      <td>Oceania</td>\n",
       "      <td>2007</td>\n",
       "      <td>80.204</td>\n",
       "      <td>4115771</td>\n",
       "      <td>25185.009110</td>\n",
       "    </tr>\n",
       "    <tr>\n",
       "      <th>1307</th>\n",
       "      <td>Sao Tome and Principe</td>\n",
       "      <td>Africa</td>\n",
       "      <td>2007</td>\n",
       "      <td>65.528</td>\n",
       "      <td>199579</td>\n",
       "      <td>1598.435089</td>\n",
       "    </tr>\n",
       "    <tr>\n",
       "      <th>1559</th>\n",
       "      <td>Trinidad and Tobago</td>\n",
       "      <td>Americas</td>\n",
       "      <td>2007</td>\n",
       "      <td>69.819</td>\n",
       "      <td>1056608</td>\n",
       "      <td>18008.509240</td>\n",
       "    </tr>\n",
       "  </tbody>\n",
       "</table>\n",
       "</div>"
      ],
      "text/plain": [
       "                    country continent  year  lifeExp      pop     gdpPercap\n",
       "95                  Bahrain      Asia  2007   75.635   708573  29796.048340\n",
       "695                 Iceland    Europe  2007   81.757   301931  36180.789190\n",
       "1103            New Zealand   Oceania  2007   80.204  4115771  25185.009110\n",
       "1307  Sao Tome and Principe    Africa  2007   65.528   199579   1598.435089\n",
       "1559    Trinidad and Tobago  Americas  2007   69.819  1056608  18008.509240"
      ]
     },
     "execution_count": 57,
     "metadata": {},
     "output_type": "execute_result"
    }
   ],
   "source": [
    "gapminder[gapminder[\"pop\"].isin(least_populous)]"
   ]
  },
  {
   "cell_type": "markdown",
   "id": "67477178",
   "metadata": {},
   "source": [
    "### *The richest and poorest country in each continent in 1952.*"
   ]
  },
  {
   "cell_type": "code",
   "execution_count": 58,
   "id": "7f1bc9e3",
   "metadata": {},
   "outputs": [],
   "source": [
    "richest_country = gapminder[ (gapminder[\"year\"]== 1952) ].groupby(by = [\"continent\"])[\"gdpPercap\"].max()"
   ]
  },
  {
   "cell_type": "code",
   "execution_count": 60,
   "id": "4900e75d",
   "metadata": {},
   "outputs": [
    {
     "data": {
      "text/html": [
       "<div>\n",
       "<style scoped>\n",
       "    .dataframe tbody tr th:only-of-type {\n",
       "        vertical-align: middle;\n",
       "    }\n",
       "\n",
       "    .dataframe tbody tr th {\n",
       "        vertical-align: top;\n",
       "    }\n",
       "\n",
       "    .dataframe thead th {\n",
       "        text-align: right;\n",
       "    }\n",
       "</style>\n",
       "<table border=\"1\" class=\"dataframe\">\n",
       "  <thead>\n",
       "    <tr style=\"text-align: right;\">\n",
       "      <th></th>\n",
       "      <th>country</th>\n",
       "      <th>continent</th>\n",
       "      <th>year</th>\n",
       "      <th>lifeExp</th>\n",
       "      <th>pop</th>\n",
       "      <th>gdpPercap</th>\n",
       "    </tr>\n",
       "  </thead>\n",
       "  <tbody>\n",
       "    <tr>\n",
       "      <th>852</th>\n",
       "      <td>Kuwait</td>\n",
       "      <td>Asia</td>\n",
       "      <td>1952</td>\n",
       "      <td>55.565</td>\n",
       "      <td>160000</td>\n",
       "      <td>108382.352900</td>\n",
       "    </tr>\n",
       "    <tr>\n",
       "      <th>1092</th>\n",
       "      <td>New Zealand</td>\n",
       "      <td>Oceania</td>\n",
       "      <td>1952</td>\n",
       "      <td>69.390</td>\n",
       "      <td>1994794</td>\n",
       "      <td>10556.575660</td>\n",
       "    </tr>\n",
       "    <tr>\n",
       "      <th>1404</th>\n",
       "      <td>South Africa</td>\n",
       "      <td>Africa</td>\n",
       "      <td>1952</td>\n",
       "      <td>45.009</td>\n",
       "      <td>14264935</td>\n",
       "      <td>4725.295531</td>\n",
       "    </tr>\n",
       "    <tr>\n",
       "      <th>1476</th>\n",
       "      <td>Switzerland</td>\n",
       "      <td>Europe</td>\n",
       "      <td>1952</td>\n",
       "      <td>69.620</td>\n",
       "      <td>4815000</td>\n",
       "      <td>14734.232750</td>\n",
       "    </tr>\n",
       "    <tr>\n",
       "      <th>1608</th>\n",
       "      <td>United States</td>\n",
       "      <td>Americas</td>\n",
       "      <td>1952</td>\n",
       "      <td>68.440</td>\n",
       "      <td>157553000</td>\n",
       "      <td>13990.482080</td>\n",
       "    </tr>\n",
       "  </tbody>\n",
       "</table>\n",
       "</div>"
      ],
      "text/plain": [
       "            country continent  year  lifeExp        pop      gdpPercap\n",
       "852          Kuwait      Asia  1952   55.565     160000  108382.352900\n",
       "1092    New Zealand   Oceania  1952   69.390    1994794   10556.575660\n",
       "1404   South Africa    Africa  1952   45.009   14264935    4725.295531\n",
       "1476    Switzerland    Europe  1952   69.620    4815000   14734.232750\n",
       "1608  United States  Americas  1952   68.440  157553000   13990.482080"
      ]
     },
     "execution_count": 60,
     "metadata": {},
     "output_type": "execute_result"
    }
   ],
   "source": [
    "gapminder[gapminder[\"gdpPercap\"].isin(richest_country)]"
   ]
  },
  {
   "cell_type": "code",
   "execution_count": 61,
   "id": "7ad6701d",
   "metadata": {},
   "outputs": [],
   "source": [
    "poorest_country = gapminder[ (gapminder[\"year\"]== 1952) ].groupby(by = [\"continent\"])[\"gdpPercap\"].min()"
   ]
  },
  {
   "cell_type": "code",
   "execution_count": 62,
   "id": "fd555d5f",
   "metadata": {},
   "outputs": [
    {
     "data": {
      "text/html": [
       "<div>\n",
       "<style scoped>\n",
       "    .dataframe tbody tr th:only-of-type {\n",
       "        vertical-align: middle;\n",
       "    }\n",
       "\n",
       "    .dataframe tbody tr th {\n",
       "        vertical-align: top;\n",
       "    }\n",
       "\n",
       "    .dataframe thead th {\n",
       "        text-align: right;\n",
       "    }\n",
       "</style>\n",
       "<table border=\"1\" class=\"dataframe\">\n",
       "  <thead>\n",
       "    <tr style=\"text-align: right;\">\n",
       "      <th></th>\n",
       "      <th>country</th>\n",
       "      <th>continent</th>\n",
       "      <th>year</th>\n",
       "      <th>lifeExp</th>\n",
       "      <th>pop</th>\n",
       "      <th>gdpPercap</th>\n",
       "    </tr>\n",
       "  </thead>\n",
       "  <tbody>\n",
       "    <tr>\n",
       "      <th>60</th>\n",
       "      <td>Australia</td>\n",
       "      <td>Oceania</td>\n",
       "      <td>1952</td>\n",
       "      <td>69.120</td>\n",
       "      <td>8691212</td>\n",
       "      <td>10039.595640</td>\n",
       "    </tr>\n",
       "    <tr>\n",
       "      <th>144</th>\n",
       "      <td>Bosnia and Herzegovina</td>\n",
       "      <td>Europe</td>\n",
       "      <td>1952</td>\n",
       "      <td>53.820</td>\n",
       "      <td>2791000</td>\n",
       "      <td>973.533195</td>\n",
       "    </tr>\n",
       "    <tr>\n",
       "      <th>432</th>\n",
       "      <td>Dominican Republic</td>\n",
       "      <td>Americas</td>\n",
       "      <td>1952</td>\n",
       "      <td>45.928</td>\n",
       "      <td>2491346</td>\n",
       "      <td>1397.717137</td>\n",
       "    </tr>\n",
       "    <tr>\n",
       "      <th>876</th>\n",
       "      <td>Lesotho</td>\n",
       "      <td>Africa</td>\n",
       "      <td>1952</td>\n",
       "      <td>42.138</td>\n",
       "      <td>748747</td>\n",
       "      <td>298.846212</td>\n",
       "    </tr>\n",
       "    <tr>\n",
       "      <th>1044</th>\n",
       "      <td>Myanmar</td>\n",
       "      <td>Asia</td>\n",
       "      <td>1952</td>\n",
       "      <td>36.319</td>\n",
       "      <td>20092996</td>\n",
       "      <td>331.000000</td>\n",
       "    </tr>\n",
       "  </tbody>\n",
       "</table>\n",
       "</div>"
      ],
      "text/plain": [
       "                     country continent  year  lifeExp       pop     gdpPercap\n",
       "60                 Australia   Oceania  1952   69.120   8691212  10039.595640\n",
       "144   Bosnia and Herzegovina    Europe  1952   53.820   2791000    973.533195\n",
       "432       Dominican Republic  Americas  1952   45.928   2491346   1397.717137\n",
       "876                  Lesotho    Africa  1952   42.138    748747    298.846212\n",
       "1044                 Myanmar      Asia  1952   36.319  20092996    331.000000"
      ]
     },
     "execution_count": 62,
     "metadata": {},
     "output_type": "execute_result"
    }
   ],
   "source": [
    "gapminder[gapminder[\"gdpPercap\"].isin(poorest_country)]"
   ]
  },
  {
   "cell_type": "markdown",
   "id": "3a67f383",
   "metadata": {},
   "source": [
    "## **Total population increase between 1952 and 2007**\n",
    "\n",
    "What should be the grouping variable(s) for answering this question?"
   ]
  },
  {
   "cell_type": "code",
   "execution_count": 68,
   "id": "cede1e55",
   "metadata": {},
   "outputs": [
    {
     "data": {
      "text/plain": [
       "year\n",
       "1952    2406957150\n",
       "2007    6251013179\n",
       "Name: pop, dtype: int64"
      ]
     },
     "execution_count": 68,
     "metadata": {},
     "output_type": "execute_result"
    }
   ],
   "source": [
    "gapminder[(gapminder[\"year\"] == 1952) | (gapminder[\"year\"] == 2007)].groupby(by = \"year\")[\"pop\"].sum()"
   ]
  },
  {
   "cell_type": "code",
   "execution_count": 69,
   "id": "7c13dd1d",
   "metadata": {},
   "outputs": [
    {
     "data": {
      "text/plain": [
       "3844056029"
      ]
     },
     "execution_count": 69,
     "metadata": {},
     "output_type": "execute_result"
    }
   ],
   "source": [
    "6251013179 - 2406957150"
   ]
  },
  {
   "cell_type": "markdown",
   "id": "6e2be0bd",
   "metadata": {},
   "source": [
    "## **Which continent has the largest population increase between 1952 and 2007?**"
   ]
  },
  {
   "cell_type": "code",
   "execution_count": null,
   "id": "5b470e85",
   "metadata": {},
   "outputs": [],
   "source": [
    "Pop_increase_by_continent = gapminder[(gapminder[\"year\"] == 1952) | (gapminder[\"year\"] == 2007)].groupby(by = [\"continent\",\"year\"])[\"pop\"].sum()"
   ]
  },
  {
   "cell_type": "code",
   "execution_count": null,
   "id": "f1bef985",
   "metadata": {},
   "outputs": [],
   "source": [
    "Pop_increase_by_continent"
   ]
  },
  {
   "cell_type": "markdown",
   "id": "8a21b9cc",
   "metadata": {},
   "source": [
    "## **Average life expectancy by continent in 1952 and 2007**\n",
    "\n",
    "What should be the grouping variable(s) for answering this question?"
   ]
  },
  {
   "cell_type": "code",
   "execution_count": 74,
   "id": "b75588be",
   "metadata": {},
   "outputs": [],
   "source": [
    "avg_LifeExp = gapminder[(gapminder[\"year\"] == 1952)| (gapminder[\"year\"] == 2007)].groupby(by = [\"continent\",\"year\"])[\"lifeExp\"].mean()"
   ]
  },
  {
   "cell_type": "code",
   "execution_count": 75,
   "id": "729c87df",
   "metadata": {},
   "outputs": [
    {
     "data": {
      "text/plain": [
       "continent  year\n",
       "Africa     1952    39.135500\n",
       "           2007    54.806038\n",
       "Americas   1952    53.279840\n",
       "           2007    73.608120\n",
       "Asia       1952    46.314394\n",
       "           2007    70.728485\n",
       "Europe     1952    64.408500\n",
       "           2007    77.648600\n",
       "Oceania    1952    69.255000\n",
       "           2007    80.719500\n",
       "Name: lifeExp, dtype: float64"
      ]
     },
     "execution_count": 75,
     "metadata": {},
     "output_type": "execute_result"
    }
   ],
   "source": [
    "avg_LifeExp"
   ]
  },
  {
   "cell_type": "markdown",
   "id": "ccc9e307",
   "metadata": {},
   "source": [
    "## **Continent with the greatest life expectancy increase between 1952 - 2007**"
   ]
  },
  {
   "cell_type": "code",
   "execution_count": null,
   "id": "e19b6d1f",
   "metadata": {},
   "outputs": [],
   "source": [
    "df = pd.DataFrame(avg_LifeExp).pivot_table(index = \"continent\", columns = \"year\")[\"lifeExp\"]"
   ]
  },
  {
   "cell_type": "code",
   "execution_count": null,
   "id": "d124989a",
   "metadata": {},
   "outputs": [],
   "source": [
    "year_1952 = pd.DataFrame(avg_LifeExp).pivot_table(index = \"continent\", columns = \"year\")[\"lifeExp\"][1952]"
   ]
  },
  {
   "cell_type": "code",
   "execution_count": null,
   "id": "9876ce84",
   "metadata": {},
   "outputs": [],
   "source": [
    "year_2007 = pd.DataFrame(avg_LifeExp).pivot_table(index = \"continent\", columns = \"year\")[\"lifeExp\"][2007]"
   ]
  },
  {
   "cell_type": "code",
   "execution_count": null,
   "id": "d73c6876",
   "metadata": {},
   "outputs": [],
   "source": [
    "df[\"LifeExp_increase\"] = year_2007-year_1952"
   ]
  },
  {
   "cell_type": "code",
   "execution_count": null,
   "id": "917ea6cd",
   "metadata": {},
   "outputs": [],
   "source": [
    "df.sort_values(by = \"LifeExp_increase\", ascending = False)"
   ]
  },
  {
   "cell_type": "markdown",
   "id": "9912bf39",
   "metadata": {},
   "source": [
    "## **Top five countries with highest life expectancy in each continent in 2007**"
   ]
  },
  {
   "cell_type": "code",
   "execution_count": 76,
   "id": "db0fa4e4",
   "metadata": {},
   "outputs": [],
   "source": [
    "top_five_countries = gapminder[gapminder[\"year\"] ==2007].groupby(by = \"continent\")[\"lifeExp\"].apply(lambda x: pd.Series(x.sort_values(ascending = False).head()))"
   ]
  },
  {
   "cell_type": "code",
   "execution_count": 77,
   "id": "3c43a29d",
   "metadata": {},
   "outputs": [
    {
     "data": {
      "text/plain": [
       "continent      \n",
       "Africa     1271    76.442\n",
       "           911     73.952\n",
       "           1571    73.923\n",
       "           983     72.801\n",
       "           35      72.301\n",
       "Americas   251     80.653\n",
       "           359     78.782\n",
       "           1259    78.746\n",
       "           287     78.553\n",
       "           395     78.273\n",
       "Asia       803     82.603\n",
       "           671     82.208\n",
       "           767     80.745\n",
       "           1367    79.972\n",
       "           851     78.623\n",
       "Europe     695     81.757\n",
       "           1487    81.701\n",
       "           1427    80.941\n",
       "           1475    80.884\n",
       "           539     80.657\n",
       "Oceania    71      81.235\n",
       "           1103    80.204\n",
       "Name: lifeExp, dtype: float64"
      ]
     },
     "execution_count": 77,
     "metadata": {},
     "output_type": "execute_result"
    }
   ],
   "source": [
    "top_five_countries"
   ]
  },
  {
   "cell_type": "code",
   "execution_count": 78,
   "id": "faba57ed",
   "metadata": {},
   "outputs": [
    {
     "data": {
      "text/html": [
       "<div>\n",
       "<style scoped>\n",
       "    .dataframe tbody tr th:only-of-type {\n",
       "        vertical-align: middle;\n",
       "    }\n",
       "\n",
       "    .dataframe tbody tr th {\n",
       "        vertical-align: top;\n",
       "    }\n",
       "\n",
       "    .dataframe thead th {\n",
       "        text-align: right;\n",
       "    }\n",
       "</style>\n",
       "<table border=\"1\" class=\"dataframe\">\n",
       "  <thead>\n",
       "    <tr style=\"text-align: right;\">\n",
       "      <th></th>\n",
       "      <th>country</th>\n",
       "      <th>continent</th>\n",
       "      <th>year</th>\n",
       "      <th>lifeExp</th>\n",
       "      <th>pop</th>\n",
       "      <th>gdpPercap</th>\n",
       "    </tr>\n",
       "  </thead>\n",
       "  <tbody>\n",
       "    <tr>\n",
       "      <th>1271</th>\n",
       "      <td>Reunion</td>\n",
       "      <td>Africa</td>\n",
       "      <td>2007</td>\n",
       "      <td>76.442</td>\n",
       "      <td>798094</td>\n",
       "      <td>7670.122558</td>\n",
       "    </tr>\n",
       "    <tr>\n",
       "      <th>911</th>\n",
       "      <td>Libya</td>\n",
       "      <td>Africa</td>\n",
       "      <td>2007</td>\n",
       "      <td>73.952</td>\n",
       "      <td>6036914</td>\n",
       "      <td>12057.499280</td>\n",
       "    </tr>\n",
       "    <tr>\n",
       "      <th>1571</th>\n",
       "      <td>Tunisia</td>\n",
       "      <td>Africa</td>\n",
       "      <td>2007</td>\n",
       "      <td>73.923</td>\n",
       "      <td>10276158</td>\n",
       "      <td>7092.923025</td>\n",
       "    </tr>\n",
       "    <tr>\n",
       "      <th>983</th>\n",
       "      <td>Mauritius</td>\n",
       "      <td>Africa</td>\n",
       "      <td>2007</td>\n",
       "      <td>72.801</td>\n",
       "      <td>1250882</td>\n",
       "      <td>10956.991120</td>\n",
       "    </tr>\n",
       "    <tr>\n",
       "      <th>35</th>\n",
       "      <td>Algeria</td>\n",
       "      <td>Africa</td>\n",
       "      <td>2007</td>\n",
       "      <td>72.301</td>\n",
       "      <td>33333216</td>\n",
       "      <td>6223.367465</td>\n",
       "    </tr>\n",
       "    <tr>\n",
       "      <th>251</th>\n",
       "      <td>Canada</td>\n",
       "      <td>Americas</td>\n",
       "      <td>2007</td>\n",
       "      <td>80.653</td>\n",
       "      <td>33390141</td>\n",
       "      <td>36319.235010</td>\n",
       "    </tr>\n",
       "    <tr>\n",
       "      <th>359</th>\n",
       "      <td>Costa Rica</td>\n",
       "      <td>Americas</td>\n",
       "      <td>2007</td>\n",
       "      <td>78.782</td>\n",
       "      <td>4133884</td>\n",
       "      <td>9645.061420</td>\n",
       "    </tr>\n",
       "    <tr>\n",
       "      <th>1259</th>\n",
       "      <td>Puerto Rico</td>\n",
       "      <td>Americas</td>\n",
       "      <td>2007</td>\n",
       "      <td>78.746</td>\n",
       "      <td>3942491</td>\n",
       "      <td>19328.709010</td>\n",
       "    </tr>\n",
       "    <tr>\n",
       "      <th>287</th>\n",
       "      <td>Chile</td>\n",
       "      <td>Americas</td>\n",
       "      <td>2007</td>\n",
       "      <td>78.553</td>\n",
       "      <td>16284741</td>\n",
       "      <td>13171.638850</td>\n",
       "    </tr>\n",
       "    <tr>\n",
       "      <th>395</th>\n",
       "      <td>Cuba</td>\n",
       "      <td>Americas</td>\n",
       "      <td>2007</td>\n",
       "      <td>78.273</td>\n",
       "      <td>11416987</td>\n",
       "      <td>8948.102923</td>\n",
       "    </tr>\n",
       "    <tr>\n",
       "      <th>803</th>\n",
       "      <td>Japan</td>\n",
       "      <td>Asia</td>\n",
       "      <td>2007</td>\n",
       "      <td>82.603</td>\n",
       "      <td>127467972</td>\n",
       "      <td>31656.068060</td>\n",
       "    </tr>\n",
       "    <tr>\n",
       "      <th>671</th>\n",
       "      <td>Hong Kong, China</td>\n",
       "      <td>Asia</td>\n",
       "      <td>2007</td>\n",
       "      <td>82.208</td>\n",
       "      <td>6980412</td>\n",
       "      <td>39724.978670</td>\n",
       "    </tr>\n",
       "    <tr>\n",
       "      <th>767</th>\n",
       "      <td>Israel</td>\n",
       "      <td>Asia</td>\n",
       "      <td>2007</td>\n",
       "      <td>80.745</td>\n",
       "      <td>6426679</td>\n",
       "      <td>25523.277100</td>\n",
       "    </tr>\n",
       "    <tr>\n",
       "      <th>1367</th>\n",
       "      <td>Singapore</td>\n",
       "      <td>Asia</td>\n",
       "      <td>2007</td>\n",
       "      <td>79.972</td>\n",
       "      <td>4553009</td>\n",
       "      <td>47143.179640</td>\n",
       "    </tr>\n",
       "    <tr>\n",
       "      <th>851</th>\n",
       "      <td>Korea, Rep.</td>\n",
       "      <td>Asia</td>\n",
       "      <td>2007</td>\n",
       "      <td>78.623</td>\n",
       "      <td>49044790</td>\n",
       "      <td>23348.139730</td>\n",
       "    </tr>\n",
       "    <tr>\n",
       "      <th>695</th>\n",
       "      <td>Iceland</td>\n",
       "      <td>Europe</td>\n",
       "      <td>2007</td>\n",
       "      <td>81.757</td>\n",
       "      <td>301931</td>\n",
       "      <td>36180.789190</td>\n",
       "    </tr>\n",
       "    <tr>\n",
       "      <th>1487</th>\n",
       "      <td>Switzerland</td>\n",
       "      <td>Europe</td>\n",
       "      <td>2007</td>\n",
       "      <td>81.701</td>\n",
       "      <td>7554661</td>\n",
       "      <td>37506.419070</td>\n",
       "    </tr>\n",
       "    <tr>\n",
       "      <th>1427</th>\n",
       "      <td>Spain</td>\n",
       "      <td>Europe</td>\n",
       "      <td>2007</td>\n",
       "      <td>80.941</td>\n",
       "      <td>40448191</td>\n",
       "      <td>28821.063700</td>\n",
       "    </tr>\n",
       "    <tr>\n",
       "      <th>1475</th>\n",
       "      <td>Sweden</td>\n",
       "      <td>Europe</td>\n",
       "      <td>2007</td>\n",
       "      <td>80.884</td>\n",
       "      <td>9031088</td>\n",
       "      <td>33859.748350</td>\n",
       "    </tr>\n",
       "    <tr>\n",
       "      <th>539</th>\n",
       "      <td>France</td>\n",
       "      <td>Europe</td>\n",
       "      <td>2007</td>\n",
       "      <td>80.657</td>\n",
       "      <td>61083916</td>\n",
       "      <td>30470.016700</td>\n",
       "    </tr>\n",
       "    <tr>\n",
       "      <th>71</th>\n",
       "      <td>Australia</td>\n",
       "      <td>Oceania</td>\n",
       "      <td>2007</td>\n",
       "      <td>81.235</td>\n",
       "      <td>20434176</td>\n",
       "      <td>34435.367440</td>\n",
       "    </tr>\n",
       "    <tr>\n",
       "      <th>1103</th>\n",
       "      <td>New Zealand</td>\n",
       "      <td>Oceania</td>\n",
       "      <td>2007</td>\n",
       "      <td>80.204</td>\n",
       "      <td>4115771</td>\n",
       "      <td>25185.009110</td>\n",
       "    </tr>\n",
       "  </tbody>\n",
       "</table>\n",
       "</div>"
      ],
      "text/plain": [
       "               country continent  year  lifeExp        pop     gdpPercap\n",
       "1271           Reunion    Africa  2007   76.442     798094   7670.122558\n",
       "911              Libya    Africa  2007   73.952    6036914  12057.499280\n",
       "1571           Tunisia    Africa  2007   73.923   10276158   7092.923025\n",
       "983          Mauritius    Africa  2007   72.801    1250882  10956.991120\n",
       "35             Algeria    Africa  2007   72.301   33333216   6223.367465\n",
       "251             Canada  Americas  2007   80.653   33390141  36319.235010\n",
       "359         Costa Rica  Americas  2007   78.782    4133884   9645.061420\n",
       "1259       Puerto Rico  Americas  2007   78.746    3942491  19328.709010\n",
       "287              Chile  Americas  2007   78.553   16284741  13171.638850\n",
       "395               Cuba  Americas  2007   78.273   11416987   8948.102923\n",
       "803              Japan      Asia  2007   82.603  127467972  31656.068060\n",
       "671   Hong Kong, China      Asia  2007   82.208    6980412  39724.978670\n",
       "767             Israel      Asia  2007   80.745    6426679  25523.277100\n",
       "1367         Singapore      Asia  2007   79.972    4553009  47143.179640\n",
       "851        Korea, Rep.      Asia  2007   78.623   49044790  23348.139730\n",
       "695            Iceland    Europe  2007   81.757     301931  36180.789190\n",
       "1487       Switzerland    Europe  2007   81.701    7554661  37506.419070\n",
       "1427             Spain    Europe  2007   80.941   40448191  28821.063700\n",
       "1475            Sweden    Europe  2007   80.884    9031088  33859.748350\n",
       "539             France    Europe  2007   80.657   61083916  30470.016700\n",
       "71           Australia   Oceania  2007   81.235   20434176  34435.367440\n",
       "1103       New Zealand   Oceania  2007   80.204    4115771  25185.009110"
      ]
     },
     "execution_count": 78,
     "metadata": {},
     "output_type": "execute_result"
    }
   ],
   "source": [
    "gapminder[gapminder[\"lifeExp\"].isin(top_five_countries)].sort_values(by = [\"continent\", \"lifeExp\"], ascending = [True, False])"
   ]
  },
  {
   "cell_type": "markdown",
   "id": "7ff6bf59",
   "metadata": {},
   "source": [
    "### *Another way to do the same thing*"
   ]
  },
  {
   "cell_type": "code",
   "execution_count": null,
   "id": "ed2828ba",
   "metadata": {},
   "outputs": [],
   "source": [
    "top_five_index = [ country for continent, country in multi_index_list]"
   ]
  },
  {
   "cell_type": "code",
   "execution_count": null,
   "id": "5c068451",
   "metadata": {},
   "outputs": [],
   "source": [
    "gapminder.iloc[top_five_index, ]"
   ]
  },
  {
   "cell_type": "markdown",
   "id": "72707dbf",
   "metadata": {},
   "source": [
    "### *Application of apply() method to Pandas series*\n",
    "\n",
    "- Convert the population series (column) into millions by dividing each value by 1000,000.\n",
    "- Convert the Continent names into uppcase."
   ]
  },
  {
   "cell_type": "code",
   "execution_count": 79,
   "id": "8cbda3eb",
   "metadata": {},
   "outputs": [
    {
     "data": {
      "text/plain": [
       "0        8.425333\n",
       "1        9.240934\n",
       "2       10.267083\n",
       "3       11.537966\n",
       "4       13.079460\n",
       "          ...    \n",
       "1699     9.216418\n",
       "1700    10.704340\n",
       "1701    11.404948\n",
       "1702    11.926563\n",
       "1703    12.311143\n",
       "Name: pop, Length: 1704, dtype: float64"
      ]
     },
     "execution_count": 79,
     "metadata": {},
     "output_type": "execute_result"
    }
   ],
   "source": [
    "gapminder[\"pop\"].apply(lambda x : x/1000000) ## if you want to make changes in place, then assigned back to the same column name"
   ]
  },
  {
   "cell_type": "code",
   "execution_count": null,
   "id": "cbc22cd5",
   "metadata": {},
   "outputs": [],
   "source": [
    "gapminder[\"continent\"].apply(lambda x: x.lower())   "
   ]
  }
 ],
 "metadata": {
  "kernelspec": {
   "display_name": "Python 3 (ipykernel)",
   "language": "python",
   "name": "python3"
  },
  "language_info": {
   "codemirror_mode": {
    "name": "ipython",
    "version": 3
   },
   "file_extension": ".py",
   "mimetype": "text/x-python",
   "name": "python",
   "nbconvert_exporter": "python",
   "pygments_lexer": "ipython3",
   "version": "3.10.11"
  }
 },
 "nbformat": 4,
 "nbformat_minor": 5
}
