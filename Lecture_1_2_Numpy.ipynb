{
 "cells": [
  {
   "cell_type": "markdown",
   "id": "7881d49f",
   "metadata": {},
   "source": [
    "# **Ten days rigorous FREE data science training with Python**\n",
    "\n",
    "\n",
    "**Duration: 01st March 2024 to 09th March 2024.**\n",
    "\n",
    "**Lecture Time: 07:30-0900 AM EST**\n",
    "\n",
    "**Organized by: https://www.facebook.com/LearnPythonR4Datascience**\n",
    "\n",
    "**Please like, share, and follow my facebook page for more interesting content.**\n",
    "\n",
    "**Please note that zoom link is already posted on my facebook page.**"
   ]
  },
  {
   "cell_type": "markdown",
   "id": "dbd4301e",
   "metadata": {},
   "source": [
    "## **What will be covered in this free data science training?**\n",
    "\n",
    "**NUMPY--------------------------------------------- 01st & 2nd March**\n",
    "\n",
    "**SCIPY(self-study)--------------------------------- 3rd March (No class)**\n",
    "\n",
    "**PYTORCH(basic introduction)----------------------- 4th March**\n",
    "\n",
    "**PANDAS-------------------------------------------- 5-7th March**\n",
    "\n",
    "**MATPLOTLIB---------------------------------------- 8th and 9th March**\n",
    "\n",
    "\n",
    "**NOTE:**\n",
    "\n",
    "**Recorded zoom lectures will be uploaded on my facebook page few hours after the lecture.**\n",
    "\n",
    "**Python script will also be available on my Github account few hours after the lecture.**\n",
    "\n"
   ]
  },
  {
   "cell_type": "markdown",
   "id": "cde951f2",
   "metadata": {},
   "source": [
    "# WELCOME TO NUMPY"
   ]
  },
  {
   "cell_type": "code",
   "execution_count": null,
   "id": "21b30ed9",
   "metadata": {},
   "outputs": [],
   "source": [
    "#!pip install numpy ## You have to install the Python's numpy module once running the code on current line\n",
    "import numpy as np  ## How to import numpy\n",
    "import matplotlib.pyplot as plt"
   ]
  },
  {
   "cell_type": "markdown",
   "id": "c32a1e9c",
   "metadata": {},
   "source": [
    "# WHY NUMPY?"
   ]
  },
  {
   "cell_type": "markdown",
   "id": "23cb4428",
   "metadata": {},
   "source": [
    "NUMPY is the lingua franca of the data science. NUMPY is used to represent and manipulate multidimensional arrays. It provides the solid foundation for the other widely used data science libraries like Pandas, matplotlib, Pytorch etc. ML/DL/NLP is all about manipulating numbers. Input (Images, Videos, Text etc.) is converted into numbers and then manipulated in some way to come with output (again numbers). Data Science is all about the representation of input into numbers and manipulating in a way to generate output (that is also numbers).\n",
    "\n",
    "We cannot perform element wise operation on Python's list without writing an explicit \"for loop\" but we can perform elementwise operation on the elements in numpy array without \"for loop\".\n",
    "\n",
    "Comparison of numpy array with Pyhton's list\n",
    "- All elements of numpy arrays **must** be of one (same) data type while the elements of Python's list could be of different data type.\n",
    "- Numpy arrays are memory efficient.\n",
    "- Computations with numpy arrays are superfast.\n",
    "- We can perform element-wise operation on the elements of numpy array without writing an explicit \"for loop\"."
   ]
  },
  {
   "cell_type": "code",
   "execution_count": null,
   "id": "09658ac8",
   "metadata": {},
   "outputs": [],
   "source": [
    "a = [1, 5, 10, 12]\n",
    "\n",
    "## What if we want to apply some \"same operation\" to all the elements of above Python's list. Let us say we want to multiply \n",
    "## each element in the above list with 5\n",
    "\n",
    "a*5  ##won't multiply but repeat the same list five times and create a bigger list. This is not what we wanted."
   ]
  },
  {
   "cell_type": "code",
   "execution_count": null,
   "id": "32758d36",
   "metadata": {},
   "outputs": [],
   "source": [
    "## Element wise operation\n",
    "## We have to write an explicit for loop to multiply each element with 5\n",
    "storage_list = []\n",
    "for i in a:\n",
    "    storage_list.append(5*i)\n",
    "print(storage_list)"
   ]
  },
  {
   "cell_type": "code",
   "execution_count": null,
   "id": "4fe2eedd",
   "metadata": {},
   "outputs": [],
   "source": [
    "## List comprehension: We can perform element wise operation on Python's list using list comprehension. List\n",
    "## comprehensions are concise as compared to traditional verbose \"for loop\" but the list comprehension is still lot of code \n",
    "## to write for performing element-wise operation\n",
    "[i*5 for i in a]"
   ]
  },
  {
   "cell_type": "code",
   "execution_count": null,
   "id": "8cb276dc",
   "metadata": {},
   "outputs": [],
   "source": [
    "## Another method to perform element wise operation\n",
    "\n",
    "list(map(lambda x: x*5, a)) ## a must be iterable. Another way of performing element wise operation on Python."
   ]
  },
  {
   "cell_type": "code",
   "execution_count": null,
   "id": "f84a5793",
   "metadata": {},
   "outputs": [],
   "source": [
    "b = np.array([1,5,10,12])\n",
    "b*5\n",
    "## Just see how quickly you can perform elementwise operation on numpy's array"
   ]
  },
  {
   "cell_type": "code",
   "execution_count": null,
   "id": "28f8af30",
   "metadata": {},
   "outputs": [],
   "source": [
    "## Let us suppose we want to multiply the elements at the respective positions in the following two lists of equal length\n",
    "\n",
    "x_list = [10, 15, 20]\n",
    "y_list = [3,   4,  5]\n",
    "\n",
    "x_list*y_list  ## we cannot do elementwise operation on the two lists"
   ]
  },
  {
   "cell_type": "code",
   "execution_count": null,
   "id": "209c4def",
   "metadata": {},
   "outputs": [],
   "source": [
    "new_list = []\n",
    "for j, k in zip(y_list, x_list):\n",
    "    new_list.append(j*k)\n",
    "print(new_list) ## You cannot escape for loop if we want to multiply(divide/add/subtract) the elements at the \n",
    "## respective positions in two lists."
   ]
  },
  {
   "cell_type": "code",
   "execution_count": null,
   "id": "4f014c31",
   "metadata": {},
   "outputs": [],
   "source": [
    "x_array = np.array(x_list)\n",
    "y_array = np.array(y_list)\n",
    "\n",
    "x_array*y_array ## After converting the lists to numpy array we can do elementwise multiplication, addition, subtraction, division"
   ]
  },
  {
   "cell_type": "markdown",
   "id": "d88019f6",
   "metadata": {},
   "source": [
    "## Arguments of the method np.array()\n",
    "\n",
    "**object**: This is the primary argument and can take different forms:\n",
    "\n",
    "If object is a Python list or tuple, it creates a 1-D array with the elements from the list or tuple.\n",
    "If object is a nested list or tuple, it creates a multi-dimensional array where each nested list or tuple represents a row or axis.\n",
    "If object is a scalar value, it creates a 0-D array containing only that value.\n",
    "If object is an existing array, it creates a new array with the same content and properties.\n",
    "\n",
    "**dtype**: Specifies the data type of the elements in the array. It can be specified using a string or a NumPy data type object, such as int, float, bool, etc. If not provided, NumPy will infer the data type based on the elements in the object.\n",
    "\n",
    "**copy**: A Boolean flag that determines whether a new copy of the array should be created. If set to True (default), a new array is created. If set to False, it returns a view of the original array. Let us explore this copy versus view concept!!\n",
    "\n",
    "**ndmin**: Specifies the minimum number of dimensions that the resulting array should have. By default, ndmin is 0, meaning the array will have as few dimensions as possible. If ndmin is set to a higher value, additional dimensions of size 1 will be added to the front of the shape, if needed."
   ]
  },
  {
   "cell_type": "code",
   "execution_count": null,
   "id": "5a6be838",
   "metadata": {},
   "outputs": [],
   "source": [
    "b = np.array([1,5,10,12])\n",
    "c = np.array(b, copy = True)  \n",
    "print(b)\n",
    "print(c)\n",
    "## When you are creating the copy, the changes made in one array won't be reflected in the copied (other) array. \n",
    "## The copies are independent."
   ]
  },
  {
   "cell_type": "code",
   "execution_count": null,
   "id": "b49008fb",
   "metadata": {},
   "outputs": [],
   "source": [
    "c[0] = 999 ## Modification in the original data structure (list) is not reflected in the array because array was copy \n",
    "## and threfore independent\n",
    "print(b)\n",
    "print(c)"
   ]
  },
  {
   "cell_type": "code",
   "execution_count": null,
   "id": "cbd23cc1",
   "metadata": {},
   "outputs": [],
   "source": [
    "d = np.array(b, copy = False)  \n"
   ]
  },
  {
   "cell_type": "code",
   "execution_count": null,
   "id": "31651203",
   "metadata": {},
   "outputs": [],
   "source": [
    "d[0] =999 ## d is a view of the original array b. Therefore, changes made in the array d will be reflected \n",
    "## in the original array b"
   ]
  },
  {
   "cell_type": "code",
   "execution_count": null,
   "id": "81c1c8e8",
   "metadata": {},
   "outputs": [],
   "source": [
    "print(b)\n",
    "print(d)"
   ]
  },
  {
   "cell_type": "markdown",
   "id": "67c629e7",
   "metadata": {},
   "source": [
    "### Attributes of numpy array\n",
    "\n",
    "**shape**: Returns a tuple representing the dimensions of the array. For a 1-D array, it gives the length of the array. For a 2-D array, it provides the number of rows and columns, and so on.\n",
    "\n",
    "**dtype**: Returns the data type of the elements in the array. For example, int64, float32, etc.\n",
    "\n",
    "**ndim**: Returns the **number of dimensions** of the array.\n",
    "\n",
    "**size**: Returns the **total number of elements** in the array.\n",
    "\n",
    "**itemsize**: Returns the size in bytes of each element in the array.\n",
    "\n",
    "**nbytes**: Returns the total number of bytes used by the array's data.\n",
    "\n",
    "**T**: Returns the transpose of the array. It is equivalent to np.transpose(arr).\n",
    "\n",
    "\n",
    "**These two are actually methods not attributes of array(s)**\n",
    "\n",
    "**flatten()**: Returns a 1-D copy of the array, collapsing all dimensions.\n",
    "\n",
    "**tolist()**: Converts the array to a Python list.\n"
   ]
  },
  {
   "cell_type": "code",
   "execution_count": null,
   "id": "ecc47b7f",
   "metadata": {},
   "outputs": [],
   "source": [
    "one_d = np.array([5, 85, 95, 100])\n",
    "two_d = np.array([[1,2,3,4],[9,10,11,12]], dtype = \"float32\")"
   ]
  },
  {
   "cell_type": "code",
   "execution_count": null,
   "id": "e92432a6",
   "metadata": {},
   "outputs": [],
   "source": [
    "print(type(one_d))\n",
    "print(type(two_d))"
   ]
  },
  {
   "cell_type": "code",
   "execution_count": null,
   "id": "73e057af",
   "metadata": {},
   "outputs": [],
   "source": [
    "one_d"
   ]
  },
  {
   "cell_type": "code",
   "execution_count": null,
   "id": "d75cb0c6",
   "metadata": {},
   "outputs": [],
   "source": [
    "two_d"
   ]
  },
  {
   "cell_type": "code",
   "execution_count": null,
   "id": "c40faab1",
   "metadata": {},
   "outputs": [],
   "source": [
    "print(one_d.size)\n",
    "print(two_d.size)"
   ]
  },
  {
   "cell_type": "code",
   "execution_count": null,
   "id": "78e14c85",
   "metadata": {},
   "outputs": [],
   "source": [
    "print(one_d.ndim)\n",
    "print(two_d.ndim)"
   ]
  },
  {
   "cell_type": "code",
   "execution_count": null,
   "id": "ce9a82d6",
   "metadata": {},
   "outputs": [],
   "source": [
    "print(one_d.shape) ## How many elements we have in each dimension?\n",
    "print(two_d.shape) ## How many elements we have in each dimension?"
   ]
  },
  {
   "cell_type": "code",
   "execution_count": null,
   "id": "a657ac3c",
   "metadata": {},
   "outputs": [],
   "source": [
    "print(one_d.dtype)\n",
    "print(two_d.dtype)"
   ]
  },
  {
   "cell_type": "code",
   "execution_count": null,
   "id": "01dab3b4",
   "metadata": {},
   "outputs": [],
   "source": [
    "print(one_d.itemsize)\n",
    "print(two_d.itemsize)"
   ]
  },
  {
   "cell_type": "code",
   "execution_count": null,
   "id": "e3f1403f",
   "metadata": {},
   "outputs": [],
   "source": [
    "print(one_d.nbytes)\n",
    "print(two_d.nbytes)"
   ]
  },
  {
   "cell_type": "markdown",
   "id": "89956661",
   "metadata": {},
   "source": [
    "### Transpose"
   ]
  },
  {
   "cell_type": "code",
   "execution_count": null,
   "id": "b3d6e491",
   "metadata": {},
   "outputs": [],
   "source": [
    "two_d.shape"
   ]
  },
  {
   "cell_type": "code",
   "execution_count": null,
   "id": "5016f9d4",
   "metadata": {},
   "outputs": [],
   "source": [
    "two_d.T\n"
   ]
  },
  {
   "cell_type": "markdown",
   "id": "9c3b77d0",
   "metadata": {},
   "source": [
    "### Flattening to list"
   ]
  },
  {
   "cell_type": "code",
   "execution_count": null,
   "id": "7865dc66",
   "metadata": {},
   "outputs": [],
   "source": [
    "np.arange(1,51, 1).reshape(5,10).flatten(order = \"C\")"
   ]
  },
  {
   "cell_type": "code",
   "execution_count": null,
   "id": "82d32a8d",
   "metadata": {},
   "outputs": [],
   "source": [
    "np.arange(0, 10).reshape(5,2).flatten(order = \"F\")"
   ]
  },
  {
   "cell_type": "code",
   "execution_count": null,
   "id": "b8b5da7d",
   "metadata": {},
   "outputs": [],
   "source": [
    "print(type(one_d.tolist()))\n",
    "print(two_d.tolist()) ## flatten to a list with two nested lists"
   ]
  },
  {
   "cell_type": "code",
   "execution_count": null,
   "id": "94fadf91",
   "metadata": {},
   "outputs": [],
   "source": [
    "two_d.flatten().tolist() ##Chaining of methods is very very important"
   ]
  },
  {
   "cell_type": "code",
   "execution_count": null,
   "id": "221cc3c3",
   "metadata": {},
   "outputs": [],
   "source": [
    "np.random.randn()"
   ]
  },
  {
   "cell_type": "markdown",
   "id": "89b92e60",
   "metadata": {},
   "source": [
    "### Element-wise operations"
   ]
  },
  {
   "cell_type": "code",
   "execution_count": null,
   "id": "63f3275b",
   "metadata": {},
   "outputs": [],
   "source": [
    "one_d * 2 "
   ]
  },
  {
   "cell_type": "code",
   "execution_count": null,
   "id": "ec1cfa14",
   "metadata": {},
   "outputs": [],
   "source": [
    "two_d * 2"
   ]
  },
  {
   "cell_type": "markdown",
   "id": "f1960f34",
   "metadata": {},
   "source": [
    "### Array with zeros, ones or some other given number"
   ]
  },
  {
   "cell_type": "code",
   "execution_count": null,
   "id": "17633d93",
   "metadata": {},
   "outputs": [],
   "source": [
    "zero_2d = np.zeros(shape = (5,5), dtype = \"float\")"
   ]
  },
  {
   "cell_type": "code",
   "execution_count": null,
   "id": "b9dc4aa9",
   "metadata": {},
   "outputs": [],
   "source": [
    "print(zero_2d)"
   ]
  },
  {
   "cell_type": "code",
   "execution_count": null,
   "id": "1df094d8",
   "metadata": {},
   "outputs": [],
   "source": [
    "np.ones(shape = (10,2), dtype = \"int64\")"
   ]
  },
  {
   "cell_type": "code",
   "execution_count": null,
   "id": "4c9ecac5",
   "metadata": {},
   "outputs": [],
   "source": [
    "np.full(shape = (3,2), fill_value = 250, dtype = \"int16\") ## we can use shape to create higher order arrays"
   ]
  },
  {
   "cell_type": "code",
   "execution_count": null,
   "id": "1cfe2a39",
   "metadata": {},
   "outputs": [],
   "source": [
    "\n",
    "# Create a 1D array with random numbers (follows uniform distribution) between 0 and 1\n",
    "arr1 = np.random.rand(25)\n",
    "print(arr1)\n",
    "\n",
    "\n",
    "\n",
    "# Create a 3D array with random integers between 1 and 10\n",
    "arr2 = np.random.randint(1, 100, size=(3, 4)) ##discrete uniform distribution\n",
    "#print(arr2)\n"
   ]
  },
  {
   "cell_type": "code",
   "execution_count": null,
   "id": "686a4676",
   "metadata": {},
   "outputs": [],
   "source": [
    "# Create a 2D array with random numbers between -1 and 1\n",
    "arr3 = np.random.uniform(0, 10, size=(3, 3))\n",
    "print(arr3)"
   ]
  },
  {
   "cell_type": "code",
   "execution_count": null,
   "id": "83e7ea84",
   "metadata": {},
   "outputs": [],
   "source": [
    "# Generate an array of 100 random numbers from a normal distribution with mean 0 and standard deviation 1\n",
    "normal_array = np.random.normal(loc=0, scale=1, size=100)\n",
    "print(normal_array)\n"
   ]
  },
  {
   "cell_type": "code",
   "execution_count": null,
   "id": "107f89d6",
   "metadata": {},
   "outputs": [],
   "source": [
    "range_array = np.arange(2,51, 2) ## Similar to Python's built-in range function\n",
    "print(range_array)"
   ]
  },
  {
   "cell_type": "code",
   "execution_count": null,
   "id": "5e011a40",
   "metadata": {},
   "outputs": [],
   "source": [
    "np.linspace(0, 100, 4)  ## 5 equally spaced samples between zero and five"
   ]
  },
  {
   "cell_type": "markdown",
   "id": "3e747e8f",
   "metadata": {},
   "source": [
    "## Descriptive statistics"
   ]
  },
  {
   "cell_type": "markdown",
   "id": "5e7a0277",
   "metadata": {},
   "source": [
    "<img src = \"stats_function.png\" style = \"width:880px;height:250px\">"
   ]
  },
  {
   "cell_type": "markdown",
   "id": "62bc2389",
   "metadata": {},
   "source": [
    "**Reference: McKinney, W. (2012). Python for data analysis: Data wrangling with Pandas, NumPy, and IPython. \" O'Reilly Media, Inc.\".**"
   ]
  },
  {
   "cell_type": "markdown",
   "id": "da82148b",
   "metadata": {},
   "source": [
    "### Mean\n",
    "np.mean()"
   ]
  },
  {
   "cell_type": "code",
   "execution_count": null,
   "id": "5ec5075a",
   "metadata": {},
   "outputs": [],
   "source": [
    "arr = np.array([1, 2, 3, 4, 5])\n",
    "mean_value = np.mean(arr)\n",
    "print(mean_value)"
   ]
  },
  {
   "cell_type": "code",
   "execution_count": null,
   "id": "e07aa7ee",
   "metadata": {},
   "outputs": [],
   "source": [
    "Two_dim_array = np.arange(0, 100).reshape((20,5), order = \"F\") \n",
    "print(Two_dim_array)"
   ]
  },
  {
   "cell_type": "code",
   "execution_count": null,
   "id": "93860cdb",
   "metadata": {},
   "outputs": [],
   "source": [
    "Two_dim_array.mean(axis = 0) "
   ]
  },
  {
   "cell_type": "code",
   "execution_count": null,
   "id": "742e1b5a",
   "metadata": {},
   "outputs": [],
   "source": [
    "Two_dim_array.mean(axis = 1) "
   ]
  },
  {
   "cell_type": "markdown",
   "id": "341a93a4",
   "metadata": {},
   "source": [
    "### Median\n",
    "np.median()"
   ]
  },
  {
   "cell_type": "code",
   "execution_count": null,
   "id": "8b8443dd",
   "metadata": {},
   "outputs": [],
   "source": [
    "median_value = np.median(arr)\n",
    "print(median_value)"
   ]
  },
  {
   "cell_type": "code",
   "execution_count": null,
   "id": "e605d47c",
   "metadata": {},
   "outputs": [],
   "source": [
    "np.median(Two_dim_array, axis = 0)"
   ]
  },
  {
   "cell_type": "code",
   "execution_count": null,
   "id": "483eb93b",
   "metadata": {},
   "outputs": [],
   "source": [
    "np.median(Two_dim_array, axis = 1)"
   ]
  },
  {
   "cell_type": "markdown",
   "id": "485e610c",
   "metadata": {},
   "source": [
    "### Minimum value and Maximum value\n",
    "np.min() and np.max()"
   ]
  },
  {
   "cell_type": "code",
   "execution_count": null,
   "id": "0b435848",
   "metadata": {},
   "outputs": [],
   "source": [
    "min_value = np.min(arr)\n",
    "max_value = np.max(arr)\n",
    "print(min_value) \n",
    "print(max_value) "
   ]
  },
  {
   "cell_type": "code",
   "execution_count": null,
   "id": "cbdc5a47",
   "metadata": {},
   "outputs": [],
   "source": [
    "np.min(Two_dim_array, axis = 0)"
   ]
  },
  {
   "cell_type": "code",
   "execution_count": null,
   "id": "2971810e",
   "metadata": {},
   "outputs": [],
   "source": [
    "np.max(Two_dim_array, axis = 1)"
   ]
  },
  {
   "cell_type": "markdown",
   "id": "80670740",
   "metadata": {},
   "source": [
    "### Sum\n",
    "np.sum()"
   ]
  },
  {
   "cell_type": "code",
   "execution_count": null,
   "id": "86dc5923",
   "metadata": {},
   "outputs": [],
   "source": [
    "sum_value = np.sum(arr)\n",
    "print(sum_value)\n"
   ]
  },
  {
   "cell_type": "code",
   "execution_count": null,
   "id": "81205abc",
   "metadata": {},
   "outputs": [],
   "source": [
    "np.sum(Two_dim_array, axis = 0)"
   ]
  },
  {
   "cell_type": "code",
   "execution_count": null,
   "id": "4413c71c",
   "metadata": {},
   "outputs": [],
   "source": [
    "np.cumsum(Two_dim_array, axis = 1)"
   ]
  },
  {
   "cell_type": "code",
   "execution_count": null,
   "id": "d73e6667",
   "metadata": {},
   "outputs": [],
   "source": [
    "np.cumprod(Two_dim_array, axis = 0)"
   ]
  },
  {
   "cell_type": "markdown",
   "id": "10f60815",
   "metadata": {},
   "source": [
    "### Variance and Standard Deviation\n",
    "np.var() and np.std()"
   ]
  },
  {
   "cell_type": "code",
   "execution_count": null,
   "id": "248a184e",
   "metadata": {},
   "outputs": [],
   "source": [
    "variance_value = np.var(arr)\n",
    "std_deviation_value = np.std(arr)\n",
    "print(variance_value)       \n",
    "print(std_deviation_value)"
   ]
  },
  {
   "cell_type": "markdown",
   "id": "8d74a76c",
   "metadata": {},
   "source": [
    "## Indexing and Slicing"
   ]
  },
  {
   "cell_type": "markdown",
   "id": "fe296d84",
   "metadata": {},
   "source": [
    "### 1-D array indexing: Works similar to indexing a Python list"
   ]
  },
  {
   "cell_type": "code",
   "execution_count": null,
   "id": "5419e6ee",
   "metadata": {},
   "outputs": [],
   "source": [
    "arr = np.array([1, 2, 3, 4, 5])\n",
    "print(arr[1])  \n",
    "print(arr[-2])"
   ]
  },
  {
   "cell_type": "markdown",
   "id": "c96f584c",
   "metadata": {},
   "source": [
    "### Multi-dimensional array indexing: \n",
    "You can access elements in a multi-dimensional array by providing indices for **each dimension** separated by **commas**"
   ]
  },
  {
   "cell_type": "code",
   "execution_count": null,
   "id": "7b981e7c",
   "metadata": {},
   "outputs": [],
   "source": [
    "two_darr = np.array([[1, 2, 3], [4, 5, 6],[7,8,9]])\n",
    "print(two_darr)"
   ]
  },
  {
   "cell_type": "code",
   "execution_count": null,
   "id": "77caf236",
   "metadata": {},
   "outputs": [],
   "source": [
    "print(two_darr[0,2]) \n"
   ]
  },
  {
   "cell_type": "code",
   "execution_count": null,
   "id": "01226a91",
   "metadata": {},
   "outputs": [],
   "source": [
    "print(two_darr[1, 2])"
   ]
  },
  {
   "cell_type": "code",
   "execution_count": null,
   "id": "dbaf0f85",
   "metadata": {},
   "outputs": [],
   "source": [
    "Identity_matrix = np.eye(5) ## identity matrix is a square matrix\n",
    "print(Identity_matrix)"
   ]
  },
  {
   "cell_type": "code",
   "execution_count": null,
   "id": "81051a53",
   "metadata": {},
   "outputs": [],
   "source": [
    "Identity_matrix[2,2]"
   ]
  },
  {
   "cell_type": "code",
   "execution_count": null,
   "id": "166c1a2c",
   "metadata": {},
   "outputs": [],
   "source": [
    "three_dim = np.arange(0, 30).reshape((3, 2, 5))\n",
    "print(three_dim)"
   ]
  },
  {
   "cell_type": "code",
   "execution_count": null,
   "id": "167c504d",
   "metadata": {},
   "outputs": [],
   "source": [
    "three_dim[1,0,1]"
   ]
  },
  {
   "cell_type": "markdown",
   "id": "21eb9c56",
   "metadata": {},
   "source": [
    "### 1-D array slicing: \n",
    "Allows you to extract a portion of a 1-D array by specifying the start, stop, and step size"
   ]
  },
  {
   "cell_type": "code",
   "execution_count": null,
   "id": "61dfa37f",
   "metadata": {},
   "outputs": [],
   "source": [
    "arr = np.array([1, 2, 3, 4, 5])\n",
    "print(arr)"
   ]
  },
  {
   "cell_type": "code",
   "execution_count": null,
   "id": "5f732a7a",
   "metadata": {},
   "outputs": [],
   "source": [
    "print(arr[1:4:2])     \n"
   ]
  },
  {
   "cell_type": "code",
   "execution_count": null,
   "id": "9ac614c4",
   "metadata": {},
   "outputs": [],
   "source": [
    "print(arr[0:3:1])      \n"
   ]
  },
  {
   "cell_type": "code",
   "execution_count": null,
   "id": "17a9f899",
   "metadata": {},
   "outputs": [],
   "source": [
    "print(arr[2:])     \n"
   ]
  },
  {
   "cell_type": "code",
   "execution_count": null,
   "id": "ea6c7cc9",
   "metadata": {},
   "outputs": [],
   "source": [
    "print(arr[0:5:2])"
   ]
  },
  {
   "cell_type": "markdown",
   "id": "649297fc",
   "metadata": {},
   "source": [
    "### Multi-dimensional array slicing: \n",
    "Allows you to extract subarrays from multi-dimensional arrays using a similar syntax for each dimension"
   ]
  },
  {
   "cell_type": "markdown",
   "id": "aa5e7348",
   "metadata": {},
   "source": [
    "<img src = \"twd_slicing.png\" style = \"width:680px;height:350px\">"
   ]
  },
  {
   "cell_type": "markdown",
   "id": "05b2e5be",
   "metadata": {},
   "source": [
    "**Reference: McKinney, W. (2012). Python for data analysis: Data wrangling with Pandas, NumPy, and IPython. \" O'Reilly Media, Inc.\".**"
   ]
  },
  {
   "cell_type": "code",
   "execution_count": null,
   "id": "dfe1f439",
   "metadata": {},
   "outputs": [],
   "source": [
    "arr = np.array([[1, 2, 3], [4, 5, 6]])\n",
    "print(arr)"
   ]
  },
  {
   "cell_type": "code",
   "execution_count": null,
   "id": "6e08aae6",
   "metadata": {},
   "outputs": [],
   "source": [
    "print(arr[: , 1])          \n"
   ]
  },
  {
   "cell_type": "code",
   "execution_count": null,
   "id": "f7c522ea",
   "metadata": {},
   "outputs": [],
   "source": [
    "print(arr[1, 0:2])        \n"
   ]
  },
  {
   "cell_type": "code",
   "execution_count": null,
   "id": "de50d411",
   "metadata": {},
   "outputs": [],
   "source": [
    "print(arr[:2 , ::2]) "
   ]
  },
  {
   "cell_type": "code",
   "execution_count": null,
   "id": "479ca300",
   "metadata": {},
   "outputs": [],
   "source": [
    "print(arr)"
   ]
  },
  {
   "cell_type": "code",
   "execution_count": null,
   "id": "ed6c5008",
   "metadata": {},
   "outputs": [],
   "source": [
    "arr[0::-1,:]"
   ]
  },
  {
   "cell_type": "code",
   "execution_count": null,
   "id": "63d70221",
   "metadata": {},
   "outputs": [],
   "source": [
    "arr[:,1]"
   ]
  },
  {
   "cell_type": "code",
   "execution_count": null,
   "id": "2a7be337",
   "metadata": {},
   "outputs": [],
   "source": [
    "three_dim_array = np.arange(1,31).reshape((5,3,2))\n",
    "print(three_dim_array)"
   ]
  },
  {
   "cell_type": "code",
   "execution_count": null,
   "id": "2f6440ed",
   "metadata": {},
   "outputs": [],
   "source": [
    "three_dim_array[2,0,0]"
   ]
  },
  {
   "cell_type": "markdown",
   "id": "87cf8d8d",
   "metadata": {},
   "source": [
    "## Boolean indexing and slicing"
   ]
  },
  {
   "cell_type": "markdown",
   "id": "afaf9bfe",
   "metadata": {},
   "source": [
    "### 1-D array boolean indexing: \n",
    "You can use a Boolean array to select elements from a 1-D array that satisfy a condition"
   ]
  },
  {
   "cell_type": "code",
   "execution_count": null,
   "id": "290122c3",
   "metadata": {},
   "outputs": [],
   "source": [
    "arr = np.array([1, 2, 3, 4, 5])\n",
    "print(arr)"
   ]
  },
  {
   "cell_type": "code",
   "execution_count": null,
   "id": "d2b4d3b4",
   "metadata": {},
   "outputs": [],
   "source": [
    "condition = np.array([True, False, True, False, True])\n",
    "print(condition)"
   ]
  },
  {
   "cell_type": "code",
   "execution_count": null,
   "id": "710c8392",
   "metadata": {},
   "outputs": [],
   "source": [
    "selected_elements = arr[condition]\n",
    "print(selected_elements) "
   ]
  },
  {
   "cell_type": "markdown",
   "id": "be70298a",
   "metadata": {},
   "source": [
    "### Multi-dimensional array boolean indexing: \n",
    "Boolean indexing can be applied to multi-dimensional arrays as well. In this case, the Boolean array must have the same shape as the original array."
   ]
  },
  {
   "cell_type": "code",
   "execution_count": null,
   "id": "c6c48946",
   "metadata": {},
   "outputs": [],
   "source": [
    "arr = np.array([[1, 2, 3], [4, 5, 6]])\n",
    "print(arr)\n",
    "condition = np.array([[False, True, False], [True, False, True]])\n",
    "print(condition)\n",
    "\n"
   ]
  },
  {
   "cell_type": "code",
   "execution_count": null,
   "id": "74dfbb56",
   "metadata": {},
   "outputs": [],
   "source": [
    "selected_elements = arr[condition]\n",
    "print(selected_elements)"
   ]
  },
  {
   "cell_type": "markdown",
   "id": "f2e210d0",
   "metadata": {},
   "source": [
    "### Boolean Slicing:\n",
    "You can also use Boolean conditions to slice an array and select the elements that satisfy the condition"
   ]
  },
  {
   "cell_type": "code",
   "execution_count": null,
   "id": "dbc38d9b",
   "metadata": {},
   "outputs": [],
   "source": [
    "arr = np.array([1, 2, 3, 4, 5])\n",
    "condition = arr % 2 ==0\n",
    "print(condition)\n"
   ]
  },
  {
   "cell_type": "code",
   "execution_count": null,
   "id": "24509fb8",
   "metadata": {},
   "outputs": [],
   "source": [
    "selected_elements = arr[condition]\n",
    "print(selected_elements)"
   ]
  },
  {
   "cell_type": "code",
   "execution_count": null,
   "id": "050c728e",
   "metadata": {},
   "outputs": [],
   "source": [
    "normal_dist = np.random.normal(0, 3, 10000) ##10s samples from standard normal distribution\n",
    "print(normal_dist)\n"
   ]
  },
  {
   "cell_type": "code",
   "execution_count": null,
   "id": "08b44636",
   "metadata": {},
   "outputs": [],
   "source": [
    "plt.hist(normal_dist)"
   ]
  },
  {
   "cell_type": "code",
   "execution_count": null,
   "id": "56c1d1c2",
   "metadata": {},
   "outputs": [],
   "source": [
    "boolean_values = (normal_dist > 0)\n",
    "\n",
    "sum(boolean_values)"
   ]
  },
  {
   "cell_type": "code",
   "execution_count": null,
   "id": "22ddf29d",
   "metadata": {},
   "outputs": [],
   "source": [
    "median_value = np.percentile(normal_dist, 50)\n",
    "ist_quartile = np.percentile(normal_dist, 25)\n",
    "thirrd_quartile = np.percentile(normal_dist, 75)"
   ]
  },
  {
   "cell_type": "code",
   "execution_count": null,
   "id": "ea8b537c",
   "metadata": {},
   "outputs": [],
   "source": [
    "normal_dist[boolean_values]  ##returns all the positive samples "
   ]
  },
  {
   "cell_type": "markdown",
   "id": "2c2b08c6",
   "metadata": {},
   "source": [
    "### Combining multiple boolean conditions\n",
    "\n",
    "- use of **&** and **|**"
   ]
  },
  {
   "cell_type": "code",
   "execution_count": null,
   "id": "47da74ba",
   "metadata": {},
   "outputs": [],
   "source": [
    "arr[((arr > 1) & (arr < 5))] ## combining multiple boolean condition"
   ]
  },
  {
   "cell_type": "markdown",
   "id": "65a2a535",
   "metadata": {},
   "source": [
    "## Fancy indexing\n",
    "\n",
    "Wiith fancy indexing, you can use an array-like object containing **indices**, or **even another list of indices** to access specific elements or subsets of elements in a more flexible way."
   ]
  },
  {
   "cell_type": "code",
   "execution_count": null,
   "id": "75ce108f",
   "metadata": {},
   "outputs": [],
   "source": [
    "Identity_matrix = np.eye(6)\n",
    "print(Identity_matrix)"
   ]
  },
  {
   "cell_type": "code",
   "execution_count": null,
   "id": "595bb28b",
   "metadata": {},
   "outputs": [],
   "source": [
    "Identity_matrix[[3,4,5], [2,1,5]] "
   ]
  },
  {
   "cell_type": "code",
   "execution_count": null,
   "id": "a758eabd",
   "metadata": {},
   "outputs": [],
   "source": [
    "## Let us suppose you want to access all the elements at the diagonal of identity matrix\n",
    "\n",
    "row_index = np.arange(0,6)\n",
    "col_index = np.arange(0, 6)\n",
    "print(row_index)\n",
    "print(col_index)\n",
    "\n",
    "Identity_matrix[row_index, col_index] "
   ]
  },
  {
   "cell_type": "code",
   "execution_count": null,
   "id": "a81a8f0b",
   "metadata": {},
   "outputs": [],
   "source": [
    "Identity_matrix[[0,1,2,3,4,5], [0,1, 3, 2,5, 4]] ## could be boolean, could be list, could be array"
   ]
  },
  {
   "cell_type": "markdown",
   "id": "a4e29748",
   "metadata": {},
   "source": [
    "### Accessing and modifying values in arrays"
   ]
  },
  {
   "cell_type": "code",
   "execution_count": null,
   "id": "09345ded",
   "metadata": {},
   "outputs": [],
   "source": [
    "simple_array = np.array([5, 10, 12,13])\n",
    "print(simple_array)"
   ]
  },
  {
   "cell_type": "code",
   "execution_count": null,
   "id": "981abb5e",
   "metadata": {},
   "outputs": [],
   "source": [
    "simple_array[[1,3]] = np.array([20, 26])"
   ]
  },
  {
   "cell_type": "code",
   "execution_count": null,
   "id": "9492283c",
   "metadata": {},
   "outputs": [],
   "source": [
    "simple_array"
   ]
  },
  {
   "cell_type": "markdown",
   "id": "ecae73f2",
   "metadata": {},
   "source": [
    "## Basic Linear algebra operations"
   ]
  },
  {
   "cell_type": "markdown",
   "id": "796285b3",
   "metadata": {},
   "source": [
    "### Matrix Addition and Subtraction"
   ]
  },
  {
   "cell_type": "code",
   "execution_count": null,
   "id": "a40c39e3",
   "metadata": {},
   "outputs": [],
   "source": [
    "A = np.array([[1, 2], [3, 4]])\n",
    "B = np.array([[5, 6], [7, 8]])\n",
    "\n",
    "print(A)\n",
    "print(B)"
   ]
  },
  {
   "cell_type": "code",
   "execution_count": null,
   "id": "1df2ae2e",
   "metadata": {},
   "outputs": [],
   "source": [
    "# Matrix addition\n",
    "C = A + B\n",
    "print(C)\n",
    "\n",
    "# Matrix subtraction\n",
    "D = A - B\n",
    "print(D)"
   ]
  },
  {
   "cell_type": "code",
   "execution_count": null,
   "id": "0ea3b539",
   "metadata": {},
   "outputs": [],
   "source": [
    "print(A)\n",
    "print(B)"
   ]
  },
  {
   "cell_type": "markdown",
   "id": "6e716942",
   "metadata": {},
   "source": [
    "### Matrix Multiplication"
   ]
  },
  {
   "cell_type": "code",
   "execution_count": null,
   "id": "e12e5faf",
   "metadata": {},
   "outputs": [],
   "source": [
    "element-wise multiplication\n",
    "C = A * B\n",
    "print(C)\n",
    "\n",
    "# Matrix multiplication (dot product)\n",
    "D = np.dot(A, B)\n",
    "# or: D = A.dot(B)\n",
    "print(D)"
   ]
  },
  {
   "cell_type": "markdown",
   "id": "8daf4e2f",
   "metadata": {},
   "source": [
    "### Matrix inversion"
   ]
  },
  {
   "cell_type": "code",
   "execution_count": null,
   "id": "fd47c245",
   "metadata": {},
   "outputs": [],
   "source": [
    " A = np.array([[1, 2], [3, 4]])\n",
    "\n",
    "# Matrix inversion\n",
    "B = np.linalg.inv(A)\n",
    "print(B)"
   ]
  },
  {
   "cell_type": "markdown",
   "id": "c68447e8",
   "metadata": {},
   "source": [
    "### Matrix Determinant"
   ]
  },
  {
   "cell_type": "code",
   "execution_count": null,
   "id": "49d5f639",
   "metadata": {},
   "outputs": [],
   "source": [
    "A = np.array([[1, 2], [3, 4]])\n",
    "\n",
    "# Matrix determinant\n",
    "det = np.linalg.det(A)\n",
    "print(det)"
   ]
  },
  {
   "cell_type": "markdown",
   "id": "a80d503b",
   "metadata": {},
   "source": [
    "## Broadcasting\n",
    "A set of rules by which NumPy lets you apply binary operations (e.g., addition, subtraction, multiplication, etc.) between arrays of different sizes and shapes"
   ]
  },
  {
   "cell_type": "markdown",
   "id": "fbc84c91",
   "metadata": {},
   "source": [
    "### Binary operations with a scalar and arrays of any size (or shape)"
   ]
  },
  {
   "cell_type": "code",
   "execution_count": null,
   "id": "6b2d4c4e",
   "metadata": {},
   "outputs": [],
   "source": [
    "array_x = np.arange(1,25)\n",
    "\n",
    "10 / array_x"
   ]
  },
  {
   "cell_type": "code",
   "execution_count": null,
   "id": "9a303287",
   "metadata": {},
   "outputs": [],
   "source": [
    "array_z = np.arange(1,26).reshape((5,5))\n",
    "print(array_z)\n",
    "\n",
    "10 / array_z"
   ]
  },
  {
   "cell_type": "markdown",
   "id": "596ed6aa",
   "metadata": {},
   "source": [
    "### For arrays of the same size, binary operations are performed on an element-by-element basis"
   ]
  },
  {
   "cell_type": "code",
   "execution_count": null,
   "id": "0ded5572",
   "metadata": {},
   "outputs": [],
   "source": [
    "a = np.array([0, 1, 2])\n",
    "b = np.array([5, 5, 5])\n",
    "\n",
    "a + b"
   ]
  },
  {
   "cell_type": "code",
   "execution_count": null,
   "id": "4a1af720",
   "metadata": {},
   "outputs": [],
   "source": [
    "q = np.arange(25).reshape((5,5))\n",
    "print(q)\n",
    "\n",
    "r = np.arange(25, 50). reshape((5,5))\n",
    "print(r)"
   ]
  },
  {
   "cell_type": "code",
   "execution_count": null,
   "id": "5c580d09",
   "metadata": {},
   "outputs": [],
   "source": [
    "q + r"
   ]
  },
  {
   "cell_type": "markdown",
   "id": "26a192ca",
   "metadata": {},
   "source": [
    "### Binary operations with arrays of different dimensions"
   ]
  },
  {
   "cell_type": "code",
   "execution_count": null,
   "id": "93a22c58",
   "metadata": {},
   "outputs": [],
   "source": [
    "## Let us suppose we want to add one dimension array with two-dimensional array"
   ]
  },
  {
   "cell_type": "code",
   "execution_count": null,
   "id": "f536a323",
   "metadata": {},
   "outputs": [],
   "source": [
    "c = np.array([1,2, 3, 4])\n",
    "print(c)"
   ]
  },
  {
   "cell_type": "code",
   "execution_count": null,
   "id": "9f8a3e83",
   "metadata": {},
   "outputs": [],
   "source": [
    "d = np.arange(12).reshape((3,4))\n",
    "print(d)"
   ]
  },
  {
   "cell_type": "code",
   "execution_count": null,
   "id": "aab250f6",
   "metadata": {},
   "outputs": [],
   "source": [
    "d + c"
   ]
  },
  {
   "cell_type": "markdown",
   "id": "4778546e",
   "metadata": {},
   "source": [
    "### Rules of Broadcasting\n",
    "\n",
    "Rule 1\n",
    "If the two arrays differ in their **number of dimensions**, the shape of the one with\n",
    "fewer dimensions is padded with ones on its leading (left) side.\n",
    "\n",
    "Rule 2\n",
    "If the shape of the two arrays does not match in any dimension, the array with\n",
    "shape equal to 1 in that dimension is stretched to match the other shape.\n",
    "\n",
    "Rule 3\n",
    "If in any dimension the sizes disagree and neither is equal to 1, an error is raised."
   ]
  },
  {
   "cell_type": "markdown",
   "id": "d7207770",
   "metadata": {},
   "source": [
    "<img src = \"broadcasting.png\" style = \"width:680px;height:350px\">"
   ]
  },
  {
   "cell_type": "markdown",
   "id": "fe0ce91d",
   "metadata": {},
   "source": [
    "**Reference: McKinney, W. (2012). Python for data analysis: Data wrangling with Pandas, NumPy, and IPython. \" O'Reilly Media, Inc.\"**"
   ]
  },
  {
   "cell_type": "code",
   "execution_count": null,
   "id": "ba9c49b4",
   "metadata": {},
   "outputs": [],
   "source": [
    "row_vector = np.arange(4).reshape((1,4))\n",
    "\n",
    "print(row_vector)\n",
    "\n",
    "col_vector = np.arange(4).reshape((4,1))\n",
    "print(col_vector)"
   ]
  },
  {
   "cell_type": "code",
   "execution_count": null,
   "id": "af1cbee9",
   "metadata": {},
   "outputs": [],
   "source": [
    "row_vector + col_vector"
   ]
  },
  {
   "cell_type": "code",
   "execution_count": null,
   "id": "96c5781f",
   "metadata": {},
   "outputs": [],
   "source": [
    "M = np.ones((3, 2))\n",
    "a = np.arange(3)\n",
    "\n"
   ]
  },
  {
   "cell_type": "code",
   "execution_count": null,
   "id": "b478fcfd",
   "metadata": {},
   "outputs": [],
   "source": [
    "M + a"
   ]
  },
  {
   "cell_type": "markdown",
   "id": "660e1a9d",
   "metadata": {},
   "source": [
    "The shapes of the arrays are as follows:\n",
    "\n",
    "• M.shape is (3, 2)\n",
    "\n",
    "• a.shape is (3,)\n",
    "\n",
    "Again, rule 1 tells us that we must pad the shape of \"a\" with ones:\n",
    "• M.shape remains (3, 2)\n",
    "• a.shape becomes (1, 3)\n",
    "\n",
    "By rule 2, the first dimension of a is then stretched to match that of M:\n",
    "• M.shape remains (3, 2)\n",
    "• a.shape becomes (3, 3)\n",
    "\n",
    "Now we hit rule 3—the final shapes do not match, so these two arrays are incompati‐\n",
    "ble, as we can observe by attempting this operation."
   ]
  },
  {
   "cell_type": "markdown",
   "id": "f06d804f",
   "metadata": {},
   "source": [
    "<img src = \"broadcasting3d.png\" style = \"width:680px;height:350px\">"
   ]
  },
  {
   "cell_type": "markdown",
   "id": "1db29c3c",
   "metadata": {},
   "source": [
    "**Reference: McKinney, W. (2012). Python for data analysis: Data wrangling with Pandas, NumPy, and IPython. \" O'Reilly Media, Inc.\".**"
   ]
  },
  {
   "cell_type": "markdown",
   "id": "4c6b2524",
   "metadata": {},
   "source": [
    "## vstack and hstack\n",
    "\n",
    "**vstack (Vertical Stack)**:\n",
    "\n",
    "The vstack function is used to vertically stack arrays along their vertical axis (row-wise stacking). It takes a sequence of arrays as input and returns a single array as output\n",
    "\n",
    "**hstack (Horizontal Stack)**:\n",
    "\n",
    "The hstack function is used to horizontally stack arrays along their horizontal axis (column-wise stacking). It takes a sequence of arrays as input and returns a single array as output."
   ]
  },
  {
   "cell_type": "code",
   "execution_count": null,
   "id": "8902516f",
   "metadata": {},
   "outputs": [],
   "source": [
    "# Create two arrays\n",
    "array1 = np.array([1, 2, 3])\n",
    "array2 = np.array([4, 5, 6])\n",
    "\n",
    "# Vertically stack the arrays\n",
    "result = np.vstack((array1, array2))\n",
    "\n",
    "print(result)\n"
   ]
  },
  {
   "cell_type": "code",
   "execution_count": null,
   "id": "4c73c02e",
   "metadata": {},
   "outputs": [],
   "source": [
    "array3 = np.arange(12).reshape((4,3))\n",
    "\n",
    "result2 = np.vstack((array1, array2, array3))\n",
    "\n",
    "print(result2)\n"
   ]
  },
  {
   "cell_type": "code",
   "execution_count": null,
   "id": "c24783f7",
   "metadata": {},
   "outputs": [],
   "source": [
    "#Create two arrays\n",
    "array1 = np.array([1, 2, 3])\n",
    "array2 = np.array([4, 5, 6])\n",
    "\n",
    "# Horizontally stack the arrays\n",
    "result3 = np.hstack((array1, array2))\n",
    "\n",
    "print(result3)"
   ]
  },
  {
   "cell_type": "markdown",
   "id": "9d66b329",
   "metadata": {},
   "source": [
    "### Sorting arrays"
   ]
  },
  {
   "cell_type": "code",
   "execution_count": null,
   "id": "ec7f5245",
   "metadata": {},
   "outputs": [],
   "source": [
    "x = np.array([2, 1, 4, 3, 5])\n",
    "print(x)\n",
    "np.sort(x)"
   ]
  },
  {
   "cell_type": "markdown",
   "id": "21cb4e2d",
   "metadata": {},
   "source": [
    "A related function is **argsort**, which instead returns the **indices** of the sorted elements"
   ]
  },
  {
   "cell_type": "code",
   "execution_count": null,
   "id": "dce98b58",
   "metadata": {},
   "outputs": [],
   "source": [
    "x = np.array([2, 1, 4, 3, 5])\n",
    "i = np.argsort(x)\n",
    "print(i)"
   ]
  },
  {
   "cell_type": "markdown",
   "id": "f89f523f",
   "metadata": {},
   "source": [
    "### Sorting along rows and column"
   ]
  },
  {
   "cell_type": "code",
   "execution_count": null,
   "id": "6c45930c",
   "metadata": {},
   "outputs": [],
   "source": [
    "# Set the seed value\n",
    "seed_value = 42\n",
    "np.random.seed(seed_value)\n",
    "\n",
    "# Generate a random array\n",
    "random_array = np.random.rand(25).reshape((5,5))\n",
    "print(random_array)"
   ]
  },
  {
   "cell_type": "code",
   "execution_count": null,
   "id": "63e5385b",
   "metadata": {},
   "outputs": [],
   "source": [
    "np.sort(random_array, axis = 0)"
   ]
  }
 ],
 "metadata": {
  "kernelspec": {
   "display_name": "Python 3 (ipykernel)",
   "language": "python",
   "name": "python3"
  },
  "language_info": {
   "codemirror_mode": {
    "name": "ipython",
    "version": 3
   },
   "file_extension": ".py",
   "mimetype": "text/x-python",
   "name": "python",
   "nbconvert_exporter": "python",
   "pygments_lexer": "ipython3",
   "version": "3.10.11"
  }
 },
 "nbformat": 4,
 "nbformat_minor": 5
}
