{
  "nbformat": 4,
  "nbformat_minor": 0,
  "metadata": {
    "colab": {
      "provenance": [],
      "gpuType": "T4"
    },
    "kernelspec": {
      "name": "python3",
      "display_name": "Python 3"
    },
    "language_info": {
      "name": "python"
    },
    "accelerator": "GPU"
  },
  "cells": [
    {
      "cell_type": "markdown",
      "source": [
        "**What is Pytorch about?**\n",
        "\n",
        "The fundamental data structure in Pytorch is \"tensor\". In the context ofdeep learning, tensors refer to the generalization of vectors and matrices to an arbitrary number of dimensions. Another name for the same concept is multidimensional array.\n",
        "\n",
        "\"The dimensionality of a tensor coincides with the number of indexes used to refer to \"scalar values\" within the tensor.\"\n",
        "\n",
        "\"Compared to NumPy arrays, PyTorch tensors have a few superpowers, such as the ability to perform very fast operations on graphical processing units (GPUs)distribute operations on multiple devices or machines.\"\n",
        "\n",
        "**(Reference:Stevens, E., Antiga, L., & Viehmann, T. (2020). Deep learning with PyTorch. Manning Publications.)**"
      ],
      "metadata": {
        "id": "NNlXtuhxKXas"
      }
    },
    {
      "cell_type": "code",
      "execution_count": null,
      "metadata": {
        "id": "pIfwbLtxJiqa"
      },
      "outputs": [],
      "source": [
        "import torch"
      ]
    },
    {
      "cell_type": "code",
      "source": [
        "torch.__version__"
      ],
      "metadata": {
        "colab": {
          "base_uri": "https://localhost:8080/",
          "height": 36
        },
        "id": "5A9ZeHUmJrWJ",
        "outputId": "a5e5355b-16e0-4f54-f8c0-453912b78efb"
      },
      "execution_count": null,
      "outputs": [
        {
          "output_type": "execute_result",
          "data": {
            "text/plain": [
              "'2.1.0+cu121'"
            ],
            "application/vnd.google.colaboratory.intrinsic+json": {
              "type": "string"
            }
          },
          "metadata": {},
          "execution_count": 2
        }
      ]
    },
    {
      "cell_type": "markdown",
      "source": [
        "## *What is tensor?*\n",
        "\n",
        "Please watch this Youtube video to understand the basics about tensors. https://www.youtube.com/watch?v=Csa5R12jYRg&t=291s\n"
      ],
      "metadata": {
        "id": "RYp5WNC4eJXd"
      }
    },
    {
      "cell_type": "markdown",
      "source": [
        "**CREATION OF TENSORS**\n",
        "\n",
        "A scalar is a single number.It has zero dimension.\n",
        "\n",
        "A vector has more than one number but it has one dimenion.\n",
        "\n",
        "A matrix has two dimensions.Remember that number of dimensionality is the number of indexes requires to index a single value from a tensor.\n",
        "\n"
      ],
      "metadata": {
        "id": "zetBg9j9Luti"
      }
    },
    {
      "cell_type": "code",
      "source": [
        "scalar = torch.tensor(55)\n",
        "print(scalar)\n",
        "print(scalar.ndim)"
      ],
      "metadata": {
        "colab": {
          "base_uri": "https://localhost:8080/"
        },
        "id": "mlrNyatGJsVx",
        "outputId": "11dd6502-7fb1-4420-dfe1-c5b937f835d4"
      },
      "execution_count": null,
      "outputs": [
        {
          "output_type": "stream",
          "name": "stdout",
          "text": [
            "tensor(55)\n",
            "0\n"
          ]
        }
      ]
    },
    {
      "cell_type": "code",
      "source": [
        "## How to retrieve Python's integer from the tensor having a single value? We need item method.\n",
        "scalar.item() ## Returns you Python integer"
      ],
      "metadata": {
        "colab": {
          "base_uri": "https://localhost:8080/"
        },
        "id": "PR9OZNvEU8FW",
        "outputId": "822fac29-c8b1-4243-da4f-640b32a31205"
      },
      "execution_count": null,
      "outputs": [
        {
          "output_type": "execute_result",
          "data": {
            "text/plain": [
              "55"
            ]
          },
          "metadata": {},
          "execution_count": 4
        }
      ]
    },
    {
      "cell_type": "code",
      "source": [
        "vector = torch.tensor([5,6,7,8]) ##We pass a Python's list with multiple elements to create a vector.All elements of that list must of numeric data type.\n",
        "print(vector)\n",
        "print(vector.ndim)"
      ],
      "metadata": {
        "colab": {
          "base_uri": "https://localhost:8080/"
        },
        "id": "xY1IT01zKWJ8",
        "outputId": "4f47b912-2346-44d2-c963-96df9acadaed"
      },
      "execution_count": null,
      "outputs": [
        {
          "output_type": "stream",
          "name": "stdout",
          "text": [
            "tensor([5, 6, 7, 8])\n",
            "1\n"
          ]
        }
      ]
    },
    {
      "cell_type": "code",
      "source": [
        "\n",
        "MATRIX = torch.tensor([[7, 8],\n",
        "                       [9, 10]])  ## a list of multiple nested (Python's) list is required to create a Matrix\n",
        "print(MATRIX)\n",
        "print(MATRIX.ndim)"
      ],
      "metadata": {
        "colab": {
          "base_uri": "https://localhost:8080/"
        },
        "id": "YZFzXpo2KWNg",
        "outputId": "ce5f265c-f06e-4ba5-edfd-7e53e88dcaf3"
      },
      "execution_count": null,
      "outputs": [
        {
          "output_type": "stream",
          "name": "stdout",
          "text": [
            "tensor([[ 7,  8],\n",
            "        [ 9, 10]])\n",
            "2\n"
          ]
        }
      ]
    },
    {
      "cell_type": "code",
      "source": [
        "## Tensors are high-dimensional data structure. It can represent images, videoes and text data.\n",
        "TENSOR = torch.tensor([[[7, 0, 3, 6],\n",
        "                        [3, 6, 9, 8],\n",
        "                        [2, 5, 5, 15]]]) ## three Python's list wrapped in a list which is wrapped in another Python'list\n",
        "print(TENSOR)\n",
        "print(TENSOR.ndim)"
      ],
      "metadata": {
        "colab": {
          "base_uri": "https://localhost:8080/"
        },
        "id": "iNHLzAYkXEw8",
        "outputId": "8213c6bc-874f-496b-c1b4-a3bed62ff4f7"
      },
      "execution_count": null,
      "outputs": [
        {
          "output_type": "stream",
          "name": "stdout",
          "text": [
            "tensor([[[ 7,  0,  3,  6],\n",
            "         [ 3,  6,  9,  8],\n",
            "         [ 2,  5,  5, 15]]])\n",
            "3\n"
          ]
        }
      ]
    },
    {
      "cell_type": "markdown",
      "source": [
        "**Shape attribute** gives the maximum number of elements in each dimension of a tensor.Therefore, it also gives the total number of elements in a tensor."
      ],
      "metadata": {
        "id": "6yNEC3yuXGp-"
      }
    },
    {
      "cell_type": "code",
      "source": [
        "print(scalar.shape)\n",
        "print(vector.shape)\n",
        "print(MATRIX.shape)\n",
        "print(TENSOR.shape)"
      ],
      "metadata": {
        "colab": {
          "base_uri": "https://localhost:8080/"
        },
        "id": "giB4OxuLW33h",
        "outputId": "d98bf17b-1f4f-43d4-b85f-005dce843b87"
      },
      "execution_count": null,
      "outputs": [
        {
          "output_type": "stream",
          "name": "stdout",
          "text": [
            "torch.Size([])\n",
            "torch.Size([4])\n",
            "torch.Size([2, 2])\n",
            "torch.Size([1, 3, 4])\n"
          ]
        }
      ]
    },
    {
      "cell_type": "markdown",
      "source": [
        "**RANDOM TENSORS**\n",
        "We try to learn weights in ML/DL mdoels. These weights are randomly initialized.These weights are updated through the process of optimization. Therefore, the tensors with random weights are very interesting to understand."
      ],
      "metadata": {
        "id": "ZBHRj35XavNU"
      }
    },
    {
      "cell_type": "code",
      "source": [
        "random_tensors = torch.rand(size = (3,3), dtype = torch.float)\n",
        "print(random_tensors)"
      ],
      "metadata": {
        "colab": {
          "base_uri": "https://localhost:8080/"
        },
        "id": "9AKXJEINarKE",
        "outputId": "ff162492-d5a6-4a0f-b5ad-66d7aa3af37e"
      },
      "execution_count": null,
      "outputs": [
        {
          "output_type": "stream",
          "name": "stdout",
          "text": [
            "tensor([[9.0564e-01, 4.1595e-01, 5.4787e-01],\n",
            "        [9.1831e-01, 5.2986e-01, 6.4479e-01],\n",
            "        [5.5712e-04, 6.2986e-01, 5.5266e-01]])\n"
          ]
        }
      ]
    },
    {
      "cell_type": "markdown",
      "source": [
        "**TENSORS WITH ALL ONES AND ZEROS**"
      ],
      "metadata": {
        "id": "uJuBjKtzdRy4"
      }
    },
    {
      "cell_type": "code",
      "source": [
        "zero_tensor = torch.zeros(size = (5,5))\n",
        "print(zero_tensor)"
      ],
      "metadata": {
        "colab": {
          "base_uri": "https://localhost:8080/"
        },
        "id": "LnGu2PALZP8H",
        "outputId": "79ab8d2d-a9a8-4d8c-dae7-e557341c38e8"
      },
      "execution_count": null,
      "outputs": [
        {
          "output_type": "stream",
          "name": "stdout",
          "text": [
            "tensor([[0., 0., 0., 0., 0.],\n",
            "        [0., 0., 0., 0., 0.],\n",
            "        [0., 0., 0., 0., 0.],\n",
            "        [0., 0., 0., 0., 0.],\n",
            "        [0., 0., 0., 0., 0.]])\n"
          ]
        }
      ]
    },
    {
      "cell_type": "code",
      "source": [
        "ones_tensor = torch.ones(size = (4,3))\n",
        "print(ones_tensor)\n",
        "print(ones_tensor.dtype)"
      ],
      "metadata": {
        "colab": {
          "base_uri": "https://localhost:8080/"
        },
        "id": "KjadtX_qeH3M",
        "outputId": "2d73d8a0-cdd9-4bdf-8e6f-457c774944ff"
      },
      "execution_count": null,
      "outputs": [
        {
          "output_type": "stream",
          "name": "stdout",
          "text": [
            "tensor([[1., 1., 1.],\n",
            "        [1., 1., 1.],\n",
            "        [1., 1., 1.],\n",
            "        [1., 1., 1.]])\n",
            "torch.float32\n"
          ]
        }
      ]
    },
    {
      "cell_type": "markdown",
      "source": [
        "**Creating a sequence of data with arange method of torch**"
      ],
      "metadata": {
        "id": "sOMcwNkWes_4"
      }
    },
    {
      "cell_type": "code",
      "source": [
        "sequence_of_number = torch.arange(start = 0, end = 10, step = 1)\n",
        "print(sequence_of_number)"
      ],
      "metadata": {
        "colab": {
          "base_uri": "https://localhost:8080/"
        },
        "id": "emZpdTqTeruX",
        "outputId": "b18084eb-48fe-4e44-8c15-41469a171d0a"
      },
      "execution_count": null,
      "outputs": [
        {
          "output_type": "stream",
          "name": "stdout",
          "text": [
            "tensor([0, 1, 2, 3, 4, 5, 6, 7, 8, 9])\n"
          ]
        }
      ]
    },
    {
      "cell_type": "code",
      "source": [
        "sequence_of_number.view(5,2)"
      ],
      "metadata": {
        "colab": {
          "base_uri": "https://localhost:8080/"
        },
        "id": "KOb0FaS7er5A",
        "outputId": "01971787-046a-4e61-a804-1422e73db918"
      },
      "execution_count": null,
      "outputs": [
        {
          "output_type": "execute_result",
          "data": {
            "text/plain": [
              "tensor([[0, 1],\n",
              "        [2, 3],\n",
              "        [4, 5],\n",
              "        [6, 7],\n",
              "        [8, 9]])"
            ]
          },
          "metadata": {},
          "execution_count": 13
        }
      ]
    },
    {
      "cell_type": "markdown",
      "source": [
        "At the time of creating tensors we can specify\n",
        "\n",
        "*   Datatype of elements of a tensor\n",
        "*   Device on which to store the tensor. We cannot take the dot product of tensors stored on two different devices, one on cpu and the other on gpu.\n",
        "*   Whether we want to record the history of mathematical operations on tensors for the purpose of computing gradients.\n",
        "\n",
        "\n"
      ],
      "metadata": {
        "id": "Xd-GOD0Qht01"
      }
    },
    {
      "cell_type": "code",
      "source": [
        "# Default datatype for tensors is float32\n",
        "float_32_tensor = torch.tensor([3.0, 6.0, 9.0],\n",
        "                               dtype=None, # defaults to None, which is torch.float32 or whatever datatype is passed\n",
        "                               device=None, # defaults to None, which uses the default tensor type\n",
        "                               requires_grad=False) # if True, operations performed on the tensor are recorded\n",
        "\n",
        "float_32_tensor.shape, float_32_tensor.dtype, float_32_tensor.device"
      ],
      "metadata": {
        "colab": {
          "base_uri": "https://localhost:8080/"
        },
        "id": "3hUAE_Q-er79",
        "outputId": "21de0af6-ab8e-4106-d216-9f1f853d5648"
      },
      "execution_count": null,
      "outputs": [
        {
          "output_type": "execute_result",
          "data": {
            "text/plain": [
              "(torch.Size([3]), torch.float32, device(type='cpu'))"
            ]
          },
          "metadata": {},
          "execution_count": 14
        }
      ]
    },
    {
      "cell_type": "markdown",
      "source": [
        "**TENSOR OPERATIONS (ELEMENTWISE OPERATIONS**\n",
        "\n",
        "We don't need to write for loop to perform the same operation on all the elements of a tensor.\n",
        "\n",
        "*   Addition\n",
        "*   Subtraction\n",
        "*   Multiplication\n",
        "*   Division\n",
        "*   Matrix multiplication\n",
        "\n"
      ],
      "metadata": {
        "id": "Cn3ndwudkjx5"
      }
    },
    {
      "cell_type": "code",
      "source": [
        "simple_tensor = torch.tensor([8, 9, 14, 17])"
      ],
      "metadata": {
        "id": "eTJ_g4AOlpXI"
      },
      "execution_count": null,
      "outputs": []
    },
    {
      "cell_type": "code",
      "source": [
        "#Addition\n",
        "simple_tensor + 10"
      ],
      "metadata": {
        "colab": {
          "base_uri": "https://localhost:8080/"
        },
        "id": "Gz5D84AtlpaO",
        "outputId": "877ee903-b860-455d-b324-212a2f8dc1d1"
      },
      "execution_count": null,
      "outputs": [
        {
          "output_type": "execute_result",
          "data": {
            "text/plain": [
              "tensor([18, 19, 24, 27])"
            ]
          },
          "metadata": {},
          "execution_count": 16
        }
      ]
    },
    {
      "cell_type": "code",
      "source": [
        "#Multiplication\n",
        "simple_tensor * 11"
      ],
      "metadata": {
        "colab": {
          "base_uri": "https://localhost:8080/"
        },
        "id": "sx4ovDuLlpbx",
        "outputId": "b64d2ede-86cd-44cc-f170-e6580ded4f58"
      },
      "execution_count": null,
      "outputs": [
        {
          "output_type": "execute_result",
          "data": {
            "text/plain": [
              "tensor([ 88,  99, 154, 187])"
            ]
          },
          "metadata": {},
          "execution_count": 17
        }
      ]
    },
    {
      "cell_type": "code",
      "source": [
        "#Division\n",
        "simple_tensor/5"
      ],
      "metadata": {
        "colab": {
          "base_uri": "https://localhost:8080/"
        },
        "id": "rQlhWagnlpe5",
        "outputId": "590f26b1-2d22-4b84-daad-49149ebc4b3e"
      },
      "execution_count": null,
      "outputs": [
        {
          "output_type": "execute_result",
          "data": {
            "text/plain": [
              "tensor([1.6000, 1.8000, 2.8000, 3.4000])"
            ]
          },
          "metadata": {},
          "execution_count": 18
        }
      ]
    },
    {
      "cell_type": "code",
      "source": [
        "## Elementwise multiplication of elements in two vectors having same size\n",
        "vector_basic1 = torch.tensor([5, 6, 7, 8, 9])\n",
        "vector_basic2 = torch.tensor([1, 2, 3, 4, 5])\n",
        "vector_basic1*vector_basic2\n"
      ],
      "metadata": {
        "colab": {
          "base_uri": "https://localhost:8080/"
        },
        "id": "uJZIBbj5v6fl",
        "outputId": "c0be7127-5356-44fb-a748-25f4b23f2508"
      },
      "execution_count": null,
      "outputs": [
        {
          "output_type": "execute_result",
          "data": {
            "text/plain": [
              "tensor([ 5, 12, 21, 32, 45])"
            ]
          },
          "metadata": {},
          "execution_count": 19
        }
      ]
    },
    {
      "cell_type": "markdown",
      "source": [
        "**MATRIX MULTIPLICATION**\n",
        "\n",
        "Shape errors are the most common in tensor operations. For matrix multiplication, number of columns in the first matrix must be equal to number of rows in the second matrix. The resulting matrix will be equal to number of rows in the first matrix and the number of columns in the second matrix."
      ],
      "metadata": {
        "id": "QiE6NARDuanb"
      }
    },
    {
      "cell_type": "code",
      "source": [
        "random_tensor1 = torch.rand(2,4)\n",
        "print(random_tensor1)"
      ],
      "metadata": {
        "colab": {
          "base_uri": "https://localhost:8080/"
        },
        "id": "4QT3b46wlpsP",
        "outputId": "11f6021e-d089-4a77-a600-6eda0915837a"
      },
      "execution_count": null,
      "outputs": [
        {
          "output_type": "stream",
          "name": "stdout",
          "text": [
            "tensor([[0.1053, 0.6358, 0.8100, 0.5604],\n",
            "        [0.9108, 0.9914, 0.4210, 0.0538]])\n"
          ]
        }
      ]
    },
    {
      "cell_type": "code",
      "source": [
        "random_tensor2 = torch.rand(4,2)\n",
        "print(random_tensor2)"
      ],
      "metadata": {
        "colab": {
          "base_uri": "https://localhost:8080/"
        },
        "id": "RtC4WW19er-x",
        "outputId": "eb58d586-d746-441a-d2c5-cfed98fb9683"
      },
      "execution_count": null,
      "outputs": [
        {
          "output_type": "stream",
          "name": "stdout",
          "text": [
            "tensor([[0.9121, 0.4168],\n",
            "        [0.6338, 0.2276],\n",
            "        [0.8645, 0.4073],\n",
            "        [0.1131, 0.6130]])\n"
          ]
        }
      ]
    },
    {
      "cell_type": "code",
      "source": [
        "torch.matmul(random_tensor1, random_tensor2) ##torch.mm is a short name for torch.matmul()"
      ],
      "metadata": {
        "colab": {
          "base_uri": "https://localhost:8080/"
        },
        "id": "CPKJz3cOesCZ",
        "outputId": "05ab7c5a-f4dd-4e79-8cdd-0b66d3a45bb8"
      },
      "execution_count": null,
      "outputs": [
        {
          "output_type": "execute_result",
          "data": {
            "text/plain": [
              "tensor([[1.2627, 0.8620],\n",
              "        [1.8291, 0.8097]])"
            ]
          },
          "metadata": {},
          "execution_count": 22
        }
      ]
    },
    {
      "cell_type": "markdown",
      "source": [
        "**Summary statistics**\n",
        "\n",
        "Takes a vector but returns a scalar\n",
        "\n",
        "*   Min\n",
        "*   Max\n",
        "*   Variance\n",
        "*   Standard deviation\n",
        "*   sum\n",
        "*   median\n",
        "\n"
      ],
      "metadata": {
        "id": "P6yADcbKznp9"
      }
    },
    {
      "cell_type": "code",
      "source": [
        "vector_Stats = torch.arange(100, 700,2)\n",
        "print(vector_Stats.min())\n",
        "print(vector_Stats.max())\n",
        "print(vector_Stats.to(dtype = torch.float).mean()) ## you cannot take mean until the input data type is also float\n",
        "print(vector_Stats.sum())\n",
        "print(vector_Stats.to(dtype = torch.float).median())"
      ],
      "metadata": {
        "colab": {
          "base_uri": "https://localhost:8080/"
        },
        "id": "OrXxm4yrzYYW",
        "outputId": "676bf54f-be21-49e7-e8da-a5ebc229c2ad"
      },
      "execution_count": null,
      "outputs": [
        {
          "output_type": "stream",
          "name": "stdout",
          "text": [
            "tensor(100)\n",
            "tensor(698)\n",
            "tensor(399.)\n",
            "tensor(119700)\n",
            "tensor(398.)\n"
          ]
        }
      ]
    },
    {
      "cell_type": "code",
      "source": [
        "torch.max(vector_Stats), torch.min(vector_Stats), torch.mean(vector_Stats.to(dtype = torch.float)), torch.sum(vector_Stats) ## Another way to take aggregation of tensors"
      ],
      "metadata": {
        "colab": {
          "base_uri": "https://localhost:8080/"
        },
        "id": "twSaw6GG36lc",
        "outputId": "e931212e-660c-4f35-9548-c0b70d955903"
      },
      "execution_count": null,
      "outputs": [
        {
          "output_type": "execute_result",
          "data": {
            "text/plain": [
              "(tensor(698), tensor(100), tensor(399.), tensor(119700))"
            ]
          },
          "metadata": {},
          "execution_count": 24
        }
      ]
    },
    {
      "cell_type": "code",
      "source": [
        "Matrix_stats = torch.rand(5,6)\n",
        "print(Matrix_stats)\n",
        "Matrix_stats.sum(dim = 1)"
      ],
      "metadata": {
        "colab": {
          "base_uri": "https://localhost:8080/"
        },
        "id": "wuC0Ckof3Ce_",
        "outputId": "eb502e43-b52d-4cd9-ffcf-5b40c483f097"
      },
      "execution_count": null,
      "outputs": [
        {
          "output_type": "stream",
          "name": "stdout",
          "text": [
            "tensor([[0.2771, 0.8647, 0.7157, 0.2788, 0.0015, 0.5376],\n",
            "        [0.8107, 0.5450, 0.1043, 0.7332, 0.6019, 0.8027],\n",
            "        [0.6497, 0.0356, 0.5246, 0.0546, 0.6727, 0.7441],\n",
            "        [0.5155, 0.9807, 0.5743, 0.7775, 0.0662, 0.8659],\n",
            "        [0.3098, 0.6865, 0.8202, 0.0953, 0.1963, 0.3169]])\n"
          ]
        },
        {
          "output_type": "execute_result",
          "data": {
            "text/plain": [
              "tensor([2.6754, 3.5979, 2.6814, 3.7801, 2.4248])"
            ]
          },
          "metadata": {},
          "execution_count": 25
        }
      ]
    },
    {
      "cell_type": "markdown",
      "source": [
        "**Change Tensor datatype after it is created**\n",
        "\n",
        "We can specify the datatype of tensor at the time of creating the tensor. However, we can change the datatype of tensor even after the creation.\n",
        "\n",
        "torch.Tensor.type(dtype=None)\n",
        "\n",
        "tensor_name.to(dtype = None)\n"
      ],
      "metadata": {
        "id": "CR5O3PM941-d"
      }
    },
    {
      "cell_type": "code",
      "source": [
        "seq_tensor = torch.arange(1,10,1, dtype= torch.float64)"
      ],
      "metadata": {
        "id": "FcgnEIMw4zgI"
      },
      "execution_count": null,
      "outputs": []
    },
    {
      "cell_type": "code",
      "source": [
        "seq_tensor.dtype ## All the elements of the tensor are of float64 type."
      ],
      "metadata": {
        "id": "Q7UnktfG4gkw",
        "colab": {
          "base_uri": "https://localhost:8080/"
        },
        "outputId": "c7b920da-1a60-40ac-d045-1c9d4dcb53a7"
      },
      "execution_count": null,
      "outputs": [
        {
          "output_type": "execute_result",
          "data": {
            "text/plain": [
              "torch.float64"
            ]
          },
          "metadata": {},
          "execution_count": 27
        }
      ]
    },
    {
      "cell_type": "code",
      "source": [
        "seq_tensor_int = seq_tensor.type(dtype = torch.int32)"
      ],
      "metadata": {
        "id": "r5QC3_9S4gnL"
      },
      "execution_count": null,
      "outputs": []
    },
    {
      "cell_type": "code",
      "source": [
        "seq_tensor_int"
      ],
      "metadata": {
        "id": "2uysYoM14gp7",
        "colab": {
          "base_uri": "https://localhost:8080/"
        },
        "outputId": "0140d4d8-6907-4b36-b231-43807d427553"
      },
      "execution_count": null,
      "outputs": [
        {
          "output_type": "execute_result",
          "data": {
            "text/plain": [
              "tensor([1, 2, 3, 4, 5, 6, 7, 8, 9], dtype=torch.int32)"
            ]
          },
          "metadata": {},
          "execution_count": 29
        }
      ]
    },
    {
      "cell_type": "markdown",
      "source": [
        "## **SQUEEZING and UNSQUEEZING**\n",
        "\n",
        "**Squeezing of a tensor:** If any dimension of a tensor has value equal to 1, squeezing removes that dimension.\n",
        "\n",
        "(1,2,3)-------->>>>(2,3)\n",
        "\n",
        "(2,3,1)-------->>>>(2,3)\n",
        "\n",
        "\n",
        "**Unsqueezing of a tensor:** This can add the value 1 to the specified dimension.\n",
        "\n",
        "(2,3)---------->>>>>(1,2,3)\n",
        "\n",
        "(2,2,3)-------->>>>>(2,1,2,3)"
      ],
      "metadata": {
        "id": "_UrtmD3nhxM-"
      }
    },
    {
      "cell_type": "markdown",
      "source": [
        "### **SQUEEZING OF A TENSOR**"
      ],
      "metadata": {
        "id": "wTgb2-ltqzkg"
      }
    },
    {
      "cell_type": "code",
      "source": [
        "zee = torch.tensor([[[1,2,3],[4,5,6]]])"
      ],
      "metadata": {
        "id": "rPGpfPjK4gvM"
      },
      "execution_count": null,
      "outputs": []
    },
    {
      "cell_type": "code",
      "source": [
        "zee.shape, zee.size()"
      ],
      "metadata": {
        "id": "JJKw85PG4gyl",
        "colab": {
          "base_uri": "https://localhost:8080/"
        },
        "outputId": "de5d286e-2ab8-4d5b-cb8d-b66269a29b7d"
      },
      "execution_count": null,
      "outputs": [
        {
          "output_type": "execute_result",
          "data": {
            "text/plain": [
              "(torch.Size([1, 2, 3]), torch.Size([1, 2, 3]))"
            ]
          },
          "metadata": {},
          "execution_count": 31
        }
      ]
    },
    {
      "cell_type": "code",
      "source": [
        "zee_dim_reduced = torch.squeeze(zee)"
      ],
      "metadata": {
        "id": "nbNieIGFnu9r"
      },
      "execution_count": null,
      "outputs": []
    },
    {
      "cell_type": "code",
      "source": [
        "zee_dim_reduced.size()"
      ],
      "metadata": {
        "colab": {
          "base_uri": "https://localhost:8080/"
        },
        "id": "7PlJnFZUnvBJ",
        "outputId": "4f4763cc-5e2a-459b-a1ed-1e1f26a6ed29"
      },
      "execution_count": null,
      "outputs": [
        {
          "output_type": "execute_result",
          "data": {
            "text/plain": [
              "torch.Size([2, 3])"
            ]
          },
          "metadata": {},
          "execution_count": 33
        }
      ]
    },
    {
      "cell_type": "code",
      "source": [
        "another_tensor = zee.reshape((2,3,1))"
      ],
      "metadata": {
        "id": "-Wmo02VJnvLQ"
      },
      "execution_count": null,
      "outputs": []
    },
    {
      "cell_type": "code",
      "source": [
        "another_tensor"
      ],
      "metadata": {
        "colab": {
          "base_uri": "https://localhost:8080/"
        },
        "id": "WA83ti89pi_1",
        "outputId": "9eed4296-e605-4a1d-95b0-c9c3bb16581f"
      },
      "execution_count": null,
      "outputs": [
        {
          "output_type": "execute_result",
          "data": {
            "text/plain": [
              "tensor([[[1],\n",
              "         [2],\n",
              "         [3]],\n",
              "\n",
              "        [[4],\n",
              "         [5],\n",
              "         [6]]])"
            ]
          },
          "metadata": {},
          "execution_count": 35
        }
      ]
    },
    {
      "cell_type": "code",
      "source": [
        "tensor_squeezed = torch.squeeze(another_tensor)"
      ],
      "metadata": {
        "id": "9aQSvmOApmWc"
      },
      "execution_count": null,
      "outputs": []
    },
    {
      "cell_type": "markdown",
      "source": [
        "### **UNSQUEEZING OF A TENSOR**"
      ],
      "metadata": {
        "id": "ixBAM8AvrEL7"
      }
    },
    {
      "cell_type": "code",
      "source": [
        "two_d_tensor = torch.arange(1,7,1).reshape((2,3))"
      ],
      "metadata": {
        "id": "3NMHqsoWrCz7"
      },
      "execution_count": null,
      "outputs": []
    },
    {
      "cell_type": "code",
      "source": [
        "two_d_tensor.shape"
      ],
      "metadata": {
        "colab": {
          "base_uri": "https://localhost:8080/"
        },
        "id": "X438I610qRPK",
        "outputId": "da24c8d1-adbc-48be-fbc9-241c8baa1fbd"
      },
      "execution_count": null,
      "outputs": [
        {
          "output_type": "execute_result",
          "data": {
            "text/plain": [
              "torch.Size([2, 3])"
            ]
          },
          "metadata": {},
          "execution_count": 38
        }
      ]
    },
    {
      "cell_type": "code",
      "source": [
        "torch.unsqueeze(two_d_tensor, 0 ) ## Added one in the first dimension"
      ],
      "metadata": {
        "colab": {
          "base_uri": "https://localhost:8080/"
        },
        "id": "3iiVtG43sQFU",
        "outputId": "96094678-6e5d-4713-fabb-ececc69cf491"
      },
      "execution_count": null,
      "outputs": [
        {
          "output_type": "execute_result",
          "data": {
            "text/plain": [
              "tensor([[[1, 2, 3],\n",
              "         [4, 5, 6]]])"
            ]
          },
          "metadata": {},
          "execution_count": 39
        }
      ]
    },
    {
      "cell_type": "code",
      "source": [
        "three_d_tensor = torch.arange(0,12,1).reshape((2,2,3))"
      ],
      "metadata": {
        "id": "cU_20xvqsQIu"
      },
      "execution_count": null,
      "outputs": []
    },
    {
      "cell_type": "code",
      "source": [
        "three_d_tensor_unsqueezed = torch.unsqueeze(three_d_tensor, 2 )"
      ],
      "metadata": {
        "id": "8i8gBkxit4cc"
      },
      "execution_count": null,
      "outputs": []
    },
    {
      "cell_type": "code",
      "source": [
        "three_d_tensor.shape, three_d_tensor_unsqueezed.shape"
      ],
      "metadata": {
        "colab": {
          "base_uri": "https://localhost:8080/"
        },
        "id": "GfZM0eFEuWKk",
        "outputId": "92f7ab5c-a8db-4354-cc80-1403fc72d8ab"
      },
      "execution_count": null,
      "outputs": [
        {
          "output_type": "execute_result",
          "data": {
            "text/plain": [
              "(torch.Size([2, 2, 3]), torch.Size([2, 2, 1, 3]))"
            ]
          },
          "metadata": {},
          "execution_count": 42
        }
      ]
    },
    {
      "cell_type": "code",
      "source": [
        "three_d_tensor.ndim, three_d_tensor_unsqueezed.ndim"
      ],
      "metadata": {
        "colab": {
          "base_uri": "https://localhost:8080/"
        },
        "id": "haUO8nFZuWRH",
        "outputId": "864a7a1e-3788-48f6-9764-729aa9d28a22"
      },
      "execution_count": null,
      "outputs": [
        {
          "output_type": "execute_result",
          "data": {
            "text/plain": [
              "(3, 4)"
            ]
          },
          "metadata": {},
          "execution_count": 43
        }
      ]
    },
    {
      "cell_type": "markdown",
      "source": [
        "## **Reshaping tensors**\n",
        "\n",
        "Two methods for reshaping the tensors: **reshape() versus view()**\n",
        "\n",
        "What is the difference between the two methods?\n",
        "\n",
        "The difference is actually quite confusing.\n",
        "\n",
        "view() always returns the view of the original tensor, meaning that the returned tensor shares the same memory with the original tensor.\n",
        "\n",
        "reshape() returns the view or copy of the original tensor. The reshape() method may or may not return the memory with the original tensor.Pytorch documentation says \"When possible, the returned tensor will be a view of input. Otherwise, it will be a copy.\""
      ],
      "metadata": {
        "id": "JGyB76HWu9Er"
      }
    },
    {
      "cell_type": "markdown",
      "source": [
        "## **Reshape**"
      ],
      "metadata": {
        "id": "GGQc_OR41G1P"
      }
    },
    {
      "cell_type": "code",
      "source": [
        "aa = torch.arange(0,12,1)"
      ],
      "metadata": {
        "id": "KoSFNM52uWWc"
      },
      "execution_count": null,
      "outputs": []
    },
    {
      "cell_type": "code",
      "source": [
        "aa_reshaped = aa.reshape((2,3,2))"
      ],
      "metadata": {
        "id": "bll5Wc9LuWbo"
      },
      "execution_count": null,
      "outputs": []
    },
    {
      "cell_type": "code",
      "source": [
        "aa_reshaped[0,0,1] = 55"
      ],
      "metadata": {
        "id": "6J8PcTk3uWhW"
      },
      "execution_count": null,
      "outputs": []
    },
    {
      "cell_type": "code",
      "source": [
        "aa_reshaped, aa ## In this case the reshaped tensor \"aa_reshaped\" is the view of original tensor \"aa\""
      ],
      "metadata": {
        "colab": {
          "base_uri": "https://localhost:8080/"
        },
        "id": "67j_NHgCxKOX",
        "outputId": "52c34042-61c9-467f-ed41-61117a615e85"
      },
      "execution_count": null,
      "outputs": [
        {
          "output_type": "execute_result",
          "data": {
            "text/plain": [
              "(tensor([[[ 0, 55],\n",
              "          [ 2,  3],\n",
              "          [ 4,  5]],\n",
              " \n",
              "         [[ 6,  7],\n",
              "          [ 8,  9],\n",
              "          [10, 11]]]),\n",
              " tensor([ 0, 55,  2,  3,  4,  5,  6,  7,  8,  9, 10, 11]))"
            ]
          },
          "metadata": {},
          "execution_count": 47
        }
      ]
    },
    {
      "cell_type": "code",
      "source": [
        "## Use clone() method to surely get the copy of the original tensor."
      ],
      "metadata": {
        "id": "xSqaG3BX0eOJ"
      },
      "execution_count": null,
      "outputs": []
    },
    {
      "cell_type": "code",
      "source": [
        "aa = torch.arange(0,12,1)"
      ],
      "metadata": {
        "id": "0MOnrQWzxKQ_"
      },
      "execution_count": null,
      "outputs": []
    },
    {
      "cell_type": "code",
      "source": [
        "aa_reshaped = aa.reshape((2,3,2)).clone() ## using clone method to obtain the copy. Tensor \"aa_reshaped\" is the copy of the tensor \"aa\"."
      ],
      "metadata": {
        "id": "cBCQqDlYxKUN"
      },
      "execution_count": null,
      "outputs": []
    },
    {
      "cell_type": "code",
      "source": [
        "aa_reshaped[0,0,1] = 55"
      ],
      "metadata": {
        "id": "pfei3Ntn0U0-"
      },
      "execution_count": null,
      "outputs": []
    },
    {
      "cell_type": "code",
      "source": [
        "aa_reshaped, aa"
      ],
      "metadata": {
        "colab": {
          "base_uri": "https://localhost:8080/"
        },
        "id": "W-5Fk08Y0akg",
        "outputId": "9de83ce1-2830-4c37-8761-022b29f5ddca"
      },
      "execution_count": null,
      "outputs": [
        {
          "output_type": "execute_result",
          "data": {
            "text/plain": [
              "(tensor([[[ 0, 55],\n",
              "          [ 2,  3],\n",
              "          [ 4,  5]],\n",
              " \n",
              "         [[ 6,  7],\n",
              "          [ 8,  9],\n",
              "          [10, 11]]]),\n",
              " tensor([ 0,  1,  2,  3,  4,  5,  6,  7,  8,  9, 10, 11]))"
            ]
          },
          "metadata": {},
          "execution_count": 52
        }
      ]
    },
    {
      "cell_type": "markdown",
      "source": [
        "## **View**"
      ],
      "metadata": {
        "id": "CcAIIllV1Nbg"
      }
    },
    {
      "cell_type": "code",
      "source": [
        "even_num = torch.arange(0,19, 2)"
      ],
      "metadata": {
        "id": "7ELUTmd71Mjj"
      },
      "execution_count": null,
      "outputs": []
    },
    {
      "cell_type": "code",
      "source": [
        "even_num_reshaped = even_num.view((5,2))"
      ],
      "metadata": {
        "id": "N8RU1_8I17lt"
      },
      "execution_count": null,
      "outputs": []
    },
    {
      "cell_type": "code",
      "source": [
        "even_num, even_num_reshaped"
      ],
      "metadata": {
        "colab": {
          "base_uri": "https://localhost:8080/"
        },
        "id": "AWmW7gST17pB",
        "outputId": "02406f46-6e85-45c7-ea31-f0dcd9418dbe"
      },
      "execution_count": null,
      "outputs": [
        {
          "output_type": "execute_result",
          "data": {
            "text/plain": [
              "(tensor([ 0,  2,  4,  6,  8, 10, 12, 14, 16, 18]),\n",
              " tensor([[ 0,  2],\n",
              "         [ 4,  6],\n",
              "         [ 8, 10],\n",
              "         [12, 14],\n",
              "         [16, 18]]))"
            ]
          },
          "metadata": {},
          "execution_count": 55
        }
      ]
    },
    {
      "cell_type": "code",
      "source": [
        "even_num_reshaped[2,1] = -999 ## since \"even_num_reshaped\" is a view, the changes in \"even_num_reshaped\" will be reflected in the original tensor \"even_num\""
      ],
      "metadata": {
        "id": "n8YdmRjo17ql"
      },
      "execution_count": null,
      "outputs": []
    },
    {
      "cell_type": "code",
      "source": [
        "even_num, even_num_reshaped"
      ],
      "metadata": {
        "colab": {
          "base_uri": "https://localhost:8080/"
        },
        "id": "jfxGoQNe17su",
        "outputId": "1589ca63-88ed-4a47-8dd5-445b7c059a38"
      },
      "execution_count": null,
      "outputs": [
        {
          "output_type": "execute_result",
          "data": {
            "text/plain": [
              "(tensor([   0,    2,    4,    6,    8, -999,   12,   14,   16,   18]),\n",
              " tensor([[   0,    2],\n",
              "         [   4,    6],\n",
              "         [   8, -999],\n",
              "         [  12,   14],\n",
              "         [  16,   18]]))"
            ]
          },
          "metadata": {},
          "execution_count": 57
        }
      ]
    },
    {
      "cell_type": "markdown",
      "source": [
        "## **INDEXING AND SLICING OF TENSORS**"
      ],
      "metadata": {
        "id": "XmSWTE3b5J6T"
      }
    },
    {
      "cell_type": "markdown",
      "source": [
        "## *One_dimensional tensor*"
      ],
      "metadata": {
        "id": "E9kE2b0r6lpj"
      }
    },
    {
      "cell_type": "code",
      "source": [
        "oneD_tensor = torch.arange(0,10, 1)\n",
        "oneD_tensor"
      ],
      "metadata": {
        "colab": {
          "base_uri": "https://localhost:8080/"
        },
        "id": "IqUS-jwv5IF_",
        "outputId": "407bf374-f8fb-4cbd-cd00-6217e0e99476"
      },
      "execution_count": null,
      "outputs": [
        {
          "output_type": "execute_result",
          "data": {
            "text/plain": [
              "tensor([0, 1, 2, 3, 4, 5, 6, 7, 8, 9])"
            ]
          },
          "metadata": {},
          "execution_count": 58
        }
      ]
    },
    {
      "cell_type": "code",
      "source": [
        "## Indexing\n",
        "oneD_tensor[0]\n"
      ],
      "metadata": {
        "colab": {
          "base_uri": "https://localhost:8080/"
        },
        "id": "pcpatAuT5IIZ",
        "outputId": "6f16cf48-0a76-44d8-9bb9-46e5184bde85"
      },
      "execution_count": null,
      "outputs": [
        {
          "output_type": "execute_result",
          "data": {
            "text/plain": [
              "tensor(0)"
            ]
          },
          "metadata": {},
          "execution_count": 59
        }
      ]
    },
    {
      "cell_type": "code",
      "source": [
        "## slicing\n",
        "oneD_tensor[2:6:2]"
      ],
      "metadata": {
        "colab": {
          "base_uri": "https://localhost:8080/"
        },
        "id": "pyk4EScS5ILK",
        "outputId": "16ca90cb-51b6-4312-9454-fbf246982183"
      },
      "execution_count": null,
      "outputs": [
        {
          "output_type": "execute_result",
          "data": {
            "text/plain": [
              "tensor([2, 4])"
            ]
          },
          "metadata": {},
          "execution_count": 60
        }
      ]
    },
    {
      "cell_type": "code",
      "source": [
        "## Fancy indexing and slicing with tensors\n",
        "oneD_tensor[torch.tensor([0, 7, 9])]"
      ],
      "metadata": {
        "colab": {
          "base_uri": "https://localhost:8080/"
        },
        "id": "VvTA6Wzr5IOc",
        "outputId": "1ab8c6db-dc17-4859-d52a-be78fef92b14"
      },
      "execution_count": null,
      "outputs": [
        {
          "output_type": "execute_result",
          "data": {
            "text/plain": [
              "tensor([0, 7, 9])"
            ]
          },
          "metadata": {},
          "execution_count": 61
        }
      ]
    },
    {
      "cell_type": "markdown",
      "source": [
        "## *Two dimensional Tensor*"
      ],
      "metadata": {
        "id": "4ETZpQTG607b"
      }
    },
    {
      "cell_type": "code",
      "source": [
        "two_d_tensor = torch.arange(0, 9 ,1).reshape(3,3)\n",
        "two_d_tensor"
      ],
      "metadata": {
        "colab": {
          "base_uri": "https://localhost:8080/"
        },
        "id": "jJIYqDX160C1",
        "outputId": "07ee5afc-321f-498b-e445-b5d4ba717782"
      },
      "execution_count": null,
      "outputs": [
        {
          "output_type": "execute_result",
          "data": {
            "text/plain": [
              "tensor([[0, 1, 2],\n",
              "        [3, 4, 5],\n",
              "        [6, 7, 8]])"
            ]
          },
          "metadata": {},
          "execution_count": 62
        }
      ]
    },
    {
      "cell_type": "code",
      "source": [
        "## Indexing\n",
        "two_d_tensor[1, 1] ## we can use item() method to retrieve an integer from the tensor"
      ],
      "metadata": {
        "colab": {
          "base_uri": "https://localhost:8080/"
        },
        "id": "AP8nY8uF7Y-L",
        "outputId": "1f5ab21f-a678-45b9-88f3-27b7bfbae218"
      },
      "execution_count": null,
      "outputs": [
        {
          "output_type": "execute_result",
          "data": {
            "text/plain": [
              "tensor(4)"
            ]
          },
          "metadata": {},
          "execution_count": 63
        }
      ]
    },
    {
      "cell_type": "code",
      "source": [
        "## Slicing\n",
        "two_d_tensor[0,:]"
      ],
      "metadata": {
        "colab": {
          "base_uri": "https://localhost:8080/"
        },
        "id": "6TMHwuJD8Dfg",
        "outputId": "96e82b4d-d4c7-4230-e72f-d0901c8eb216"
      },
      "execution_count": null,
      "outputs": [
        {
          "output_type": "execute_result",
          "data": {
            "text/plain": [
              "tensor([0, 1, 2])"
            ]
          },
          "metadata": {},
          "execution_count": 64
        }
      ]
    },
    {
      "cell_type": "code",
      "source": [
        "two_d_tensor[0][2]"
      ],
      "metadata": {
        "colab": {
          "base_uri": "https://localhost:8080/"
        },
        "id": "u9tJ2JxV8dqu",
        "outputId": "595cba90-3368-4205-9a26-e106952209c8"
      },
      "execution_count": null,
      "outputs": [
        {
          "output_type": "execute_result",
          "data": {
            "text/plain": [
              "tensor(2)"
            ]
          },
          "metadata": {},
          "execution_count": 65
        }
      ]
    },
    {
      "cell_type": "code",
      "source": [
        "##Fancy slicing\n",
        "ss = torch.arange(0,16).reshape(4,4).type(dtype = torch.float32)\n",
        "ss"
      ],
      "metadata": {
        "colab": {
          "base_uri": "https://localhost:8080/"
        },
        "id": "7fAgnxyM8pFo",
        "outputId": "2b2414e6-4fd9-47fe-c467-8f87232de9d7"
      },
      "execution_count": null,
      "outputs": [
        {
          "output_type": "execute_result",
          "data": {
            "text/plain": [
              "tensor([[ 0.,  1.,  2.,  3.],\n",
              "        [ 4.,  5.,  6.,  7.],\n",
              "        [ 8.,  9., 10., 11.],\n",
              "        [12., 13., 14., 15.]])"
            ]
          },
          "metadata": {},
          "execution_count": 66
        }
      ]
    },
    {
      "cell_type": "code",
      "source": [
        "ss[:, [0,2,3]]"
      ],
      "metadata": {
        "colab": {
          "base_uri": "https://localhost:8080/"
        },
        "id": "lFPdYOxq9daV",
        "outputId": "625f5649-d82c-45ed-b1fc-925feea257db"
      },
      "execution_count": null,
      "outputs": [
        {
          "output_type": "execute_result",
          "data": {
            "text/plain": [
              "tensor([[ 0.,  2.,  3.],\n",
              "        [ 4.,  6.,  7.],\n",
              "        [ 8., 10., 11.],\n",
              "        [12., 14., 15.]])"
            ]
          },
          "metadata": {},
          "execution_count": 67
        }
      ]
    },
    {
      "cell_type": "markdown",
      "source": [
        "## **Modification/Replacement of values in tensors**\n",
        "\n",
        "We replace the single value or group of values in a tensor in the same way as it happens in Numpy arrays."
      ],
      "metadata": {
        "id": "lIPox6KR-Kt5"
      }
    },
    {
      "cell_type": "code",
      "source": [
        "ss"
      ],
      "metadata": {
        "colab": {
          "base_uri": "https://localhost:8080/"
        },
        "id": "oR9IO71h-YBX",
        "outputId": "7b9b01fd-0881-4565-d2fd-d361b35a17df"
      },
      "execution_count": null,
      "outputs": [
        {
          "output_type": "execute_result",
          "data": {
            "text/plain": [
              "tensor([[ 0.,  1.,  2.,  3.],\n",
              "        [ 4.,  5.,  6.,  7.],\n",
              "        [ 8.,  9., 10., 11.],\n",
              "        [12., 13., 14., 15.]])"
            ]
          },
          "metadata": {},
          "execution_count": 68
        }
      ]
    },
    {
      "cell_type": "code",
      "source": [
        "ss[2,2] = -999"
      ],
      "metadata": {
        "id": "3rznGRYO-YEP"
      },
      "execution_count": null,
      "outputs": []
    },
    {
      "cell_type": "code",
      "source": [
        "ss"
      ],
      "metadata": {
        "colab": {
          "base_uri": "https://localhost:8080/"
        },
        "id": "juSKLclO-YGe",
        "outputId": "cf717c33-3214-4574-f62b-c39dc5e67095"
      },
      "execution_count": null,
      "outputs": [
        {
          "output_type": "execute_result",
          "data": {
            "text/plain": [
              "tensor([[   0.,    1.,    2.,    3.],\n",
              "        [   4.,    5.,    6.,    7.],\n",
              "        [   8.,    9., -999.,   11.],\n",
              "        [  12.,   13.,   14.,   15.]])"
            ]
          },
          "metadata": {},
          "execution_count": 70
        }
      ]
    },
    {
      "cell_type": "code",
      "source": [
        "ss[:, 3] = torch.tensor([-5,-6,-7,-8])"
      ],
      "metadata": {
        "id": "Wd1OQ8de-zdk"
      },
      "execution_count": null,
      "outputs": []
    },
    {
      "cell_type": "code",
      "source": [
        "ss"
      ],
      "metadata": {
        "colab": {
          "base_uri": "https://localhost:8080/"
        },
        "id": "s8FFBiSX-zgx",
        "outputId": "d1cf434a-3af5-4055-eb66-0e3a67f5bbff"
      },
      "execution_count": null,
      "outputs": [
        {
          "output_type": "execute_result",
          "data": {
            "text/plain": [
              "tensor([[   0.,    1.,    2.,   -5.],\n",
              "        [   4.,    5.,    6.,   -6.],\n",
              "        [   8.,    9., -999.,   -7.],\n",
              "        [  12.,   13.,   14.,   -8.]])"
            ]
          },
          "metadata": {},
          "execution_count": 72
        }
      ]
    },
    {
      "cell_type": "markdown",
      "source": [
        "## **INTEROPERABILITY OF NUMPY AND PYTORCH**\n",
        "\n",
        "Yes, we can convert numpy arrays into tensors and vice versa. Numpy arrays provide the foundation for many machine learning and deep learning libraries.\n",
        "\n",
        "We can convert numpy arrays into pytorch tensors using **torch.from_numpy(ndarray)** method.\n",
        "\n",
        "Similarly we can convert tensors into numpy arrays into tensors using **torch.Tensor.numpy()**"
      ],
      "metadata": {
        "id": "YeL-78sEAHkG"
      }
    },
    {
      "cell_type": "code",
      "source": [
        "import numpy as np"
      ],
      "metadata": {
        "id": "MrbxGx_H_IIt"
      },
      "execution_count": null,
      "outputs": []
    },
    {
      "cell_type": "code",
      "source": [
        "two_d_array = np.array([[1, 2, 3],[4, 5, 6]])\n",
        "two_d_array"
      ],
      "metadata": {
        "colab": {
          "base_uri": "https://localhost:8080/"
        },
        "id": "2H58QhHo_IL4",
        "outputId": "3061adc6-676b-4358-f513-24fcc451e999"
      },
      "execution_count": null,
      "outputs": [
        {
          "output_type": "execute_result",
          "data": {
            "text/plain": [
              "array([[1, 2, 3],\n",
              "       [4, 5, 6]])"
            ]
          },
          "metadata": {},
          "execution_count": 74
        }
      ]
    },
    {
      "cell_type": "code",
      "source": [
        "two_d_tensor = torch.tensor([[-9, -8, 3],[7, 15, 16]])\n",
        "two_d_tensor"
      ],
      "metadata": {
        "colab": {
          "base_uri": "https://localhost:8080/"
        },
        "id": "0_af8yiaC_IY",
        "outputId": "4a3320b6-70a7-45b0-8794-be0b49c0eacf"
      },
      "execution_count": null,
      "outputs": [
        {
          "output_type": "execute_result",
          "data": {
            "text/plain": [
              "tensor([[-9, -8,  3],\n",
              "        [ 7, 15, 16]])"
            ]
          },
          "metadata": {},
          "execution_count": 75
        }
      ]
    },
    {
      "cell_type": "code",
      "source": [
        "#two_d_array + two_d_tensor   ## will give an error if we try to add one numpy array and the other tensor"
      ],
      "metadata": {
        "id": "Tv_0tmNtDuRK"
      },
      "execution_count": null,
      "outputs": []
    },
    {
      "cell_type": "code",
      "source": [
        "two_d_array_to_tensor = torch.from_numpy(two_d_array)\n",
        "two_d_array_to_tensor"
      ],
      "metadata": {
        "colab": {
          "base_uri": "https://localhost:8080/"
        },
        "id": "zSFW-7miDVuy",
        "outputId": "79abe5e3-a448-4a23-800a-f9e913718491"
      },
      "execution_count": null,
      "outputs": [
        {
          "output_type": "execute_result",
          "data": {
            "text/plain": [
              "tensor([[1, 2, 3],\n",
              "        [4, 5, 6]])"
            ]
          },
          "metadata": {},
          "execution_count": 77
        }
      ]
    },
    {
      "cell_type": "code",
      "source": [
        "## Then we can add two tensors\n",
        "two_d_tensor + two_d_array_to_tensor"
      ],
      "metadata": {
        "colab": {
          "base_uri": "https://localhost:8080/"
        },
        "id": "PrgXGs3mDVx9",
        "outputId": "49923bf0-90c7-43c9-cc83-d56d7ae79fe1"
      },
      "execution_count": null,
      "outputs": [
        {
          "output_type": "execute_result",
          "data": {
            "text/plain": [
              "tensor([[-8, -6,  6],\n",
              "        [11, 20, 22]])"
            ]
          },
          "metadata": {},
          "execution_count": 78
        }
      ]
    },
    {
      "cell_type": "code",
      "source": [
        "two_d_tensor_to_array = torch.Tensor.numpy(two_d_tensor)\n",
        "two_d_tensor_to_array"
      ],
      "metadata": {
        "colab": {
          "base_uri": "https://localhost:8080/"
        },
        "id": "89NWBQCNEHby",
        "outputId": "dd677f8b-9193-44aa-e703-af9ec42c25f4"
      },
      "execution_count": null,
      "outputs": [
        {
          "output_type": "execute_result",
          "data": {
            "text/plain": [
              "array([[-9, -8,  3],\n",
              "       [ 7, 15, 16]])"
            ]
          },
          "metadata": {},
          "execution_count": 79
        }
      ]
    },
    {
      "cell_type": "code",
      "source": [
        "two_d_array + two_d_tensor_to_array"
      ],
      "metadata": {
        "colab": {
          "base_uri": "https://localhost:8080/"
        },
        "id": "-37yRkM7EHfA",
        "outputId": "62270944-6567-4221-8ae4-c778e3eeacc7"
      },
      "execution_count": null,
      "outputs": [
        {
          "output_type": "execute_result",
          "data": {
            "text/plain": [
              "array([[-8, -6,  6],\n",
              "       [11, 20, 22]])"
            ]
          },
          "metadata": {},
          "execution_count": 80
        }
      ]
    },
    {
      "cell_type": "code",
      "source": [
        "torch.cuda.is_available()"
      ],
      "metadata": {
        "colab": {
          "base_uri": "https://localhost:8080/"
        },
        "id": "Rlxj_gj_Guks",
        "outputId": "7bce587f-e831-42d5-d94d-4dbd59dce000"
      },
      "execution_count": null,
      "outputs": [
        {
          "output_type": "execute_result",
          "data": {
            "text/plain": [
              "True"
            ]
          },
          "metadata": {},
          "execution_count": 81
        }
      ]
    }
  ]
}